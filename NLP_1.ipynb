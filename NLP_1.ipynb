{
  "nbformat": 4,
  "nbformat_minor": 0,
  "metadata": {
    "colab": {
      "name": "NLP 1.ipynb",
      "provenance": [],
      "include_colab_link": true
    },
    "kernelspec": {
      "name": "python3",
      "display_name": "Python 3"
    },
    "language_info": {
      "name": "python"
    }
  },
  "cells": [
    {
      "cell_type": "markdown",
      "metadata": {
        "id": "view-in-github",
        "colab_type": "text"
      },
      "source": [
        "<a href=\"https://colab.research.google.com/github/nurkomarhidaya/Machine-Learning-TensorFlow/blob/main/NLP_1.ipynb\" target=\"_parent\"><img src=\"https://colab.research.google.com/assets/colab-badge.svg\" alt=\"Open In Colab\"/></a>"
      ]
    },
    {
      "cell_type": "markdown",
      "source": [
        "## Tokenizer"
      ],
      "metadata": {
        "id": "OOxocCbA5Q0o"
      }
    },
    {
      "cell_type": "code",
      "execution_count": null,
      "metadata": {
        "colab": {
          "base_uri": "https://localhost:8080/"
        },
        "id": "YfQ4S02ekPOr",
        "outputId": "a97a48f6-f4b9-4059-a6fb-1d6ec872a62d"
      },
      "outputs": [
        {
          "output_type": "stream",
          "name": "stdout",
          "text": [
            "{'<OOV>': 1, 'my': 2, 'i': 3, 'love': 4, 'dog': 5, 'cat': 6, 'do': 7, 'you': 8, 'think': 9, 'is': 10, 'amazing': 11}\n"
          ]
        }
      ],
      "source": [
        "import tensorflow as tf\n",
        "from tensorflow import keras\n",
        "from keras.preprocessing.text import Tokenizer\n",
        "\n",
        "sentences = [\n",
        "             \"I love my dog\",\n",
        "             \"I love my cat\",\n",
        "             \"Do you think my dog is amazing?\"\n",
        "]\n",
        "\n",
        "tokenizer = Tokenizer(num_words = 100, oov_token = \"<OOV>\") # Out of Vocab\n",
        "tokenizer.fit_on_texts(sentences)\n",
        "word_index = tokenizer.word_index\n",
        "print(word_index)"
      ]
    },
    {
      "cell_type": "markdown",
      "source": [
        "## Padding and Truncating"
      ],
      "metadata": {
        "id": "wnSRwXEG5Vev"
      }
    },
    {
      "cell_type": "code",
      "source": [
        "from tensorflow.keras.preprocessing.sequence import pad_sequences\n",
        "sequences = tokenizer.texts_to_sequences(sentences)\n",
        "\n",
        "padded = pad_sequences(sequences, padding=\"post\", truncating=\"post\", maxlen=5)\n",
        "padded"
      ],
      "metadata": {
        "colab": {
          "base_uri": "https://localhost:8080/"
        },
        "id": "Qn4I7w3uqOrN",
        "outputId": "c6a7502b-51a5-4926-97e5-27c41d0faa07"
      },
      "execution_count": null,
      "outputs": [
        {
          "output_type": "execute_result",
          "data": {
            "text/plain": [
              "array([[3, 4, 2, 5, 0],\n",
              "       [3, 4, 2, 6, 0],\n",
              "       [7, 8, 9, 2, 5]], dtype=int32)"
            ]
          },
          "metadata": {},
          "execution_count": 23
        }
      ]
    },
    {
      "cell_type": "code",
      "source": [
        "test_data = [\n",
        "             \"I really love my dog\",\n",
        "             \"my dog loves my manatee\"\n",
        "]\n",
        "\n",
        "test_seq = tokenizer.texts_to_sequences(test_data)\n",
        "test_seq"
      ],
      "metadata": {
        "colab": {
          "base_uri": "https://localhost:8080/"
        },
        "id": "luHyrpGNtDDV",
        "outputId": "17b57817-8cb5-4e49-9b84-1c682b766418"
      },
      "execution_count": null,
      "outputs": [
        {
          "output_type": "execute_result",
          "data": {
            "text/plain": [
              "[[3, 1, 4, 2, 5], [2, 5, 1, 2, 1]]"
            ]
          },
          "metadata": {},
          "execution_count": 13
        }
      ]
    },
    {
      "cell_type": "code",
      "source": [
        "from tensorflow.keras.preprocessing.sequence import pad_sequences\n",
        "\n",
        "padded1 = pad_sequences(sequences)\n",
        "padded2 = pad_sequences(sequences, padding = \"post\")\n",
        "padded3 = pad_sequences(sequences, padding = \"post\", maxlen = 5)\n",
        "padded4 = pad_sequences(sequences, padding = \"post\", truncating = \"post\", maxlen = 5)\n",
        "\n",
        "print(\"First Padded :\\n\",padded1)\n",
        "print(\"Second Padded :\\n\",padded2)\n",
        "print(\"Third Padded :\\n\",padded3)\n",
        "print(\"Fourth Padded :\\n\",padded4)"
      ],
      "metadata": {
        "colab": {
          "base_uri": "https://localhost:8080/"
        },
        "id": "MsIbTfxguJC5",
        "outputId": "868fe0b0-0d07-48f6-b058-5eb420ac1da1"
      },
      "execution_count": null,
      "outputs": [
        {
          "output_type": "stream",
          "name": "stdout",
          "text": [
            "First Padded :\n",
            " [[ 0  0  0  3  4  2  5]\n",
            " [ 0  0  0  3  4  2  6]\n",
            " [ 7  8  9  2  5 10 11]]\n",
            "Second Padded :\n",
            " [[ 3  4  2  5  0  0  0]\n",
            " [ 3  4  2  6  0  0  0]\n",
            " [ 7  8  9  2  5 10 11]]\n",
            "Third Padded :\n",
            " [[ 3  4  2  5  0]\n",
            " [ 3  4  2  6  0]\n",
            " [ 9  2  5 10 11]]\n",
            "Fourth Padded :\n",
            " [[3 4 2 5 0]\n",
            " [3 4 2 6 0]\n",
            " [7 8 9 2 5]]\n"
          ]
        }
      ]
    }
  ]
}