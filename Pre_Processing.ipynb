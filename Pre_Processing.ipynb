{
  "nbformat": 4,
  "nbformat_minor": 0,
  "metadata": {
    "colab": {
      "name": "Pre_Processing.ipynb",
      "provenance": [],
      "collapsed_sections": [],
      "include_colab_link": true
    },
    "kernelspec": {
      "name": "python3",
      "display_name": "Python 3"
    },
    "language_info": {
      "name": "python"
    }
  },
  "cells": [
    {
      "cell_type": "markdown",
      "metadata": {
        "id": "view-in-github",
        "colab_type": "text"
      },
      "source": [
        "<a href=\"https://colab.research.google.com/github/nurkomarhidaya/Machine-Learning-TensorFlow/blob/main/Pre_Processing.ipynb\" target=\"_parent\"><img src=\"https://colab.research.google.com/assets/colab-badge.svg\" alt=\"Open In Colab\"/></a>"
      ]
    },
    {
      "cell_type": "code",
      "execution_count": null,
      "metadata": {
        "id": "SEn3TCAcCgfM"
      },
      "outputs": [],
      "source": [
        "artikel = \"\"\"Most Americans now carry some immune protection, experts said, whether from vaccines, infection or both.\n",
        "For two years, the coronavirus killed Americans on a brutal, predictable schedule: A few weeks after infections climbed so did deaths, cutting an unforgiving path across the country.\n",
        "\n",
        "But that pattern appears to have changed. Nearly three months since an ultra-contagious set of new Omicron variants launched a springtime resurgence of cases, people are nonetheless dying from Covid at a rate close to the lowest of the pandemic.\n",
        "\n",
        "The spread of the virus and the number of deaths in its wake, two measures that were once yoked together, have diverged more than ever before, epidemiologists said. Deaths have ticked up slowly in the northeastern United States, where the latest wave began, and are likely to do the same nationally as the surge pushes across the South and West. But the country remains better fortified against Covid deaths than earlier in the pandemic, scientists said.\n",
        "\n",
        "Because so many Americans have now been vaccinated or infected or both, they said, the number of people whose immune systems are entirely unprepared for the virus has significantly dwindled.\n",
        "\n",
        "“In previous waves, there were still substantial pockets of people who had not been vaccinated or exposed to the virus, and so were at the same risk of dying as people at the beginning of the pandemic,” said Dr. David Dowdy, an epidemiologist at Johns Hopkins Bloomberg School of Public Health. “Those pockets don’t exist anymore.”\n",
        "\n",
        "That turn in the pandemic has nevertheless left many Americans behind.\n",
        "\n",
        "Older people make up a larger share of Covid deaths than they did last year. The virus continues to kill unvaccinated people at much higher rates than vaccinated people, despite many unvaccinated people having some protection from prior infections. And those with weakened immune systems also face greater risks.\n",
        "\n",
        "Covid is still killing an average of 314 people daily, one-tenth the number who were dying every day in January 2021, but, even so, an awful toll. At that rate, the virus is killing more than twice as many Americans every day as suicide or car crashes are. And many of those who survive the virus are debilitated, some of them for long after their infections.\n",
        "\n",
        "With the country’s resources for fighting the virus drying up and many Americans forgoing booster shots, the decoupling of cases and deaths may not last. Immunity will wane and a more evasive variant could cut into people’s residual protection against severe disease.\n",
        "\n",
        "“As the time since people got vaccinated becomes longer and longer, the efficacy of the immune response will be lessened,” said Dr. Abraar Karan, an infectious disease physician at Stanford University. “We can be caught off guard later this year.”\n",
        "\n",
        "The link between Covid cases and deaths started weakening over the winter, scientists said, but the sheer volume of Americans getting infected meant that fatalities still soared.\n",
        "\n",
        "This spring, Covid has been killing fewer Americans daily than during any period except the summer of 2021. The country is now recording 10 times as many cases as it was at that time, indicating that a smaller share of cases are ending in death.\n",
        "\n",
        "By some estimates, the case fatality rate — the share of recorded Covid cases that prove deadly — is one-third lower than it was last summer and one-quarter lower than it was in December. Recorded cases always understate actual infection levels, and the prevalence of at-home testing these days has made that especially true.\n",
        "\n",
        "To account for those problems, Dr. Dowdy looked at the proportion of reported test results that are positive, a figure known as test positivity. That measure, too, is imperfect, but it reflects the enormous numbers of Americans who recently contracted the virus; some scientists estimate that the current wave of cases is the second-largest of the pandemic.\n",
        "\n",
        "By his rough calculations, Dr. Dowdy estimated that the ratio of deaths to test positivity fell threefold from the early days of the pandemic to January 2022, and fourfold from January 2022 to this spring.\n",
        "\n",
        "“What we’re seeing is that the average case of Covid-19 is becoming much milder,” he said.\n",
        "\n",
        "That is a better reflection of gains in immunity than it is of any intrinsic weakening of the virus, scientists said. Government estimates of the share of Americans who have contracted the virus jumped from one-third in December 2021 to well over one-half two months later.\n",
        "\n",
        "The country paid a staggering price: Some 200,000 people were killed by Covid this winter and large numbers beyond that were seriously sickened. But those who survived infections emerged with immune systems that had learned to better deal with the virus.\n",
        "\n",
        "“Our level of community immunity heading into this wave was much higher than it’s ever been due to the combination of infection and vaccination,” said Dr. Joe Gerald, an associate professor of public health at the University of Arizona. “A lot of people who weren’t vaccinated, and were infection-naive — most of them were infected with Omicron over the period from January to early March.”\n",
        "\n",
        "In the Northeast, where the Omicron subvariants first took hold this spring, deaths climbed as cases surged. In New York, the daily average of Covid deaths rose from eight in April to about 24 in mid-June. Daily deaths in New England increased from five to a peak of 34 over the same period.\n",
        "\n",
        "But across the United States, where cases have been climbing since early April, deaths have remained roughly level. In each previous wave, national Covid deaths surged several weeks after cases did.\n",
        "\n",
        "“I think it’s somewhat reassuring that deaths didn’t really spike as they had during earlier points of the pandemic,” said Jennifer Nuzzo, an epidemiologist at Brown University.\n",
        "\n",
        "Virginia Pitzer, an epidemiologist at the Yale School of Public Health, said that shift stemmed in part from a growing share of cases occurring in people who were fully vaccinated, previously infected or both. In Arizona, for instance, the share of Covid cases being recorded in vaccinated people grew to 60 percent in April from 25 percent five months earlier.\n",
        "\n",
        "In a country as large as the United States, every Covid wave is also a collection of staggered regional surges, complicating national trends. In early May, for example, continued declines in Covid deaths in the South and the West from the wintertime Omicron wave might have helped to obscure rising mortality levels in the Northeast.\n",
        "\n",
        "Some states have also moved from reporting Covid deaths daily to doing so weekly, and they have only slowly caught up from holiday reporting breaks, causing more frequent daily swings in the data.\n",
        "\n",
        "And some states said that so many residents had died from Covid this winter that it took them weeks to report all of those deaths publicly. That, too, could have affected the national death curve.\n",
        "\n",
        "“Our surveillance system in the U.S. is not as strong as it should be or could be,” Dr. Gerald said, “and it does make it more difficult for us to understand the pace and trajectory of the outbreak.”\n",
        "\n",
        "There are a number of possible reasons that Covid deaths have not fallen even further. With infection levels so high and few precautions being taken, the virus is inevitably reaching people who are more vulnerable because of their vaccine status, age or underlying conditions. And even as some people gain immune protection during the pandemic, others become more susceptible to bad outcomes as they age or develop weakened immune systems.\n",
        "\n",
        "The country’s stagnant booster campaign has also left many older people at a long distance from their last shot and so vulnerable to the effects of waning immunity.\n",
        "\n",
        "“Overall, the people who’ve been coming through with Covid are much, much less sick than they were even this winter,” said Dr. Megan Ranney, an emergency physician at Brown University. “It feels like almost a different disease for folks, with the exception of people who are really old, who are unvaccinated or who are immunosuppressed.”\n",
        "\n",
        "Disparities in access to booster shots and antiviral pills have also put some Americans at higher risk. Black and Hispanic people eligible for boosters have received the shots at lower rates than white people have, reflecting what some epidemiologists describe as limited efforts in some states to put boosters within easy reach. Patients who do not have primary care doctors, or who live far from pharmacies, can also struggle to get antiviral pills.\n",
        "\n",
        "The number of hospitalized Covid patients is still climbing nationally, making it likely that increases in deaths will gradually follow, epidemiologists said. It is unclear how hard the wave will hit less-vaccinated regions, like the South, where immunity from past infections has also grown.\n",
        "\n",
        "“Unfortunately, vaccination rates in many southern states are among the lowest in the country,” said Jason Salemi, a professor of epidemiology at the University of South Florida. “But there is certainly a lot of immunity built up through prior infection.”\n",
        "\n",
        "Even as fewer cases turn deadly, the unprecedented number of infections this winter and spring has created significant problems of its own. In the United States, one in five adult survivors of Covid under 65 has dealt with some version of long Covid, a recent study found. Many people have missed work, including doctors, whose absences this spring have periodically strained hospitals that already had staffing problems.\n",
        "\n",
        "Dr. Karan, of Stanford, said that he had lingering symptoms from a January bout with Covid until April. A month later, he was infected again. As of last week, he said, with the subvariant surge hitting California, his team of five doctors at one of the hospitals where he works had been reduced to two because of Covid absences, forcing delays to consultations for some patients.\n",
        "\n",
        "In the Northeast, where cases have been falling for several weeks, Dr. Ranney said that Covid patients had generally been spending less time in the hospital during the latest wave.\n",
        "\n",
        "They had also been presenting differently, she said. In previous surges, patients’ most pressing difficulties tended to be the direct result of Covid, like low oxygen levels or severe pneumonia. This spring, she said, more patients needed care because Covid had exacerbated underlying conditions, like diabetes or heart trouble.\n",
        "\n",
        "“This wave feels qualitatively and quantitatively different,” Dr. Ranney said. “We’re not seeing our I.C.U. get filled up with patients who are gasping for breath or who are on death’s door.” \"\"\""
      ]
    },
    {
      "cell_type": "code",
      "source": [
        "print(artikel)"
      ],
      "metadata": {
        "id": "xwXr5evSCysq",
        "colab": {
          "base_uri": "https://localhost:8080/"
        },
        "outputId": "fff9c109-a624-46fc-de92-ec87528bf051"
      },
      "execution_count": null,
      "outputs": [
        {
          "output_type": "stream",
          "name": "stdout",
          "text": [
            "Most Americans now carry some immune protection, experts said, whether from vaccines, infection or both.\n",
            "For two years, the coronavirus killed Americans on a brutal, predictable schedule: A few weeks after infections climbed so did deaths, cutting an unforgiving path across the country.\n",
            "\n",
            "But that pattern appears to have changed. Nearly three months since an ultra-contagious set of new Omicron variants launched a springtime resurgence of cases, people are nonetheless dying from Covid at a rate close to the lowest of the pandemic.\n",
            "\n",
            "The spread of the virus and the number of deaths in its wake, two measures that were once yoked together, have diverged more than ever before, epidemiologists said. Deaths have ticked up slowly in the northeastern United States, where the latest wave began, and are likely to do the same nationally as the surge pushes across the South and West. But the country remains better fortified against Covid deaths than earlier in the pandemic, scientists said.\n",
            "\n",
            "Because so many Americans have now been vaccinated or infected or both, they said, the number of people whose immune systems are entirely unprepared for the virus has significantly dwindled.\n",
            "\n",
            "“In previous waves, there were still substantial pockets of people who had not been vaccinated or exposed to the virus, and so were at the same risk of dying as people at the beginning of the pandemic,” said Dr. David Dowdy, an epidemiologist at Johns Hopkins Bloomberg School of Public Health. “Those pockets don’t exist anymore.”\n",
            "\n",
            "That turn in the pandemic has nevertheless left many Americans behind.\n",
            "\n",
            "Older people make up a larger share of Covid deaths than they did last year. The virus continues to kill unvaccinated people at much higher rates than vaccinated people, despite many unvaccinated people having some protection from prior infections. And those with weakened immune systems also face greater risks.\n",
            "\n",
            "Covid is still killing an average of 314 people daily, one-tenth the number who were dying every day in January 2021, but, even so, an awful toll. At that rate, the virus is killing more than twice as many Americans every day as suicide or car crashes are. And many of those who survive the virus are debilitated, some of them for long after their infections.\n",
            "\n",
            "With the country’s resources for fighting the virus drying up and many Americans forgoing booster shots, the decoupling of cases and deaths may not last. Immunity will wane and a more evasive variant could cut into people’s residual protection against severe disease.\n",
            "\n",
            "“As the time since people got vaccinated becomes longer and longer, the efficacy of the immune response will be lessened,” said Dr. Abraar Karan, an infectious disease physician at Stanford University. “We can be caught off guard later this year.”\n",
            "\n",
            "The link between Covid cases and deaths started weakening over the winter, scientists said, but the sheer volume of Americans getting infected meant that fatalities still soared.\n",
            "\n",
            "This spring, Covid has been killing fewer Americans daily than during any period except the summer of 2021. The country is now recording 10 times as many cases as it was at that time, indicating that a smaller share of cases are ending in death.\n",
            "\n",
            "By some estimates, the case fatality rate — the share of recorded Covid cases that prove deadly — is one-third lower than it was last summer and one-quarter lower than it was in December. Recorded cases always understate actual infection levels, and the prevalence of at-home testing these days has made that especially true.\n",
            "\n",
            "To account for those problems, Dr. Dowdy looked at the proportion of reported test results that are positive, a figure known as test positivity. That measure, too, is imperfect, but it reflects the enormous numbers of Americans who recently contracted the virus; some scientists estimate that the current wave of cases is the second-largest of the pandemic.\n",
            "\n",
            "By his rough calculations, Dr. Dowdy estimated that the ratio of deaths to test positivity fell threefold from the early days of the pandemic to January 2022, and fourfold from January 2022 to this spring.\n",
            "\n",
            "“What we’re seeing is that the average case of Covid-19 is becoming much milder,” he said.\n",
            "\n",
            "That is a better reflection of gains in immunity than it is of any intrinsic weakening of the virus, scientists said. Government estimates of the share of Americans who have contracted the virus jumped from one-third in December 2021 to well over one-half two months later.\n",
            "\n",
            "The country paid a staggering price: Some 200,000 people were killed by Covid this winter and large numbers beyond that were seriously sickened. But those who survived infections emerged with immune systems that had learned to better deal with the virus.\n",
            "\n",
            "“Our level of community immunity heading into this wave was much higher than it’s ever been due to the combination of infection and vaccination,” said Dr. Joe Gerald, an associate professor of public health at the University of Arizona. “A lot of people who weren’t vaccinated, and were infection-naive — most of them were infected with Omicron over the period from January to early March.”\n",
            "\n",
            "In the Northeast, where the Omicron subvariants first took hold this spring, deaths climbed as cases surged. In New York, the daily average of Covid deaths rose from eight in April to about 24 in mid-June. Daily deaths in New England increased from five to a peak of 34 over the same period.\n",
            "\n",
            "But across the United States, where cases have been climbing since early April, deaths have remained roughly level. In each previous wave, national Covid deaths surged several weeks after cases did.\n",
            "\n",
            "“I think it’s somewhat reassuring that deaths didn’t really spike as they had during earlier points of the pandemic,” said Jennifer Nuzzo, an epidemiologist at Brown University.\n",
            "\n",
            "Virginia Pitzer, an epidemiologist at the Yale School of Public Health, said that shift stemmed in part from a growing share of cases occurring in people who were fully vaccinated, previously infected or both. In Arizona, for instance, the share of Covid cases being recorded in vaccinated people grew to 60 percent in April from 25 percent five months earlier.\n",
            "\n",
            "In a country as large as the United States, every Covid wave is also a collection of staggered regional surges, complicating national trends. In early May, for example, continued declines in Covid deaths in the South and the West from the wintertime Omicron wave might have helped to obscure rising mortality levels in the Northeast.\n",
            "\n",
            "Some states have also moved from reporting Covid deaths daily to doing so weekly, and they have only slowly caught up from holiday reporting breaks, causing more frequent daily swings in the data.\n",
            "\n",
            "And some states said that so many residents had died from Covid this winter that it took them weeks to report all of those deaths publicly. That, too, could have affected the national death curve.\n",
            "\n",
            "“Our surveillance system in the U.S. is not as strong as it should be or could be,” Dr. Gerald said, “and it does make it more difficult for us to understand the pace and trajectory of the outbreak.”\n",
            "\n",
            "There are a number of possible reasons that Covid deaths have not fallen even further. With infection levels so high and few precautions being taken, the virus is inevitably reaching people who are more vulnerable because of their vaccine status, age or underlying conditions. And even as some people gain immune protection during the pandemic, others become more susceptible to bad outcomes as they age or develop weakened immune systems.\n",
            "\n",
            "The country’s stagnant booster campaign has also left many older people at a long distance from their last shot and so vulnerable to the effects of waning immunity.\n",
            "\n",
            "“Overall, the people who’ve been coming through with Covid are much, much less sick than they were even this winter,” said Dr. Megan Ranney, an emergency physician at Brown University. “It feels like almost a different disease for folks, with the exception of people who are really old, who are unvaccinated or who are immunosuppressed.”\n",
            "\n",
            "Disparities in access to booster shots and antiviral pills have also put some Americans at higher risk. Black and Hispanic people eligible for boosters have received the shots at lower rates than white people have, reflecting what some epidemiologists describe as limited efforts in some states to put boosters within easy reach. Patients who do not have primary care doctors, or who live far from pharmacies, can also struggle to get antiviral pills.\n",
            "\n",
            "The number of hospitalized Covid patients is still climbing nationally, making it likely that increases in deaths will gradually follow, epidemiologists said. It is unclear how hard the wave will hit less-vaccinated regions, like the South, where immunity from past infections has also grown.\n",
            "\n",
            "“Unfortunately, vaccination rates in many southern states are among the lowest in the country,” said Jason Salemi, a professor of epidemiology at the University of South Florida. “But there is certainly a lot of immunity built up through prior infection.”\n",
            "\n",
            "Even as fewer cases turn deadly, the unprecedented number of infections this winter and spring has created significant problems of its own. In the United States, one in five adult survivors of Covid under 65 has dealt with some version of long Covid, a recent study found. Many people have missed work, including doctors, whose absences this spring have periodically strained hospitals that already had staffing problems.\n",
            "\n",
            "Dr. Karan, of Stanford, said that he had lingering symptoms from a January bout with Covid until April. A month later, he was infected again. As of last week, he said, with the subvariant surge hitting California, his team of five doctors at one of the hospitals where he works had been reduced to two because of Covid absences, forcing delays to consultations for some patients.\n",
            "\n",
            "In the Northeast, where cases have been falling for several weeks, Dr. Ranney said that Covid patients had generally been spending less time in the hospital during the latest wave.\n",
            "\n",
            "They had also been presenting differently, she said. In previous surges, patients’ most pressing difficulties tended to be the direct result of Covid, like low oxygen levels or severe pneumonia. This spring, she said, more patients needed care because Covid had exacerbated underlying conditions, like diabetes or heart trouble.\n",
            "\n",
            "“This wave feels qualitatively and quantitatively different,” Dr. Ranney said. “We’re not seeing our I.C.U. get filled up with patients who are gasping for breath or who are on death’s door.” \n"
          ]
        }
      ]
    },
    {
      "cell_type": "code",
      "source": [
        "#Case Folding \n",
        "# dengan fungsi lower() yang sudah disediakan oleh Python\n",
        "artikel = artikel.lower()\n",
        "\n",
        "# coba tampilkan hasilnya\n",
        "print(artikel)"
      ],
      "metadata": {
        "id": "lZZgauNCC2DI",
        "colab": {
          "base_uri": "https://localhost:8080/"
        },
        "outputId": "0dc5829c-0731-4b97-ab0b-2de3967d9727"
      },
      "execution_count": null,
      "outputs": [
        {
          "output_type": "stream",
          "name": "stdout",
          "text": [
            "most americans now carry some immune protection, experts said, whether from vaccines, infection or both.\n",
            "for two years, the coronavirus killed americans on a brutal, predictable schedule: a few weeks after infections climbed so did deaths, cutting an unforgiving path across the country.\n",
            "\n",
            "but that pattern appears to have changed. nearly three months since an ultra-contagious set of new omicron variants launched a springtime resurgence of cases, people are nonetheless dying from covid at a rate close to the lowest of the pandemic.\n",
            "\n",
            "the spread of the virus and the number of deaths in its wake, two measures that were once yoked together, have diverged more than ever before, epidemiologists said. deaths have ticked up slowly in the northeastern united states, where the latest wave began, and are likely to do the same nationally as the surge pushes across the south and west. but the country remains better fortified against covid deaths than earlier in the pandemic, scientists said.\n",
            "\n",
            "because so many americans have now been vaccinated or infected or both, they said, the number of people whose immune systems are entirely unprepared for the virus has significantly dwindled.\n",
            "\n",
            "“in previous waves, there were still substantial pockets of people who had not been vaccinated or exposed to the virus, and so were at the same risk of dying as people at the beginning of the pandemic,” said dr. david dowdy, an epidemiologist at johns hopkins bloomberg school of public health. “those pockets don’t exist anymore.”\n",
            "\n",
            "that turn in the pandemic has nevertheless left many americans behind.\n",
            "\n",
            "older people make up a larger share of covid deaths than they did last year. the virus continues to kill unvaccinated people at much higher rates than vaccinated people, despite many unvaccinated people having some protection from prior infections. and those with weakened immune systems also face greater risks.\n",
            "\n",
            "covid is still killing an average of 314 people daily, one-tenth the number who were dying every day in january 2021, but, even so, an awful toll. at that rate, the virus is killing more than twice as many americans every day as suicide or car crashes are. and many of those who survive the virus are debilitated, some of them for long after their infections.\n",
            "\n",
            "with the country’s resources for fighting the virus drying up and many americans forgoing booster shots, the decoupling of cases and deaths may not last. immunity will wane and a more evasive variant could cut into people’s residual protection against severe disease.\n",
            "\n",
            "“as the time since people got vaccinated becomes longer and longer, the efficacy of the immune response will be lessened,” said dr. abraar karan, an infectious disease physician at stanford university. “we can be caught off guard later this year.”\n",
            "\n",
            "the link between covid cases and deaths started weakening over the winter, scientists said, but the sheer volume of americans getting infected meant that fatalities still soared.\n",
            "\n",
            "this spring, covid has been killing fewer americans daily than during any period except the summer of 2021. the country is now recording 10 times as many cases as it was at that time, indicating that a smaller share of cases are ending in death.\n",
            "\n",
            "by some estimates, the case fatality rate — the share of recorded covid cases that prove deadly — is one-third lower than it was last summer and one-quarter lower than it was in december. recorded cases always understate actual infection levels, and the prevalence of at-home testing these days has made that especially true.\n",
            "\n",
            "to account for those problems, dr. dowdy looked at the proportion of reported test results that are positive, a figure known as test positivity. that measure, too, is imperfect, but it reflects the enormous numbers of americans who recently contracted the virus; some scientists estimate that the current wave of cases is the second-largest of the pandemic.\n",
            "\n",
            "by his rough calculations, dr. dowdy estimated that the ratio of deaths to test positivity fell threefold from the early days of the pandemic to january 2022, and fourfold from january 2022 to this spring.\n",
            "\n",
            "“what we’re seeing is that the average case of covid-19 is becoming much milder,” he said.\n",
            "\n",
            "that is a better reflection of gains in immunity than it is of any intrinsic weakening of the virus, scientists said. government estimates of the share of americans who have contracted the virus jumped from one-third in december 2021 to well over one-half two months later.\n",
            "\n",
            "the country paid a staggering price: some 200,000 people were killed by covid this winter and large numbers beyond that were seriously sickened. but those who survived infections emerged with immune systems that had learned to better deal with the virus.\n",
            "\n",
            "“our level of community immunity heading into this wave was much higher than it’s ever been due to the combination of infection and vaccination,” said dr. joe gerald, an associate professor of public health at the university of arizona. “a lot of people who weren’t vaccinated, and were infection-naive — most of them were infected with omicron over the period from january to early march.”\n",
            "\n",
            "in the northeast, where the omicron subvariants first took hold this spring, deaths climbed as cases surged. in new york, the daily average of covid deaths rose from eight in april to about 24 in mid-june. daily deaths in new england increased from five to a peak of 34 over the same period.\n",
            "\n",
            "but across the united states, where cases have been climbing since early april, deaths have remained roughly level. in each previous wave, national covid deaths surged several weeks after cases did.\n",
            "\n",
            "“i think it’s somewhat reassuring that deaths didn’t really spike as they had during earlier points of the pandemic,” said jennifer nuzzo, an epidemiologist at brown university.\n",
            "\n",
            "virginia pitzer, an epidemiologist at the yale school of public health, said that shift stemmed in part from a growing share of cases occurring in people who were fully vaccinated, previously infected or both. in arizona, for instance, the share of covid cases being recorded in vaccinated people grew to 60 percent in april from 25 percent five months earlier.\n",
            "\n",
            "in a country as large as the united states, every covid wave is also a collection of staggered regional surges, complicating national trends. in early may, for example, continued declines in covid deaths in the south and the west from the wintertime omicron wave might have helped to obscure rising mortality levels in the northeast.\n",
            "\n",
            "some states have also moved from reporting covid deaths daily to doing so weekly, and they have only slowly caught up from holiday reporting breaks, causing more frequent daily swings in the data.\n",
            "\n",
            "and some states said that so many residents had died from covid this winter that it took them weeks to report all of those deaths publicly. that, too, could have affected the national death curve.\n",
            "\n",
            "“our surveillance system in the u.s. is not as strong as it should be or could be,” dr. gerald said, “and it does make it more difficult for us to understand the pace and trajectory of the outbreak.”\n",
            "\n",
            "there are a number of possible reasons that covid deaths have not fallen even further. with infection levels so high and few precautions being taken, the virus is inevitably reaching people who are more vulnerable because of their vaccine status, age or underlying conditions. and even as some people gain immune protection during the pandemic, others become more susceptible to bad outcomes as they age or develop weakened immune systems.\n",
            "\n",
            "the country’s stagnant booster campaign has also left many older people at a long distance from their last shot and so vulnerable to the effects of waning immunity.\n",
            "\n",
            "“overall, the people who’ve been coming through with covid are much, much less sick than they were even this winter,” said dr. megan ranney, an emergency physician at brown university. “it feels like almost a different disease for folks, with the exception of people who are really old, who are unvaccinated or who are immunosuppressed.”\n",
            "\n",
            "disparities in access to booster shots and antiviral pills have also put some americans at higher risk. black and hispanic people eligible for boosters have received the shots at lower rates than white people have, reflecting what some epidemiologists describe as limited efforts in some states to put boosters within easy reach. patients who do not have primary care doctors, or who live far from pharmacies, can also struggle to get antiviral pills.\n",
            "\n",
            "the number of hospitalized covid patients is still climbing nationally, making it likely that increases in deaths will gradually follow, epidemiologists said. it is unclear how hard the wave will hit less-vaccinated regions, like the south, where immunity from past infections has also grown.\n",
            "\n",
            "“unfortunately, vaccination rates in many southern states are among the lowest in the country,” said jason salemi, a professor of epidemiology at the university of south florida. “but there is certainly a lot of immunity built up through prior infection.”\n",
            "\n",
            "even as fewer cases turn deadly, the unprecedented number of infections this winter and spring has created significant problems of its own. in the united states, one in five adult survivors of covid under 65 has dealt with some version of long covid, a recent study found. many people have missed work, including doctors, whose absences this spring have periodically strained hospitals that already had staffing problems.\n",
            "\n",
            "dr. karan, of stanford, said that he had lingering symptoms from a january bout with covid until april. a month later, he was infected again. as of last week, he said, with the subvariant surge hitting california, his team of five doctors at one of the hospitals where he works had been reduced to two because of covid absences, forcing delays to consultations for some patients.\n",
            "\n",
            "in the northeast, where cases have been falling for several weeks, dr. ranney said that covid patients had generally been spending less time in the hospital during the latest wave.\n",
            "\n",
            "they had also been presenting differently, she said. in previous surges, patients’ most pressing difficulties tended to be the direct result of covid, like low oxygen levels or severe pneumonia. this spring, she said, more patients needed care because covid had exacerbated underlying conditions, like diabetes or heart trouble.\n",
            "\n",
            "“this wave feels qualitatively and quantitatively different,” dr. ranney said. “we’re not seeing our i.c.u. get filled up with patients who are gasping for breath or who are on death’s door.” \n"
          ]
        }
      ]
    },
    {
      "cell_type": "code",
      "source": [
        "# Menghapus Tanda Baca\n",
        "# import library regex\n",
        "import re\n",
        "import string\n",
        "\n",
        "#hapus angka\n",
        "#artikel = re.sub(r\"\\d+\", \"\", artikel)\n",
        "\n",
        "#hapus punctuation\n",
        "artikel = artikel.translate(str.maketrans(\"\",\"\",string.punctuation))\n",
        "\n",
        "#hapus whitespace leading & trailing\n",
        "artikel = artikel.strip()\n",
        "\n",
        "#hapus multiple whitespace into single whitespace\n",
        "artikel = re.sub('\\s+',' ',artikel)\n",
        "\n",
        "# tampilkan hasilnya\n",
        "print(artikel)"
      ],
      "metadata": {
        "id": "KuNt8hVFC52D",
        "colab": {
          "base_uri": "https://localhost:8080/"
        },
        "outputId": "a44684b8-3742-4cad-dff7-bace21244026"
      },
      "execution_count": null,
      "outputs": [
        {
          "output_type": "stream",
          "name": "stdout",
          "text": [
            "most americans now carry some immune protection experts said whether from vaccines infection or both for two years the coronavirus killed americans on a brutal predictable schedule a few weeks after infections climbed so did deaths cutting an unforgiving path across the country but that pattern appears to have changed nearly three months since an ultracontagious set of new omicron variants launched a springtime resurgence of cases people are nonetheless dying from covid at a rate close to the lowest of the pandemic the spread of the virus and the number of deaths in its wake two measures that were once yoked together have diverged more than ever before epidemiologists said deaths have ticked up slowly in the northeastern united states where the latest wave began and are likely to do the same nationally as the surge pushes across the south and west but the country remains better fortified against covid deaths than earlier in the pandemic scientists said because so many americans have now been vaccinated or infected or both they said the number of people whose immune systems are entirely unprepared for the virus has significantly dwindled “in previous waves there were still substantial pockets of people who had not been vaccinated or exposed to the virus and so were at the same risk of dying as people at the beginning of the pandemic” said dr david dowdy an epidemiologist at johns hopkins bloomberg school of public health “those pockets don’t exist anymore” that turn in the pandemic has nevertheless left many americans behind older people make up a larger share of covid deaths than they did last year the virus continues to kill unvaccinated people at much higher rates than vaccinated people despite many unvaccinated people having some protection from prior infections and those with weakened immune systems also face greater risks covid is still killing an average of 314 people daily onetenth the number who were dying every day in january 2021 but even so an awful toll at that rate the virus is killing more than twice as many americans every day as suicide or car crashes are and many of those who survive the virus are debilitated some of them for long after their infections with the country’s resources for fighting the virus drying up and many americans forgoing booster shots the decoupling of cases and deaths may not last immunity will wane and a more evasive variant could cut into people’s residual protection against severe disease “as the time since people got vaccinated becomes longer and longer the efficacy of the immune response will be lessened” said dr abraar karan an infectious disease physician at stanford university “we can be caught off guard later this year” the link between covid cases and deaths started weakening over the winter scientists said but the sheer volume of americans getting infected meant that fatalities still soared this spring covid has been killing fewer americans daily than during any period except the summer of 2021 the country is now recording 10 times as many cases as it was at that time indicating that a smaller share of cases are ending in death by some estimates the case fatality rate — the share of recorded covid cases that prove deadly — is onethird lower than it was last summer and onequarter lower than it was in december recorded cases always understate actual infection levels and the prevalence of athome testing these days has made that especially true to account for those problems dr dowdy looked at the proportion of reported test results that are positive a figure known as test positivity that measure too is imperfect but it reflects the enormous numbers of americans who recently contracted the virus some scientists estimate that the current wave of cases is the secondlargest of the pandemic by his rough calculations dr dowdy estimated that the ratio of deaths to test positivity fell threefold from the early days of the pandemic to january 2022 and fourfold from january 2022 to this spring “what we’re seeing is that the average case of covid19 is becoming much milder” he said that is a better reflection of gains in immunity than it is of any intrinsic weakening of the virus scientists said government estimates of the share of americans who have contracted the virus jumped from onethird in december 2021 to well over onehalf two months later the country paid a staggering price some 200000 people were killed by covid this winter and large numbers beyond that were seriously sickened but those who survived infections emerged with immune systems that had learned to better deal with the virus “our level of community immunity heading into this wave was much higher than it’s ever been due to the combination of infection and vaccination” said dr joe gerald an associate professor of public health at the university of arizona “a lot of people who weren’t vaccinated and were infectionnaive — most of them were infected with omicron over the period from january to early march” in the northeast where the omicron subvariants first took hold this spring deaths climbed as cases surged in new york the daily average of covid deaths rose from eight in april to about 24 in midjune daily deaths in new england increased from five to a peak of 34 over the same period but across the united states where cases have been climbing since early april deaths have remained roughly level in each previous wave national covid deaths surged several weeks after cases did “i think it’s somewhat reassuring that deaths didn’t really spike as they had during earlier points of the pandemic” said jennifer nuzzo an epidemiologist at brown university virginia pitzer an epidemiologist at the yale school of public health said that shift stemmed in part from a growing share of cases occurring in people who were fully vaccinated previously infected or both in arizona for instance the share of covid cases being recorded in vaccinated people grew to 60 percent in april from 25 percent five months earlier in a country as large as the united states every covid wave is also a collection of staggered regional surges complicating national trends in early may for example continued declines in covid deaths in the south and the west from the wintertime omicron wave might have helped to obscure rising mortality levels in the northeast some states have also moved from reporting covid deaths daily to doing so weekly and they have only slowly caught up from holiday reporting breaks causing more frequent daily swings in the data and some states said that so many residents had died from covid this winter that it took them weeks to report all of those deaths publicly that too could have affected the national death curve “our surveillance system in the us is not as strong as it should be or could be” dr gerald said “and it does make it more difficult for us to understand the pace and trajectory of the outbreak” there are a number of possible reasons that covid deaths have not fallen even further with infection levels so high and few precautions being taken the virus is inevitably reaching people who are more vulnerable because of their vaccine status age or underlying conditions and even as some people gain immune protection during the pandemic others become more susceptible to bad outcomes as they age or develop weakened immune systems the country’s stagnant booster campaign has also left many older people at a long distance from their last shot and so vulnerable to the effects of waning immunity “overall the people who’ve been coming through with covid are much much less sick than they were even this winter” said dr megan ranney an emergency physician at brown university “it feels like almost a different disease for folks with the exception of people who are really old who are unvaccinated or who are immunosuppressed” disparities in access to booster shots and antiviral pills have also put some americans at higher risk black and hispanic people eligible for boosters have received the shots at lower rates than white people have reflecting what some epidemiologists describe as limited efforts in some states to put boosters within easy reach patients who do not have primary care doctors or who live far from pharmacies can also struggle to get antiviral pills the number of hospitalized covid patients is still climbing nationally making it likely that increases in deaths will gradually follow epidemiologists said it is unclear how hard the wave will hit lessvaccinated regions like the south where immunity from past infections has also grown “unfortunately vaccination rates in many southern states are among the lowest in the country” said jason salemi a professor of epidemiology at the university of south florida “but there is certainly a lot of immunity built up through prior infection” even as fewer cases turn deadly the unprecedented number of infections this winter and spring has created significant problems of its own in the united states one in five adult survivors of covid under 65 has dealt with some version of long covid a recent study found many people have missed work including doctors whose absences this spring have periodically strained hospitals that already had staffing problems dr karan of stanford said that he had lingering symptoms from a january bout with covid until april a month later he was infected again as of last week he said with the subvariant surge hitting california his team of five doctors at one of the hospitals where he works had been reduced to two because of covid absences forcing delays to consultations for some patients in the northeast where cases have been falling for several weeks dr ranney said that covid patients had generally been spending less time in the hospital during the latest wave they had also been presenting differently she said in previous surges patients’ most pressing difficulties tended to be the direct result of covid like low oxygen levels or severe pneumonia this spring she said more patients needed care because covid had exacerbated underlying conditions like diabetes or heart trouble “this wave feels qualitatively and quantitatively different” dr ranney said “we’re not seeing our icu get filled up with patients who are gasping for breath or who are on death’s door”\n"
          ]
        }
      ]
    },
    {
      "cell_type": "code",
      "source": [
        "#TOKENISASI\n",
        "# import library nltk\n",
        "import nltk\n",
        "# download package punkt -> punctuation nltk\n",
        "nltk.download('punkt')\n",
        "\n",
        "# lakukan tokenisasi\n",
        "tokens = nltk.tokenize.word_tokenize(artikel)\n",
        "\n",
        "# coba tampilkan hasilnya\n",
        "print(tokens)"
      ],
      "metadata": {
        "id": "fx01bC_MDJCt",
        "colab": {
          "base_uri": "https://localhost:8080/"
        },
        "outputId": "c7ae8f48-0f42-48d9-ff84-8e4c262687c5"
      },
      "execution_count": null,
      "outputs": [
        {
          "output_type": "stream",
          "name": "stderr",
          "text": [
            "[nltk_data] Downloading package punkt to /root/nltk_data...\n",
            "[nltk_data]   Unzipping tokenizers/punkt.zip.\n"
          ]
        },
        {
          "output_type": "stream",
          "name": "stdout",
          "text": [
            "['most', 'americans', 'now', 'carry', 'some', 'immune', 'protection', 'experts', 'said', 'whether', 'from', 'vaccines', 'infection', 'or', 'both', 'for', 'two', 'years', 'the', 'coronavirus', 'killed', 'americans', 'on', 'a', 'brutal', 'predictable', 'schedule', 'a', 'few', 'weeks', 'after', 'infections', 'climbed', 'so', 'did', 'deaths', 'cutting', 'an', 'unforgiving', 'path', 'across', 'the', 'country', 'but', 'that', 'pattern', 'appears', 'to', 'have', 'changed', 'nearly', 'three', 'months', 'since', 'an', 'ultracontagious', 'set', 'of', 'new', 'omicron', 'variants', 'launched', 'a', 'springtime', 'resurgence', 'of', 'cases', 'people', 'are', 'nonetheless', 'dying', 'from', 'covid', 'at', 'a', 'rate', 'close', 'to', 'the', 'lowest', 'of', 'the', 'pandemic', 'the', 'spread', 'of', 'the', 'virus', 'and', 'the', 'number', 'of', 'deaths', 'in', 'its', 'wake', 'two', 'measures', 'that', 'were', 'once', 'yoked', 'together', 'have', 'diverged', 'more', 'than', 'ever', 'before', 'epidemiologists', 'said', 'deaths', 'have', 'ticked', 'up', 'slowly', 'in', 'the', 'northeastern', 'united', 'states', 'where', 'the', 'latest', 'wave', 'began', 'and', 'are', 'likely', 'to', 'do', 'the', 'same', 'nationally', 'as', 'the', 'surge', 'pushes', 'across', 'the', 'south', 'and', 'west', 'but', 'the', 'country', 'remains', 'better', 'fortified', 'against', 'covid', 'deaths', 'than', 'earlier', 'in', 'the', 'pandemic', 'scientists', 'said', 'because', 'so', 'many', 'americans', 'have', 'now', 'been', 'vaccinated', 'or', 'infected', 'or', 'both', 'they', 'said', 'the', 'number', 'of', 'people', 'whose', 'immune', 'systems', 'are', 'entirely', 'unprepared', 'for', 'the', 'virus', 'has', 'significantly', 'dwindled', '“', 'in', 'previous', 'waves', 'there', 'were', 'still', 'substantial', 'pockets', 'of', 'people', 'who', 'had', 'not', 'been', 'vaccinated', 'or', 'exposed', 'to', 'the', 'virus', 'and', 'so', 'were', 'at', 'the', 'same', 'risk', 'of', 'dying', 'as', 'people', 'at', 'the', 'beginning', 'of', 'the', 'pandemic', '”', 'said', 'dr', 'david', 'dowdy', 'an', 'epidemiologist', 'at', 'johns', 'hopkins', 'bloomberg', 'school', 'of', 'public', 'health', '“', 'those', 'pockets', 'don', '’', 't', 'exist', 'anymore', '”', 'that', 'turn', 'in', 'the', 'pandemic', 'has', 'nevertheless', 'left', 'many', 'americans', 'behind', 'older', 'people', 'make', 'up', 'a', 'larger', 'share', 'of', 'covid', 'deaths', 'than', 'they', 'did', 'last', 'year', 'the', 'virus', 'continues', 'to', 'kill', 'unvaccinated', 'people', 'at', 'much', 'higher', 'rates', 'than', 'vaccinated', 'people', 'despite', 'many', 'unvaccinated', 'people', 'having', 'some', 'protection', 'from', 'prior', 'infections', 'and', 'those', 'with', 'weakened', 'immune', 'systems', 'also', 'face', 'greater', 'risks', 'covid', 'is', 'still', 'killing', 'an', 'average', 'of', '314', 'people', 'daily', 'onetenth', 'the', 'number', 'who', 'were', 'dying', 'every', 'day', 'in', 'january', '2021', 'but', 'even', 'so', 'an', 'awful', 'toll', 'at', 'that', 'rate', 'the', 'virus', 'is', 'killing', 'more', 'than', 'twice', 'as', 'many', 'americans', 'every', 'day', 'as', 'suicide', 'or', 'car', 'crashes', 'are', 'and', 'many', 'of', 'those', 'who', 'survive', 'the', 'virus', 'are', 'debilitated', 'some', 'of', 'them', 'for', 'long', 'after', 'their', 'infections', 'with', 'the', 'country', '’', 's', 'resources', 'for', 'fighting', 'the', 'virus', 'drying', 'up', 'and', 'many', 'americans', 'forgoing', 'booster', 'shots', 'the', 'decoupling', 'of', 'cases', 'and', 'deaths', 'may', 'not', 'last', 'immunity', 'will', 'wane', 'and', 'a', 'more', 'evasive', 'variant', 'could', 'cut', 'into', 'people', '’', 's', 'residual', 'protection', 'against', 'severe', 'disease', '“', 'as', 'the', 'time', 'since', 'people', 'got', 'vaccinated', 'becomes', 'longer', 'and', 'longer', 'the', 'efficacy', 'of', 'the', 'immune', 'response', 'will', 'be', 'lessened', '”', 'said', 'dr', 'abraar', 'karan', 'an', 'infectious', 'disease', 'physician', 'at', 'stanford', 'university', '“', 'we', 'can', 'be', 'caught', 'off', 'guard', 'later', 'this', 'year', '”', 'the', 'link', 'between', 'covid', 'cases', 'and', 'deaths', 'started', 'weakening', 'over', 'the', 'winter', 'scientists', 'said', 'but', 'the', 'sheer', 'volume', 'of', 'americans', 'getting', 'infected', 'meant', 'that', 'fatalities', 'still', 'soared', 'this', 'spring', 'covid', 'has', 'been', 'killing', 'fewer', 'americans', 'daily', 'than', 'during', 'any', 'period', 'except', 'the', 'summer', 'of', '2021', 'the', 'country', 'is', 'now', 'recording', '10', 'times', 'as', 'many', 'cases', 'as', 'it', 'was', 'at', 'that', 'time', 'indicating', 'that', 'a', 'smaller', 'share', 'of', 'cases', 'are', 'ending', 'in', 'death', 'by', 'some', 'estimates', 'the', 'case', 'fatality', 'rate', '—', 'the', 'share', 'of', 'recorded', 'covid', 'cases', 'that', 'prove', 'deadly', '—', 'is', 'onethird', 'lower', 'than', 'it', 'was', 'last', 'summer', 'and', 'onequarter', 'lower', 'than', 'it', 'was', 'in', 'december', 'recorded', 'cases', 'always', 'understate', 'actual', 'infection', 'levels', 'and', 'the', 'prevalence', 'of', 'athome', 'testing', 'these', 'days', 'has', 'made', 'that', 'especially', 'true', 'to', 'account', 'for', 'those', 'problems', 'dr', 'dowdy', 'looked', 'at', 'the', 'proportion', 'of', 'reported', 'test', 'results', 'that', 'are', 'positive', 'a', 'figure', 'known', 'as', 'test', 'positivity', 'that', 'measure', 'too', 'is', 'imperfect', 'but', 'it', 'reflects', 'the', 'enormous', 'numbers', 'of', 'americans', 'who', 'recently', 'contracted', 'the', 'virus', 'some', 'scientists', 'estimate', 'that', 'the', 'current', 'wave', 'of', 'cases', 'is', 'the', 'secondlargest', 'of', 'the', 'pandemic', 'by', 'his', 'rough', 'calculations', 'dr', 'dowdy', 'estimated', 'that', 'the', 'ratio', 'of', 'deaths', 'to', 'test', 'positivity', 'fell', 'threefold', 'from', 'the', 'early', 'days', 'of', 'the', 'pandemic', 'to', 'january', '2022', 'and', 'fourfold', 'from', 'january', '2022', 'to', 'this', 'spring', '“', 'what', 'we', '’', 're', 'seeing', 'is', 'that', 'the', 'average', 'case', 'of', 'covid19', 'is', 'becoming', 'much', 'milder', '”', 'he', 'said', 'that', 'is', 'a', 'better', 'reflection', 'of', 'gains', 'in', 'immunity', 'than', 'it', 'is', 'of', 'any', 'intrinsic', 'weakening', 'of', 'the', 'virus', 'scientists', 'said', 'government', 'estimates', 'of', 'the', 'share', 'of', 'americans', 'who', 'have', 'contracted', 'the', 'virus', 'jumped', 'from', 'onethird', 'in', 'december', '2021', 'to', 'well', 'over', 'onehalf', 'two', 'months', 'later', 'the', 'country', 'paid', 'a', 'staggering', 'price', 'some', '200000', 'people', 'were', 'killed', 'by', 'covid', 'this', 'winter', 'and', 'large', 'numbers', 'beyond', 'that', 'were', 'seriously', 'sickened', 'but', 'those', 'who', 'survived', 'infections', 'emerged', 'with', 'immune', 'systems', 'that', 'had', 'learned', 'to', 'better', 'deal', 'with', 'the', 'virus', '“', 'our', 'level', 'of', 'community', 'immunity', 'heading', 'into', 'this', 'wave', 'was', 'much', 'higher', 'than', 'it', '’', 's', 'ever', 'been', 'due', 'to', 'the', 'combination', 'of', 'infection', 'and', 'vaccination', '”', 'said', 'dr', 'joe', 'gerald', 'an', 'associate', 'professor', 'of', 'public', 'health', 'at', 'the', 'university', 'of', 'arizona', '“', 'a', 'lot', 'of', 'people', 'who', 'weren', '’', 't', 'vaccinated', 'and', 'were', 'infectionnaive', '—', 'most', 'of', 'them', 'were', 'infected', 'with', 'omicron', 'over', 'the', 'period', 'from', 'january', 'to', 'early', 'march', '”', 'in', 'the', 'northeast', 'where', 'the', 'omicron', 'subvariants', 'first', 'took', 'hold', 'this', 'spring', 'deaths', 'climbed', 'as', 'cases', 'surged', 'in', 'new', 'york', 'the', 'daily', 'average', 'of', 'covid', 'deaths', 'rose', 'from', 'eight', 'in', 'april', 'to', 'about', '24', 'in', 'midjune', 'daily', 'deaths', 'in', 'new', 'england', 'increased', 'from', 'five', 'to', 'a', 'peak', 'of', '34', 'over', 'the', 'same', 'period', 'but', 'across', 'the', 'united', 'states', 'where', 'cases', 'have', 'been', 'climbing', 'since', 'early', 'april', 'deaths', 'have', 'remained', 'roughly', 'level', 'in', 'each', 'previous', 'wave', 'national', 'covid', 'deaths', 'surged', 'several', 'weeks', 'after', 'cases', 'did', '“', 'i', 'think', 'it', '’', 's', 'somewhat', 'reassuring', 'that', 'deaths', 'didn', '’', 't', 'really', 'spike', 'as', 'they', 'had', 'during', 'earlier', 'points', 'of', 'the', 'pandemic', '”', 'said', 'jennifer', 'nuzzo', 'an', 'epidemiologist', 'at', 'brown', 'university', 'virginia', 'pitzer', 'an', 'epidemiologist', 'at', 'the', 'yale', 'school', 'of', 'public', 'health', 'said', 'that', 'shift', 'stemmed', 'in', 'part', 'from', 'a', 'growing', 'share', 'of', 'cases', 'occurring', 'in', 'people', 'who', 'were', 'fully', 'vaccinated', 'previously', 'infected', 'or', 'both', 'in', 'arizona', 'for', 'instance', 'the', 'share', 'of', 'covid', 'cases', 'being', 'recorded', 'in', 'vaccinated', 'people', 'grew', 'to', '60', 'percent', 'in', 'april', 'from', '25', 'percent', 'five', 'months', 'earlier', 'in', 'a', 'country', 'as', 'large', 'as', 'the', 'united', 'states', 'every', 'covid', 'wave', 'is', 'also', 'a', 'collection', 'of', 'staggered', 'regional', 'surges', 'complicating', 'national', 'trends', 'in', 'early', 'may', 'for', 'example', 'continued', 'declines', 'in', 'covid', 'deaths', 'in', 'the', 'south', 'and', 'the', 'west', 'from', 'the', 'wintertime', 'omicron', 'wave', 'might', 'have', 'helped', 'to', 'obscure', 'rising', 'mortality', 'levels', 'in', 'the', 'northeast', 'some', 'states', 'have', 'also', 'moved', 'from', 'reporting', 'covid', 'deaths', 'daily', 'to', 'doing', 'so', 'weekly', 'and', 'they', 'have', 'only', 'slowly', 'caught', 'up', 'from', 'holiday', 'reporting', 'breaks', 'causing', 'more', 'frequent', 'daily', 'swings', 'in', 'the', 'data', 'and', 'some', 'states', 'said', 'that', 'so', 'many', 'residents', 'had', 'died', 'from', 'covid', 'this', 'winter', 'that', 'it', 'took', 'them', 'weeks', 'to', 'report', 'all', 'of', 'those', 'deaths', 'publicly', 'that', 'too', 'could', 'have', 'affected', 'the', 'national', 'death', 'curve', '“', 'our', 'surveillance', 'system', 'in', 'the', 'us', 'is', 'not', 'as', 'strong', 'as', 'it', 'should', 'be', 'or', 'could', 'be', '”', 'dr', 'gerald', 'said', '“', 'and', 'it', 'does', 'make', 'it', 'more', 'difficult', 'for', 'us', 'to', 'understand', 'the', 'pace', 'and', 'trajectory', 'of', 'the', 'outbreak', '”', 'there', 'are', 'a', 'number', 'of', 'possible', 'reasons', 'that', 'covid', 'deaths', 'have', 'not', 'fallen', 'even', 'further', 'with', 'infection', 'levels', 'so', 'high', 'and', 'few', 'precautions', 'being', 'taken', 'the', 'virus', 'is', 'inevitably', 'reaching', 'people', 'who', 'are', 'more', 'vulnerable', 'because', 'of', 'their', 'vaccine', 'status', 'age', 'or', 'underlying', 'conditions', 'and', 'even', 'as', 'some', 'people', 'gain', 'immune', 'protection', 'during', 'the', 'pandemic', 'others', 'become', 'more', 'susceptible', 'to', 'bad', 'outcomes', 'as', 'they', 'age', 'or', 'develop', 'weakened', 'immune', 'systems', 'the', 'country', '’', 's', 'stagnant', 'booster', 'campaign', 'has', 'also', 'left', 'many', 'older', 'people', 'at', 'a', 'long', 'distance', 'from', 'their', 'last', 'shot', 'and', 'so', 'vulnerable', 'to', 'the', 'effects', 'of', 'waning', 'immunity', '“', 'overall', 'the', 'people', 'who', '’', 've', 'been', 'coming', 'through', 'with', 'covid', 'are', 'much', 'much', 'less', 'sick', 'than', 'they', 'were', 'even', 'this', 'winter', '”', 'said', 'dr', 'megan', 'ranney', 'an', 'emergency', 'physician', 'at', 'brown', 'university', '“', 'it', 'feels', 'like', 'almost', 'a', 'different', 'disease', 'for', 'folks', 'with', 'the', 'exception', 'of', 'people', 'who', 'are', 'really', 'old', 'who', 'are', 'unvaccinated', 'or', 'who', 'are', 'immunosuppressed', '”', 'disparities', 'in', 'access', 'to', 'booster', 'shots', 'and', 'antiviral', 'pills', 'have', 'also', 'put', 'some', 'americans', 'at', 'higher', 'risk', 'black', 'and', 'hispanic', 'people', 'eligible', 'for', 'boosters', 'have', 'received', 'the', 'shots', 'at', 'lower', 'rates', 'than', 'white', 'people', 'have', 'reflecting', 'what', 'some', 'epidemiologists', 'describe', 'as', 'limited', 'efforts', 'in', 'some', 'states', 'to', 'put', 'boosters', 'within', 'easy', 'reach', 'patients', 'who', 'do', 'not', 'have', 'primary', 'care', 'doctors', 'or', 'who', 'live', 'far', 'from', 'pharmacies', 'can', 'also', 'struggle', 'to', 'get', 'antiviral', 'pills', 'the', 'number', 'of', 'hospitalized', 'covid', 'patients', 'is', 'still', 'climbing', 'nationally', 'making', 'it', 'likely', 'that', 'increases', 'in', 'deaths', 'will', 'gradually', 'follow', 'epidemiologists', 'said', 'it', 'is', 'unclear', 'how', 'hard', 'the', 'wave', 'will', 'hit', 'lessvaccinated', 'regions', 'like', 'the', 'south', 'where', 'immunity', 'from', 'past', 'infections', 'has', 'also', 'grown', '“', 'unfortunately', 'vaccination', 'rates', 'in', 'many', 'southern', 'states', 'are', 'among', 'the', 'lowest', 'in', 'the', 'country', '”', 'said', 'jason', 'salemi', 'a', 'professor', 'of', 'epidemiology', 'at', 'the', 'university', 'of', 'south', 'florida', '“', 'but', 'there', 'is', 'certainly', 'a', 'lot', 'of', 'immunity', 'built', 'up', 'through', 'prior', 'infection', '”', 'even', 'as', 'fewer', 'cases', 'turn', 'deadly', 'the', 'unprecedented', 'number', 'of', 'infections', 'this', 'winter', 'and', 'spring', 'has', 'created', 'significant', 'problems', 'of', 'its', 'own', 'in', 'the', 'united', 'states', 'one', 'in', 'five', 'adult', 'survivors', 'of', 'covid', 'under', '65', 'has', 'dealt', 'with', 'some', 'version', 'of', 'long', 'covid', 'a', 'recent', 'study', 'found', 'many', 'people', 'have', 'missed', 'work', 'including', 'doctors', 'whose', 'absences', 'this', 'spring', 'have', 'periodically', 'strained', 'hospitals', 'that', 'already', 'had', 'staffing', 'problems', 'dr', 'karan', 'of', 'stanford', 'said', 'that', 'he', 'had', 'lingering', 'symptoms', 'from', 'a', 'january', 'bout', 'with', 'covid', 'until', 'april', 'a', 'month', 'later', 'he', 'was', 'infected', 'again', 'as', 'of', 'last', 'week', 'he', 'said', 'with', 'the', 'subvariant', 'surge', 'hitting', 'california', 'his', 'team', 'of', 'five', 'doctors', 'at', 'one', 'of', 'the', 'hospitals', 'where', 'he', 'works', 'had', 'been', 'reduced', 'to', 'two', 'because', 'of', 'covid', 'absences', 'forcing', 'delays', 'to', 'consultations', 'for', 'some', 'patients', 'in', 'the', 'northeast', 'where', 'cases', 'have', 'been', 'falling', 'for', 'several', 'weeks', 'dr', 'ranney', 'said', 'that', 'covid', 'patients', 'had', 'generally', 'been', 'spending', 'less', 'time', 'in', 'the', 'hospital', 'during', 'the', 'latest', 'wave', 'they', 'had', 'also', 'been', 'presenting', 'differently', 'she', 'said', 'in', 'previous', 'surges', 'patients', '’', 'most', 'pressing', 'difficulties', 'tended', 'to', 'be', 'the', 'direct', 'result', 'of', 'covid', 'like', 'low', 'oxygen', 'levels', 'or', 'severe', 'pneumonia', 'this', 'spring', 'she', 'said', 'more', 'patients', 'needed', 'care', 'because', 'covid', 'had', 'exacerbated', 'underlying', 'conditions', 'like', 'diabetes', 'or', 'heart', 'trouble', '“', 'this', 'wave', 'feels', 'qualitatively', 'and', 'quantitatively', 'different', '”', 'dr', 'ranney', 'said', '“', 'we', '’', 're', 'not', 'seeing', 'our', 'icu', 'get', 'filled', 'up', 'with', 'patients', 'who', 'are', 'gasping', 'for', 'breath', 'or', 'who', 'are', 'on', 'death', '’', 's', 'door', '”']\n"
          ]
        }
      ]
    },
    {
      "cell_type": "code",
      "source": [
        "#Menampilkan frekuensi token\n",
        "# import nltk\n",
        "import nltk\n",
        "\n",
        "frekuensi_token = nltk.FreqDist(tokens)\n",
        "print(frekuensi_token.most_common())"
      ],
      "metadata": {
        "id": "waVcHZFNDO_n",
        "colab": {
          "base_uri": "https://localhost:8080/"
        },
        "outputId": "9336a04f-ee2b-4d7c-8619-91025cc7bb10"
      },
      "execution_count": null,
      "outputs": [
        {
          "output_type": "stream",
          "name": "stdout",
          "text": [
            "[('the', 96), ('of', 66), ('in', 38), ('and', 29), ('to', 28), ('that', 27), ('covid', 25), ('said', 23), ('a', 23), ('people', 23), ('from', 19), ('deaths', 19), ('have', 19), ('as', 19), ('at', 18), ('who', 17), ('are', 16), ('“', 16), ('”', 16), ('is', 16), ('cases', 15), ('some', 14), ('or', 14), ('it', 14), ('for', 13), ('’', 13), ('virus', 12), ('than', 12), ('with', 12), ('this', 12), ('americans', 11), ('many', 11), ('an', 10), ('were', 10), ('been', 10), ('had', 10), ('dr', 10), ('wave', 9), ('so', 8), ('country', 8), ('but', 8), ('pandemic', 8), ('more', 8), ('states', 8), ('has', 8), ('also', 8), ('immune', 7), ('vaccinated', 7), ('they', 7), ('patients', 7), ('infections', 6), ('number', 6), ('up', 6), ('where', 6), ('not', 6), ('those', 6), ('share', 6), ('daily', 6), ('s', 6), ('immunity', 6), ('spring', 6), ('infection', 5), ('infected', 5), ('last', 5), ('much', 5), ('january', 5), ('even', 5), ('be', 5), ('university', 5), ('winter', 5), ('was', 5), ('he', 5), ('protection', 4), ('two', 4), ('weeks', 4), ('omicron', 4), ('united', 4), ('south', 4), ('scientists', 4), ('because', 4), ('systems', 4), ('still', 4), ('will', 4), ('over', 4), ('during', 4), ('levels', 4), ('early', 4), ('april', 4), ('five', 4), ('like', 4), ('most', 3), ('now', 3), ('both', 3), ('after', 3), ('did', 3), ('across', 3), ('months', 3), ('since', 3), ('new', 3), ('dying', 3), ('rate', 3), ('epidemiologists', 3), ('same', 3), ('better', 3), ('earlier', 3), ('previous', 3), ('there', 3), ('dowdy', 3), ('epidemiologist', 3), ('public', 3), ('health', 3), ('t', 3), ('unvaccinated', 3), ('higher', 3), ('rates', 3), ('killing', 3), ('average', 3), ('every', 3), ('2021', 3), ('them', 3), ('long', 3), ('their', 3), ('booster', 3), ('shots', 3), ('could', 3), ('disease', 3), ('time', 3), ('we', 3), ('later', 3), ('period', 3), ('death', 3), ('by', 3), ('—', 3), ('recorded', 3), ('lower', 3), ('problems', 3), ('test', 3), ('our', 3), ('northeast', 3), ('national', 3), ('ranney', 3), ('doctors', 3), ('killed', 2), ('on', 2), ('few', 2), ('climbed', 2), ('lowest', 2), ('its', 2), ('ever', 2), ('slowly', 2), ('latest', 2), ('likely', 2), ('do', 2), ('nationally', 2), ('surge', 2), ('west', 2), ('against', 2), ('whose', 2), ('pockets', 2), ('risk', 2), ('school', 2), ('turn', 2), ('left', 2), ('older', 2), ('make', 2), ('year', 2), ('prior', 2), ('weakened', 2), ('day', 2), ('may', 2), ('into', 2), ('severe', 2), ('longer', 2), ('karan', 2), ('physician', 2), ('stanford', 2), ('can', 2), ('caught', 2), ('weakening', 2), ('fewer', 2), ('any', 2), ('summer', 2), ('estimates', 2), ('case', 2), ('deadly', 2), ('onethird', 2), ('december', 2), ('days', 2), ('positivity', 2), ('too', 2), ('numbers', 2), ('contracted', 2), ('his', 2), ('2022', 2), ('what', 2), ('re', 2), ('seeing', 2), ('large', 2), ('level', 2), ('vaccination', 2), ('gerald', 2), ('professor', 2), ('arizona', 2), ('lot', 2), ('took', 2), ('surged', 2), ('climbing', 2), ('several', 2), ('really', 2), ('brown', 2), ('being', 2), ('percent', 2), ('surges', 2), ('reporting', 2), ('us', 2), ('vulnerable', 2), ('age', 2), ('underlying', 2), ('conditions', 2), ('through', 2), ('less', 2), ('feels', 2), ('different', 2), ('antiviral', 2), ('pills', 2), ('put', 2), ('boosters', 2), ('care', 2), ('get', 2), ('one', 2), ('absences', 2), ('hospitals', 2), ('she', 2), ('carry', 1), ('experts', 1), ('whether', 1), ('vaccines', 1), ('years', 1), ('coronavirus', 1), ('brutal', 1), ('predictable', 1), ('schedule', 1), ('cutting', 1), ('unforgiving', 1), ('path', 1), ('pattern', 1), ('appears', 1), ('changed', 1), ('nearly', 1), ('three', 1), ('ultracontagious', 1), ('set', 1), ('variants', 1), ('launched', 1), ('springtime', 1), ('resurgence', 1), ('nonetheless', 1), ('close', 1), ('spread', 1), ('wake', 1), ('measures', 1), ('once', 1), ('yoked', 1), ('together', 1), ('diverged', 1), ('before', 1), ('ticked', 1), ('northeastern', 1), ('began', 1), ('pushes', 1), ('remains', 1), ('fortified', 1), ('entirely', 1), ('unprepared', 1), ('significantly', 1), ('dwindled', 1), ('waves', 1), ('substantial', 1), ('exposed', 1), ('beginning', 1), ('david', 1), ('johns', 1), ('hopkins', 1), ('bloomberg', 1), ('don', 1), ('exist', 1), ('anymore', 1), ('nevertheless', 1), ('behind', 1), ('larger', 1), ('continues', 1), ('kill', 1), ('despite', 1), ('having', 1), ('face', 1), ('greater', 1), ('risks', 1), ('314', 1), ('onetenth', 1), ('awful', 1), ('toll', 1), ('twice', 1), ('suicide', 1), ('car', 1), ('crashes', 1), ('survive', 1), ('debilitated', 1), ('resources', 1), ('fighting', 1), ('drying', 1), ('forgoing', 1), ('decoupling', 1), ('wane', 1), ('evasive', 1), ('variant', 1), ('cut', 1), ('residual', 1), ('got', 1), ('becomes', 1), ('efficacy', 1), ('response', 1), ('lessened', 1), ('abraar', 1), ('infectious', 1), ('off', 1), ('guard', 1), ('link', 1), ('between', 1), ('started', 1), ('sheer', 1), ('volume', 1), ('getting', 1), ('meant', 1), ('fatalities', 1), ('soared', 1), ('except', 1), ('recording', 1), ('10', 1), ('times', 1), ('indicating', 1), ('smaller', 1), ('ending', 1), ('fatality', 1), ('prove', 1), ('onequarter', 1), ('always', 1), ('understate', 1), ('actual', 1), ('prevalence', 1), ('athome', 1), ('testing', 1), ('these', 1), ('made', 1), ('especially', 1), ('true', 1), ('account', 1), ('looked', 1), ('proportion', 1), ('reported', 1), ('results', 1), ('positive', 1), ('figure', 1), ('known', 1), ('measure', 1), ('imperfect', 1), ('reflects', 1), ('enormous', 1), ('recently', 1), ('estimate', 1), ('current', 1), ('secondlargest', 1), ('rough', 1), ('calculations', 1), ('estimated', 1), ('ratio', 1), ('fell', 1), ('threefold', 1), ('fourfold', 1), ('covid19', 1), ('becoming', 1), ('milder', 1), ('reflection', 1), ('gains', 1), ('intrinsic', 1), ('government', 1), ('jumped', 1), ('well', 1), ('onehalf', 1), ('paid', 1), ('staggering', 1), ('price', 1), ('200000', 1), ('beyond', 1), ('seriously', 1), ('sickened', 1), ('survived', 1), ('emerged', 1), ('learned', 1), ('deal', 1), ('community', 1), ('heading', 1), ('due', 1), ('combination', 1), ('joe', 1), ('associate', 1), ('weren', 1), ('infectionnaive', 1), ('march', 1), ('subvariants', 1), ('first', 1), ('hold', 1), ('york', 1), ('rose', 1), ('eight', 1), ('about', 1), ('24', 1), ('midjune', 1), ('england', 1), ('increased', 1), ('peak', 1), ('34', 1), ('remained', 1), ('roughly', 1), ('each', 1), ('i', 1), ('think', 1), ('somewhat', 1), ('reassuring', 1), ('didn', 1), ('spike', 1), ('points', 1), ('jennifer', 1), ('nuzzo', 1), ('virginia', 1), ('pitzer', 1), ('yale', 1), ('shift', 1), ('stemmed', 1), ('part', 1), ('growing', 1), ('occurring', 1), ('fully', 1), ('previously', 1), ('instance', 1), ('grew', 1), ('60', 1), ('25', 1), ('collection', 1), ('staggered', 1), ('regional', 1), ('complicating', 1), ('trends', 1), ('example', 1), ('continued', 1), ('declines', 1), ('wintertime', 1), ('might', 1), ('helped', 1), ('obscure', 1), ('rising', 1), ('mortality', 1), ('moved', 1), ('doing', 1), ('weekly', 1), ('only', 1), ('holiday', 1), ('breaks', 1), ('causing', 1), ('frequent', 1), ('swings', 1), ('data', 1), ('residents', 1), ('died', 1), ('report', 1), ('all', 1), ('publicly', 1), ('affected', 1), ('curve', 1), ('surveillance', 1), ('system', 1), ('strong', 1), ('should', 1), ('does', 1), ('difficult', 1), ('understand', 1), ('pace', 1), ('trajectory', 1), ('outbreak', 1), ('possible', 1), ('reasons', 1), ('fallen', 1), ('further', 1), ('high', 1), ('precautions', 1), ('taken', 1), ('inevitably', 1), ('reaching', 1), ('vaccine', 1), ('status', 1), ('gain', 1), ('others', 1), ('become', 1), ('susceptible', 1), ('bad', 1), ('outcomes', 1), ('develop', 1), ('stagnant', 1), ('campaign', 1), ('distance', 1), ('shot', 1), ('effects', 1), ('waning', 1), ('overall', 1), ('ve', 1), ('coming', 1), ('sick', 1), ('megan', 1), ('emergency', 1), ('almost', 1), ('folks', 1), ('exception', 1), ('old', 1), ('immunosuppressed', 1), ('disparities', 1), ('access', 1), ('black', 1), ('hispanic', 1), ('eligible', 1), ('received', 1), ('white', 1), ('reflecting', 1), ('describe', 1), ('limited', 1), ('efforts', 1), ('within', 1), ('easy', 1), ('reach', 1), ('primary', 1), ('live', 1), ('far', 1), ('pharmacies', 1), ('struggle', 1), ('hospitalized', 1), ('making', 1), ('increases', 1), ('gradually', 1), ('follow', 1), ('unclear', 1), ('how', 1), ('hard', 1), ('hit', 1), ('lessvaccinated', 1), ('regions', 1), ('past', 1), ('grown', 1), ('unfortunately', 1), ('southern', 1), ('among', 1), ('jason', 1), ('salemi', 1), ('epidemiology', 1), ('florida', 1), ('certainly', 1), ('built', 1), ('unprecedented', 1), ('created', 1), ('significant', 1), ('own', 1), ('adult', 1), ('survivors', 1), ('under', 1), ('65', 1), ('dealt', 1), ('version', 1), ('recent', 1), ('study', 1), ('found', 1), ('missed', 1), ('work', 1), ('including', 1), ('periodically', 1), ('strained', 1), ('already', 1), ('staffing', 1), ('lingering', 1), ('symptoms', 1), ('bout', 1), ('until', 1), ('month', 1), ('again', 1), ('week', 1), ('subvariant', 1), ('hitting', 1), ('california', 1), ('team', 1), ('works', 1), ('reduced', 1), ('forcing', 1), ('delays', 1), ('consultations', 1), ('falling', 1), ('generally', 1), ('spending', 1), ('hospital', 1), ('presenting', 1), ('differently', 1), ('pressing', 1), ('difficulties', 1), ('tended', 1), ('direct', 1), ('result', 1), ('low', 1), ('oxygen', 1), ('pneumonia', 1), ('needed', 1), ('exacerbated', 1), ('diabetes', 1), ('heart', 1), ('trouble', 1), ('qualitatively', 1), ('quantitatively', 1), ('icu', 1), ('filled', 1), ('gasping', 1), ('breath', 1), ('door', 1)]\n"
          ]
        }
      ]
    },
    {
      "cell_type": "code",
      "source": [
        "frekuensi_token.plot()"
      ],
      "metadata": {
        "id": "tvDYVcR6Dwcf",
        "colab": {
          "base_uri": "https://localhost:8080/",
          "height": 388
        },
        "outputId": "c8aebc1c-85e5-4070-905d-8f5c0d9ffb16"
      },
      "execution_count": null,
      "outputs": [
        {
          "output_type": "display_data",
          "data": {
            "text/plain": [
              "<Figure size 432x288 with 1 Axes>"
            ],
            "image/png": "[encoded data removed]"
          },
          "metadata": {
            "needs_background": "light"
          }
        },
        {
          "output_type": "execute_result",
          "data": {
            "text/plain": [
              "<matplotlib.axes._subplots.AxesSubplot at 0x7ff64a0b5c90>"
            ]
          },
          "metadata": {},
          "execution_count": 7
        }
      ]
    },
    {
      "cell_type": "code",
      "source": [
        "# Stopword Removal\n",
        "# import nltk\n",
        "import nltk\n",
        "\n",
        "# download package punkt -> punctuation nltk\n",
        "nltk.download('punkt')\n",
        "\n",
        "# import stopwords\n",
        "from nltk.corpus import stopwords\n",
        "\n",
        "# download stopwords\n",
        "nltk.download('stopwords')\n",
        "\n",
        "# lakukan tokenisasi\n",
        "tokens = nltk.tokenize.word_tokenize(artikel)\n",
        "\n",
        "# stopwords dalam bahasa Inggris\n",
        "stopwords_set = set(stopwords.words('english'))\n",
        "\n",
        "# siapkan untuk menampung hasil setelah stopwords dibuang\n",
        "token_setelah_stopword = []\n",
        "\n",
        "# siapkan untuk menampung token yang dianggap stopwords\n",
        "token_stopword = []\n",
        "\n",
        "# cek semua token\n",
        "for token in tokens:\n",
        "    if token in stopwords_set:  # berarti termasuk stopword\n",
        "        token_stopword.append(token)\n",
        "    else:\n",
        "        token_setelah_stopword.append(token)\n",
        "\n",
        "# token-token yang termasuk stopword\n",
        "print(token_stopword)\n",
        "\n",
        "# token-token yang bukan stopword (dipakai untuk tahap berikutnya)\n",
        "print(token_setelah_stopword)"
      ],
      "metadata": {
        "id": "xzme1MuYD2lR",
        "colab": {
          "base_uri": "https://localhost:8080/"
        },
        "outputId": "77fa4ca0-ebc7-42b1-9ad1-5e7b5429ab52"
      },
      "execution_count": null,
      "outputs": [
        {
          "output_type": "stream",
          "name": "stdout",
          "text": [
            "['most', 'now', 'some', 'from', 'or', 'both', 'for', 'the', 'on', 'a', 'a', 'few', 'after', 'so', 'did', 'an', 'the', 'but', 'that', 'to', 'have', 'an', 'of', 'a', 'of', 'are', 'from', 'at', 'a', 'to', 'the', 'of', 'the', 'the', 'of', 'the', 'and', 'the', 'of', 'in', 'its', 'that', 'were', 'once', 'have', 'more', 'than', 'before', 'have', 'up', 'in', 'the', 'where', 'the', 'and', 'are', 'to', 'do', 'the', 'same', 'as', 'the', 'the', 'and', 'but', 'the', 'against', 'than', 'in', 'the', 'because', 'so', 'have', 'now', 'been', 'or', 'or', 'both', 'they', 'the', 'of', 'are', 'for', 'the', 'has', 'in', 'there', 'were', 'of', 'who', 'had', 'not', 'been', 'or', 'to', 'the', 'and', 'so', 'were', 'at', 'the', 'same', 'of', 'as', 'at', 'the', 'of', 'the', 'an', 'at', 'of', 'those', 'don', 't', 'that', 'in', 'the', 'has', 'up', 'a', 'of', 'than', 'they', 'did', 'the', 'to', 'at', 'than', 'having', 'some', 'from', 'and', 'those', 'with', 'is', 'an', 'of', 'the', 'who', 'were', 'in', 'but', 'so', 'an', 'at', 'that', 'the', 'is', 'more', 'than', 'as', 'as', 'or', 'are', 'and', 'of', 'those', 'who', 'the', 'are', 'some', 'of', 'them', 'for', 'after', 'their', 'with', 'the', 's', 'for', 'the', 'up', 'and', 'the', 'of', 'and', 'not', 'will', 'and', 'a', 'more', 'into', 's', 'against', 'as', 'the', 'and', 'the', 'of', 'the', 'will', 'be', 'an', 'at', 'we', 'can', 'be', 'off', 'this', 'the', 'between', 'and', 'over', 'the', 'but', 'the', 'of', 'that', 'this', 'has', 'been', 'than', 'during', 'any', 'the', 'of', 'the', 'is', 'now', 'as', 'as', 'it', 'was', 'at', 'that', 'that', 'a', 'of', 'are', 'in', 'by', 'some', 'the', 'the', 'of', 'that', 'is', 'than', 'it', 'was', 'and', 'than', 'it', 'was', 'in', 'and', 'the', 'of', 'these', 'has', 'that', 'to', 'for', 'those', 'at', 'the', 'of', 'that', 'are', 'a', 'as', 'that', 'too', 'is', 'but', 'it', 'the', 'of', 'who', 'the', 'some', 'that', 'the', 'of', 'is', 'the', 'of', 'the', 'by', 'his', 'that', 'the', 'of', 'to', 'from', 'the', 'of', 'the', 'to', 'and', 'from', 'to', 'this', 'what', 'we', 're', 'is', 'that', 'the', 'of', 'is', 'he', 'that', 'is', 'a', 'of', 'in', 'than', 'it', 'is', 'of', 'any', 'of', 'the', 'of', 'the', 'of', 'who', 'have', 'the', 'from', 'in', 'to', 'over', 'the', 'a', 'some', 'were', 'by', 'this', 'and', 'that', 'were', 'but', 'those', 'who', 'with', 'that', 'had', 'to', 'with', 'the', 'our', 'of', 'into', 'this', 'was', 'than', 'it', 's', 'been', 'to', 'the', 'of', 'and', 'an', 'of', 'at', 'the', 'of', 'a', 'of', 'who', 'weren', 't', 'and', 'were', 'most', 'of', 'them', 'were', 'with', 'over', 'the', 'from', 'to', 'in', 'the', 'where', 'the', 'this', 'as', 'in', 'the', 'of', 'from', 'in', 'to', 'about', 'in', 'in', 'from', 'to', 'a', 'of', 'over', 'the', 'same', 'but', 'the', 'where', 'have', 'been', 'have', 'in', 'each', 'after', 'did', 'i', 'it', 's', 'that', 'didn', 't', 'as', 'they', 'had', 'during', 'of', 'the', 'an', 'at', 'an', 'at', 'the', 'of', 'that', 'in', 'from', 'a', 'of', 'in', 'who', 'were', 'or', 'both', 'in', 'for', 'the', 'of', 'being', 'in', 'to', 'in', 'from', 'in', 'a', 'as', 'as', 'the', 'is', 'a', 'of', 'in', 'for', 'in', 'in', 'the', 'and', 'the', 'from', 'the', 'have', 'to', 'in', 'the', 'some', 'have', 'from', 'to', 'doing', 'so', 'and', 'they', 'have', 'only', 'up', 'from', 'more', 'in', 'the', 'and', 'some', 'that', 'so', 'had', 'from', 'this', 'that', 'it', 'them', 'to', 'all', 'of', 'those', 'that', 'too', 'have', 'the', 'our', 'in', 'the', 'is', 'not', 'as', 'as', 'it', 'should', 'be', 'or', 'be', 'and', 'it', 'does', 'it', 'more', 'for', 'to', 'the', 'and', 'of', 'the', 'there', 'are', 'a', 'of', 'that', 'have', 'not', 'further', 'with', 'so', 'and', 'few', 'being', 'the', 'is', 'who', 'are', 'more', 'because', 'of', 'their', 'or', 'and', 'as', 'some', 'during', 'the', 'more', 'to', 'as', 'they', 'or', 'the', 's', 'has', 'at', 'a', 'from', 'their', 'and', 'so', 'to', 'the', 'of', 'the', 'who', 've', 'been', 'through', 'with', 'are', 'than', 'they', 'were', 'this', 'an', 'at', 'it', 'a', 'for', 'with', 'the', 'of', 'who', 'are', 'who', 'are', 'or', 'who', 'are', 'in', 'to', 'and', 'have', 'some', 'at', 'and', 'for', 'have', 'the', 'at', 'than', 'have', 'what', 'some', 'as', 'in', 'some', 'to', 'who', 'do', 'not', 'have', 'or', 'who', 'from', 'can', 'to', 'the', 'of', 'is', 'it', 'that', 'in', 'will', 'it', 'is', 'how', 'the', 'will', 'the', 'where', 'from', 'has', 'in', 'are', 'the', 'in', 'the', 'a', 'of', 'at', 'the', 'of', 'but', 'there', 'is', 'a', 'of', 'up', 'through', 'as', 'the', 'of', 'this', 'and', 'has', 'of', 'its', 'own', 'in', 'the', 'in', 'of', 'under', 'has', 'with', 'some', 'of', 'a', 'have', 'this', 'have', 'that', 'had', 'of', 'that', 'he', 'had', 'from', 'a', 'with', 'until', 'a', 'he', 'was', 'again', 'as', 'of', 'he', 'with', 'the', 'his', 'of', 'at', 'of', 'the', 'where', 'he', 'had', 'been', 'to', 'because', 'of', 'to', 'for', 'some', 'in', 'the', 'where', 'have', 'been', 'for', 'that', 'had', 'been', 'in', 'the', 'during', 'the', 'they', 'had', 'been', 'she', 'in', 'most', 'to', 'be', 'the', 'of', 'or', 'this', 'she', 'more', 'because', 'had', 'or', 'this', 'and', 'we', 're', 'not', 'our', 'up', 'with', 'who', 'are', 'for', 'or', 'who', 'are', 'on', 's']\n",
            "['americans', 'carry', 'immune', 'protection', 'experts', 'said', 'whether', 'vaccines', 'infection', 'two', 'years', 'coronavirus', 'killed', 'americans', 'brutal', 'predictable', 'schedule', 'weeks', 'infections', 'climbed', 'deaths', 'cutting', 'unforgiving', 'path', 'across', 'country', 'pattern', 'appears', 'changed', 'nearly', 'three', 'months', 'since', 'ultracontagious', 'set', 'new', 'omicron', 'variants', 'launched', 'springtime', 'resurgence', 'cases', 'people', 'nonetheless', 'dying', 'covid', 'rate', 'close', 'lowest', 'pandemic', 'spread', 'virus', 'number', 'deaths', 'wake', 'two', 'measures', 'yoked', 'together', 'diverged', 'ever', 'epidemiologists', 'said', 'deaths', 'ticked', 'slowly', 'northeastern', 'united', 'states', 'latest', 'wave', 'began', 'likely', 'nationally', 'surge', 'pushes', 'across', 'south', 'west', 'country', 'remains', 'better', 'fortified', 'covid', 'deaths', 'earlier', 'pandemic', 'scientists', 'said', 'many', 'americans', 'vaccinated', 'infected', 'said', 'number', 'people', 'whose', 'immune', 'systems', 'entirely', 'unprepared', 'virus', 'significantly', 'dwindled', '“', 'previous', 'waves', 'still', 'substantial', 'pockets', 'people', 'vaccinated', 'exposed', 'virus', 'risk', 'dying', 'people', 'beginning', 'pandemic', '”', 'said', 'dr', 'david', 'dowdy', 'epidemiologist', 'johns', 'hopkins', 'bloomberg', 'school', 'public', 'health', '“', 'pockets', '’', 'exist', 'anymore', '”', 'turn', 'pandemic', 'nevertheless', 'left', 'many', 'americans', 'behind', 'older', 'people', 'make', 'larger', 'share', 'covid', 'deaths', 'last', 'year', 'virus', 'continues', 'kill', 'unvaccinated', 'people', 'much', 'higher', 'rates', 'vaccinated', 'people', 'despite', 'many', 'unvaccinated', 'people', 'protection', 'prior', 'infections', 'weakened', 'immune', 'systems', 'also', 'face', 'greater', 'risks', 'covid', 'still', 'killing', 'average', '314', 'people', 'daily', 'onetenth', 'number', 'dying', 'every', 'day', 'january', '2021', 'even', 'awful', 'toll', 'rate', 'virus', 'killing', 'twice', 'many', 'americans', 'every', 'day', 'suicide', 'car', 'crashes', 'many', 'survive', 'virus', 'debilitated', 'long', 'infections', 'country', '’', 'resources', 'fighting', 'virus', 'drying', 'many', 'americans', 'forgoing', 'booster', 'shots', 'decoupling', 'cases', 'deaths', 'may', 'last', 'immunity', 'wane', 'evasive', 'variant', 'could', 'cut', 'people', '’', 'residual', 'protection', 'severe', 'disease', '“', 'time', 'since', 'people', 'got', 'vaccinated', 'becomes', 'longer', 'longer', 'efficacy', 'immune', 'response', 'lessened', '”', 'said', 'dr', 'abraar', 'karan', 'infectious', 'disease', 'physician', 'stanford', 'university', '“', 'caught', 'guard', 'later', 'year', '”', 'link', 'covid', 'cases', 'deaths', 'started', 'weakening', 'winter', 'scientists', 'said', 'sheer', 'volume', 'americans', 'getting', 'infected', 'meant', 'fatalities', 'still', 'soared', 'spring', 'covid', 'killing', 'fewer', 'americans', 'daily', 'period', 'except', 'summer', '2021', 'country', 'recording', '10', 'times', 'many', 'cases', 'time', 'indicating', 'smaller', 'share', 'cases', 'ending', 'death', 'estimates', 'case', 'fatality', 'rate', '—', 'share', 'recorded', 'covid', 'cases', 'prove', 'deadly', '—', 'onethird', 'lower', 'last', 'summer', 'onequarter', 'lower', 'december', 'recorded', 'cases', 'always', 'understate', 'actual', 'infection', 'levels', 'prevalence', 'athome', 'testing', 'days', 'made', 'especially', 'true', 'account', 'problems', 'dr', 'dowdy', 'looked', 'proportion', 'reported', 'test', 'results', 'positive', 'figure', 'known', 'test', 'positivity', 'measure', 'imperfect', 'reflects', 'enormous', 'numbers', 'americans', 'recently', 'contracted', 'virus', 'scientists', 'estimate', 'current', 'wave', 'cases', 'secondlargest', 'pandemic', 'rough', 'calculations', 'dr', 'dowdy', 'estimated', 'ratio', 'deaths', 'test', 'positivity', 'fell', 'threefold', 'early', 'days', 'pandemic', 'january', '2022', 'fourfold', 'january', '2022', 'spring', '“', '’', 'seeing', 'average', 'case', 'covid19', 'becoming', 'much', 'milder', '”', 'said', 'better', 'reflection', 'gains', 'immunity', 'intrinsic', 'weakening', 'virus', 'scientists', 'said', 'government', 'estimates', 'share', 'americans', 'contracted', 'virus', 'jumped', 'onethird', 'december', '2021', 'well', 'onehalf', 'two', 'months', 'later', 'country', 'paid', 'staggering', 'price', '200000', 'people', 'killed', 'covid', 'winter', 'large', 'numbers', 'beyond', 'seriously', 'sickened', 'survived', 'infections', 'emerged', 'immune', 'systems', 'learned', 'better', 'deal', 'virus', '“', 'level', 'community', 'immunity', 'heading', 'wave', 'much', 'higher', '’', 'ever', 'due', 'combination', 'infection', 'vaccination', '”', 'said', 'dr', 'joe', 'gerald', 'associate', 'professor', 'public', 'health', 'university', 'arizona', '“', 'lot', 'people', '’', 'vaccinated', 'infectionnaive', '—', 'infected', 'omicron', 'period', 'january', 'early', 'march', '”', 'northeast', 'omicron', 'subvariants', 'first', 'took', 'hold', 'spring', 'deaths', 'climbed', 'cases', 'surged', 'new', 'york', 'daily', 'average', 'covid', 'deaths', 'rose', 'eight', 'april', '24', 'midjune', 'daily', 'deaths', 'new', 'england', 'increased', 'five', 'peak', '34', 'period', 'across', 'united', 'states', 'cases', 'climbing', 'since', 'early', 'april', 'deaths', 'remained', 'roughly', 'level', 'previous', 'wave', 'national', 'covid', 'deaths', 'surged', 'several', 'weeks', 'cases', '“', 'think', '’', 'somewhat', 'reassuring', 'deaths', '’', 'really', 'spike', 'earlier', 'points', 'pandemic', '”', 'said', 'jennifer', 'nuzzo', 'epidemiologist', 'brown', 'university', 'virginia', 'pitzer', 'epidemiologist', 'yale', 'school', 'public', 'health', 'said', 'shift', 'stemmed', 'part', 'growing', 'share', 'cases', 'occurring', 'people', 'fully', 'vaccinated', 'previously', 'infected', 'arizona', 'instance', 'share', 'covid', 'cases', 'recorded', 'vaccinated', 'people', 'grew', '60', 'percent', 'april', '25', 'percent', 'five', 'months', 'earlier', 'country', 'large', 'united', 'states', 'every', 'covid', 'wave', 'also', 'collection', 'staggered', 'regional', 'surges', 'complicating', 'national', 'trends', 'early', 'may', 'example', 'continued', 'declines', 'covid', 'deaths', 'south', 'west', 'wintertime', 'omicron', 'wave', 'might', 'helped', 'obscure', 'rising', 'mortality', 'levels', 'northeast', 'states', 'also', 'moved', 'reporting', 'covid', 'deaths', 'daily', 'weekly', 'slowly', 'caught', 'holiday', 'reporting', 'breaks', 'causing', 'frequent', 'daily', 'swings', 'data', 'states', 'said', 'many', 'residents', 'died', 'covid', 'winter', 'took', 'weeks', 'report', 'deaths', 'publicly', 'could', 'affected', 'national', 'death', 'curve', '“', 'surveillance', 'system', 'us', 'strong', 'could', '”', 'dr', 'gerald', 'said', '“', 'make', 'difficult', 'us', 'understand', 'pace', 'trajectory', 'outbreak', '”', 'number', 'possible', 'reasons', 'covid', 'deaths', 'fallen', 'even', 'infection', 'levels', 'high', 'precautions', 'taken', 'virus', 'inevitably', 'reaching', 'people', 'vulnerable', 'vaccine', 'status', 'age', 'underlying', 'conditions', 'even', 'people', 'gain', 'immune', 'protection', 'pandemic', 'others', 'become', 'susceptible', 'bad', 'outcomes', 'age', 'develop', 'weakened', 'immune', 'systems', 'country', '’', 'stagnant', 'booster', 'campaign', 'also', 'left', 'many', 'older', 'people', 'long', 'distance', 'last', 'shot', 'vulnerable', 'effects', 'waning', 'immunity', '“', 'overall', 'people', '’', 'coming', 'covid', 'much', 'much', 'less', 'sick', 'even', 'winter', '”', 'said', 'dr', 'megan', 'ranney', 'emergency', 'physician', 'brown', 'university', '“', 'feels', 'like', 'almost', 'different', 'disease', 'folks', 'exception', 'people', 'really', 'old', 'unvaccinated', 'immunosuppressed', '”', 'disparities', 'access', 'booster', 'shots', 'antiviral', 'pills', 'also', 'put', 'americans', 'higher', 'risk', 'black', 'hispanic', 'people', 'eligible', 'boosters', 'received', 'shots', 'lower', 'rates', 'white', 'people', 'reflecting', 'epidemiologists', 'describe', 'limited', 'efforts', 'states', 'put', 'boosters', 'within', 'easy', 'reach', 'patients', 'primary', 'care', 'doctors', 'live', 'far', 'pharmacies', 'also', 'struggle', 'get', 'antiviral', 'pills', 'number', 'hospitalized', 'covid', 'patients', 'still', 'climbing', 'nationally', 'making', 'likely', 'increases', 'deaths', 'gradually', 'follow', 'epidemiologists', 'said', 'unclear', 'hard', 'wave', 'hit', 'lessvaccinated', 'regions', 'like', 'south', 'immunity', 'past', 'infections', 'also', 'grown', '“', 'unfortunately', 'vaccination', 'rates', 'many', 'southern', 'states', 'among', 'lowest', 'country', '”', 'said', 'jason', 'salemi', 'professor', 'epidemiology', 'university', 'south', 'florida', '“', 'certainly', 'lot', 'immunity', 'built', 'prior', 'infection', '”', 'even', 'fewer', 'cases', 'turn', 'deadly', 'unprecedented', 'number', 'infections', 'winter', 'spring', 'created', 'significant', 'problems', 'united', 'states', 'one', 'five', 'adult', 'survivors', 'covid', '65', 'dealt', 'version', 'long', 'covid', 'recent', 'study', 'found', 'many', 'people', 'missed', 'work', 'including', 'doctors', 'whose', 'absences', 'spring', 'periodically', 'strained', 'hospitals', 'already', 'staffing', 'problems', 'dr', 'karan', 'stanford', 'said', 'lingering', 'symptoms', 'january', 'bout', 'covid', 'april', 'month', 'later', 'infected', 'last', 'week', 'said', 'subvariant', 'surge', 'hitting', 'california', 'team', 'five', 'doctors', 'one', 'hospitals', 'works', 'reduced', 'two', 'covid', 'absences', 'forcing', 'delays', 'consultations', 'patients', 'northeast', 'cases', 'falling', 'several', 'weeks', 'dr', 'ranney', 'said', 'covid', 'patients', 'generally', 'spending', 'less', 'time', 'hospital', 'latest', 'wave', 'also', 'presenting', 'differently', 'said', 'previous', 'surges', 'patients', '’', 'pressing', 'difficulties', 'tended', 'direct', 'result', 'covid', 'like', 'low', 'oxygen', 'levels', 'severe', 'pneumonia', 'spring', 'said', 'patients', 'needed', 'care', 'covid', 'exacerbated', 'underlying', 'conditions', 'like', 'diabetes', 'heart', 'trouble', '“', 'wave', 'feels', 'qualitatively', 'quantitatively', 'different', '”', 'dr', 'ranney', 'said', '“', '’', 'seeing', 'icu', 'get', 'filled', 'patients', 'gasping', 'breath', 'death', '’', 'door', '”']\n"
          ]
        },
        {
          "output_type": "stream",
          "name": "stderr",
          "text": [
            "[nltk_data] Downloading package punkt to /root/nltk_data...\n",
            "[nltk_data]   Package punkt is already up-to-date!\n",
            "[nltk_data] Downloading package stopwords to /root/nltk_data...\n",
            "[nltk_data]   Unzipping corpora/stopwords.zip.\n"
          ]
        }
      ]
    },
    {
      "cell_type": "code",
      "source": [
        "#Stemming\n",
        "from nltk.stem import PorterStemmer\n",
        "porter = PorterStemmer()\n",
        "\n",
        "hasil_stemming_porter = [porter.stem(word) for word in token_setelah_stopword]\n",
        "print(hasil_stemming_porter)"
      ],
      "metadata": {
        "id": "a8FisTvdEAEj",
        "colab": {
          "base_uri": "https://localhost:8080/"
        },
        "outputId": "3f93da73-d0d5-4b00-c60e-dab3dabdd277"
      },
      "execution_count": null,
      "outputs": [
        {
          "output_type": "stream",
          "name": "stdout",
          "text": [
            "['american', 'carri', 'immun', 'protect', 'expert', 'said', 'whether', 'vaccin', 'infect', 'two', 'year', 'coronaviru', 'kill', 'american', 'brutal', 'predict', 'schedul', 'week', 'infect', 'climb', 'death', 'cut', 'unforgiv', 'path', 'across', 'countri', 'pattern', 'appear', 'chang', 'nearli', 'three', 'month', 'sinc', 'ultracontagi', 'set', 'new', 'omicron', 'variant', 'launch', 'springtim', 'resurg', 'case', 'peopl', 'nonetheless', 'die', 'covid', 'rate', 'close', 'lowest', 'pandem', 'spread', 'viru', 'number', 'death', 'wake', 'two', 'measur', 'yoke', 'togeth', 'diverg', 'ever', 'epidemiologist', 'said', 'death', 'tick', 'slowli', 'northeastern', 'unit', 'state', 'latest', 'wave', 'began', 'like', 'nation', 'surg', 'push', 'across', 'south', 'west', 'countri', 'remain', 'better', 'fortifi', 'covid', 'death', 'earlier', 'pandem', 'scientist', 'said', 'mani', 'american', 'vaccin', 'infect', 'said', 'number', 'peopl', 'whose', 'immun', 'system', 'entir', 'unprepar', 'viru', 'significantli', 'dwindl', '“', 'previou', 'wave', 'still', 'substanti', 'pocket', 'peopl', 'vaccin', 'expos', 'viru', 'risk', 'die', 'peopl', 'begin', 'pandem', '”', 'said', 'dr', 'david', 'dowdi', 'epidemiologist', 'john', 'hopkin', 'bloomberg', 'school', 'public', 'health', '“', 'pocket', '’', 'exist', 'anymor', '”', 'turn', 'pandem', 'nevertheless', 'left', 'mani', 'american', 'behind', 'older', 'peopl', 'make', 'larger', 'share', 'covid', 'death', 'last', 'year', 'viru', 'continu', 'kill', 'unvaccin', 'peopl', 'much', 'higher', 'rate', 'vaccin', 'peopl', 'despit', 'mani', 'unvaccin', 'peopl', 'protect', 'prior', 'infect', 'weaken', 'immun', 'system', 'also', 'face', 'greater', 'risk', 'covid', 'still', 'kill', 'averag', '314', 'peopl', 'daili', 'onetenth', 'number', 'die', 'everi', 'day', 'januari', '2021', 'even', 'aw', 'toll', 'rate', 'viru', 'kill', 'twice', 'mani', 'american', 'everi', 'day', 'suicid', 'car', 'crash', 'mani', 'surviv', 'viru', 'debilit', 'long', 'infect', 'countri', '’', 'resourc', 'fight', 'viru', 'dri', 'mani', 'american', 'forgo', 'booster', 'shot', 'decoupl', 'case', 'death', 'may', 'last', 'immun', 'wane', 'evas', 'variant', 'could', 'cut', 'peopl', '’', 'residu', 'protect', 'sever', 'diseas', '“', 'time', 'sinc', 'peopl', 'got', 'vaccin', 'becom', 'longer', 'longer', 'efficaci', 'immun', 'respons', 'lessen', '”', 'said', 'dr', 'abraar', 'karan', 'infecti', 'diseas', 'physician', 'stanford', 'univers', '“', 'caught', 'guard', 'later', 'year', '”', 'link', 'covid', 'case', 'death', 'start', 'weaken', 'winter', 'scientist', 'said', 'sheer', 'volum', 'american', 'get', 'infect', 'meant', 'fatal', 'still', 'soar', 'spring', 'covid', 'kill', 'fewer', 'american', 'daili', 'period', 'except', 'summer', '2021', 'countri', 'record', '10', 'time', 'mani', 'case', 'time', 'indic', 'smaller', 'share', 'case', 'end', 'death', 'estim', 'case', 'fatal', 'rate', '—', 'share', 'record', 'covid', 'case', 'prove', 'deadli', '—', 'onethird', 'lower', 'last', 'summer', 'onequart', 'lower', 'decemb', 'record', 'case', 'alway', 'underst', 'actual', 'infect', 'level', 'preval', 'athom', 'test', 'day', 'made', 'especi', 'true', 'account', 'problem', 'dr', 'dowdi', 'look', 'proport', 'report', 'test', 'result', 'posit', 'figur', 'known', 'test', 'posit', 'measur', 'imperfect', 'reflect', 'enorm', 'number', 'american', 'recent', 'contract', 'viru', 'scientist', 'estim', 'current', 'wave', 'case', 'secondlargest', 'pandem', 'rough', 'calcul', 'dr', 'dowdi', 'estim', 'ratio', 'death', 'test', 'posit', 'fell', 'threefold', 'earli', 'day', 'pandem', 'januari', '2022', 'fourfold', 'januari', '2022', 'spring', '“', '’', 'see', 'averag', 'case', 'covid19', 'becom', 'much', 'milder', '”', 'said', 'better', 'reflect', 'gain', 'immun', 'intrins', 'weaken', 'viru', 'scientist', 'said', 'govern', 'estim', 'share', 'american', 'contract', 'viru', 'jump', 'onethird', 'decemb', '2021', 'well', 'onehalf', 'two', 'month', 'later', 'countri', 'paid', 'stagger', 'price', '200000', 'peopl', 'kill', 'covid', 'winter', 'larg', 'number', 'beyond', 'serious', 'sicken', 'surviv', 'infect', 'emerg', 'immun', 'system', 'learn', 'better', 'deal', 'viru', '“', 'level', 'commun', 'immun', 'head', 'wave', 'much', 'higher', '’', 'ever', 'due', 'combin', 'infect', 'vaccin', '”', 'said', 'dr', 'joe', 'gerald', 'associ', 'professor', 'public', 'health', 'univers', 'arizona', '“', 'lot', 'peopl', '’', 'vaccin', 'infectionna', '—', 'infect', 'omicron', 'period', 'januari', 'earli', 'march', '”', 'northeast', 'omicron', 'subvari', 'first', 'took', 'hold', 'spring', 'death', 'climb', 'case', 'surg', 'new', 'york', 'daili', 'averag', 'covid', 'death', 'rose', 'eight', 'april', '24', 'midjun', 'daili', 'death', 'new', 'england', 'increas', 'five', 'peak', '34', 'period', 'across', 'unit', 'state', 'case', 'climb', 'sinc', 'earli', 'april', 'death', 'remain', 'roughli', 'level', 'previou', 'wave', 'nation', 'covid', 'death', 'surg', 'sever', 'week', 'case', '“', 'think', '’', 'somewhat', 'reassur', 'death', '’', 'realli', 'spike', 'earlier', 'point', 'pandem', '”', 'said', 'jennif', 'nuzzo', 'epidemiologist', 'brown', 'univers', 'virginia', 'pitzer', 'epidemiologist', 'yale', 'school', 'public', 'health', 'said', 'shift', 'stem', 'part', 'grow', 'share', 'case', 'occur', 'peopl', 'fulli', 'vaccin', 'previous', 'infect', 'arizona', 'instanc', 'share', 'covid', 'case', 'record', 'vaccin', 'peopl', 'grew', '60', 'percent', 'april', '25', 'percent', 'five', 'month', 'earlier', 'countri', 'larg', 'unit', 'state', 'everi', 'covid', 'wave', 'also', 'collect', 'stagger', 'region', 'surg', 'complic', 'nation', 'trend', 'earli', 'may', 'exampl', 'continu', 'declin', 'covid', 'death', 'south', 'west', 'wintertim', 'omicron', 'wave', 'might', 'help', 'obscur', 'rise', 'mortal', 'level', 'northeast', 'state', 'also', 'move', 'report', 'covid', 'death', 'daili', 'weekli', 'slowli', 'caught', 'holiday', 'report', 'break', 'caus', 'frequent', 'daili', 'swing', 'data', 'state', 'said', 'mani', 'resid', 'die', 'covid', 'winter', 'took', 'week', 'report', 'death', 'publicli', 'could', 'affect', 'nation', 'death', 'curv', '“', 'surveil', 'system', 'us', 'strong', 'could', '”', 'dr', 'gerald', 'said', '“', 'make', 'difficult', 'us', 'understand', 'pace', 'trajectori', 'outbreak', '”', 'number', 'possibl', 'reason', 'covid', 'death', 'fallen', 'even', 'infect', 'level', 'high', 'precaut', 'taken', 'viru', 'inevit', 'reach', 'peopl', 'vulner', 'vaccin', 'statu', 'age', 'underli', 'condit', 'even', 'peopl', 'gain', 'immun', 'protect', 'pandem', 'other', 'becom', 'suscept', 'bad', 'outcom', 'age', 'develop', 'weaken', 'immun', 'system', 'countri', '’', 'stagnant', 'booster', 'campaign', 'also', 'left', 'mani', 'older', 'peopl', 'long', 'distanc', 'last', 'shot', 'vulner', 'effect', 'wane', 'immun', '“', 'overal', 'peopl', '’', 'come', 'covid', 'much', 'much', 'less', 'sick', 'even', 'winter', '”', 'said', 'dr', 'megan', 'ranney', 'emerg', 'physician', 'brown', 'univers', '“', 'feel', 'like', 'almost', 'differ', 'diseas', 'folk', 'except', 'peopl', 'realli', 'old', 'unvaccin', 'immunosuppress', '”', 'dispar', 'access', 'booster', 'shot', 'antivir', 'pill', 'also', 'put', 'american', 'higher', 'risk', 'black', 'hispan', 'peopl', 'elig', 'booster', 'receiv', 'shot', 'lower', 'rate', 'white', 'peopl', 'reflect', 'epidemiologist', 'describ', 'limit', 'effort', 'state', 'put', 'booster', 'within', 'easi', 'reach', 'patient', 'primari', 'care', 'doctor', 'live', 'far', 'pharmaci', 'also', 'struggl', 'get', 'antivir', 'pill', 'number', 'hospit', 'covid', 'patient', 'still', 'climb', 'nation', 'make', 'like', 'increas', 'death', 'gradual', 'follow', 'epidemiologist', 'said', 'unclear', 'hard', 'wave', 'hit', 'lessvaccin', 'region', 'like', 'south', 'immun', 'past', 'infect', 'also', 'grown', '“', 'unfortun', 'vaccin', 'rate', 'mani', 'southern', 'state', 'among', 'lowest', 'countri', '”', 'said', 'jason', 'salemi', 'professor', 'epidemiolog', 'univers', 'south', 'florida', '“', 'certainli', 'lot', 'immun', 'built', 'prior', 'infect', '”', 'even', 'fewer', 'case', 'turn', 'deadli', 'unpreced', 'number', 'infect', 'winter', 'spring', 'creat', 'signific', 'problem', 'unit', 'state', 'one', 'five', 'adult', 'survivor', 'covid', '65', 'dealt', 'version', 'long', 'covid', 'recent', 'studi', 'found', 'mani', 'peopl', 'miss', 'work', 'includ', 'doctor', 'whose', 'absenc', 'spring', 'period', 'strain', 'hospit', 'alreadi', 'staf', 'problem', 'dr', 'karan', 'stanford', 'said', 'linger', 'symptom', 'januari', 'bout', 'covid', 'april', 'month', 'later', 'infect', 'last', 'week', 'said', 'subvari', 'surg', 'hit', 'california', 'team', 'five', 'doctor', 'one', 'hospit', 'work', 'reduc', 'two', 'covid', 'absenc', 'forc', 'delay', 'consult', 'patient', 'northeast', 'case', 'fall', 'sever', 'week', 'dr', 'ranney', 'said', 'covid', 'patient', 'gener', 'spend', 'less', 'time', 'hospit', 'latest', 'wave', 'also', 'present', 'differ', 'said', 'previou', 'surg', 'patient', '’', 'press', 'difficulti', 'tend', 'direct', 'result', 'covid', 'like', 'low', 'oxygen', 'level', 'sever', 'pneumonia', 'spring', 'said', 'patient', 'need', 'care', 'covid', 'exacerb', 'underli', 'condit', 'like', 'diabet', 'heart', 'troubl', '“', 'wave', 'feel', 'qualit', 'quantit', 'differ', '”', 'dr', 'ranney', 'said', '“', '’', 'see', 'icu', 'get', 'fill', 'patient', 'gasp', 'breath', 'death', '’', 'door', '”']\n"
          ]
        }
      ]
    },
    {
      "cell_type": "code",
      "source": [
        "!pip install PySastrawi"
      ],
      "metadata": {
        "colab": {
          "base_uri": "https://localhost:8080/"
        },
        "id": "lz6codCtaVY3",
        "outputId": "e051be5e-9f57-48c0-ad8e-dca3cd173f65"
      },
      "execution_count": null,
      "outputs": [
        {
          "output_type": "stream",
          "name": "stdout",
          "text": [
            "Looking in indexes: https://pypi.org/simple, https://us-python.pkg.dev/colab-wheels/public/simple/\n",
            "Collecting PySastrawi\n",
            "  Downloading PySastrawi-1.2.0-py2.py3-none-any.whl (210 kB)\n",
            "\u001b[K     |████████████████████████████████| 210 kB 5.1 MB/s \n",
            "\u001b[?25hInstalling collected packages: PySastrawi\n",
            "Successfully installed PySastrawi-1.2.0\n"
          ]
        }
      ]
    },
    {
      "cell_type": "code",
      "source": [
        "teks =\"\"\"Kumpulan foto terbaru dari rover NASA Perseverance mengungkap keberadaan sebuah batu bulat di Mars. Batu itu tampak seimbang bertengger di atas batuan lain yang cukup tinggi. Anehnya, batu itu tidak jatuh.\n",
        "\n",
        "Foto itu diambil di Kawah Jezero Mars oleh Mastcam-Z kanan Perseverance di Sol 466, tanggal 12 Juni waktu Bumi. Gambar ini pun segera dikirim ke NASA untuk menanyakan batu apa itu, dan mengapa bisa sampai di Mars.\n",
        "\n",
        "James Rice, ahli geologi di tim Mastcam-Z dari School of Earth and Space Exploration di Arizona State University kemudian menjelaskan batu tersebut adalah batuan penyeimbang, kadang-kadang disebut Precariously Balanced Rocks (PBR) dengan berbagai ukuran, mulai dari ukuran batuan kecil hingga formasi setinggi ratusan kaki. Batu ini terbentuk secara alami dan tidak terlalu luar biasa.\n",
        "\n",
        "Baca artikel detikinet, Ada Batu Ajaib yang Tidak Bisa Jatuh di Planet Mars\"\"\""
      ],
      "metadata": {
        "id": "L05sxtKoafQb"
      },
      "execution_count": null,
      "outputs": []
    },
    {
      "cell_type": "code",
      "source": [
        "from Sastrawi.Stemmer.StemmerFactory import StemmerFactory\n",
        "\n",
        "# create stemmer\n",
        "factory = StemmerFactory()\n",
        "stemmer = factory.create_stemmer()\n",
        "\n",
        "# stemming process\n",
        "#sentence = 'Perekonomian Indonesia sedang dalam pertumbuhan yang membanggakan'\n",
        "output   = stemmer.stem(teks)\n",
        "\n",
        "print(output)\n",
        "# ekonomi indonesia sedang dalam tumbuh yang bangga\n",
        "\n",
        "#print(stemmer.stem('Mereka meniru-nirukannya'))\n",
        "# mereka tiru"
      ],
      "metadata": {
        "colab": {
          "base_uri": "https://localhost:8080/"
        },
        "id": "ZYy54L1aaHcX",
        "outputId": "96a01dec-7a87-40ed-85c3-82fc3b8eb2ed"
      },
      "execution_count": null,
      "outputs": [
        {
          "output_type": "stream",
          "name": "stdout",
          "text": [
            "kumpul foto baru dari rover nasa perseverance ungkap ada buah batu bulat di mars batu itu tampak imbang tengger di atas batu lain yang cukup tinggi aneh batu itu tidak jatuh foto itu ambil di kawah jezero mars oleh mastcam-z kanan perseverance di sol 466 tanggal 12 juni waktu bumi gambar ini pun segera kirim ke nasa untuk tanya batu apa itu dan mengapa bisa sampai di mars james rice ahli geologi di tim mastcam-z dari school of earth and space exploration di arizona state university kemudian jelas batu sebut adalah batu imbang kadang sebut precariously balanced rocks pbr dengan bagai ukur mulai dari ukur batu kecil hingga formasi setinggi ratus kaki batu ini bentuk cara alami dan tidak terlalu luar biasa baca artikel detikinet ada batu ajaib yang tidak bisa jatuh di planet mars\n"
          ]
        }
      ]
    },
    {
      "cell_type": "code",
      "source": [
        "pip install simplemma"
      ],
      "metadata": {
        "colab": {
          "base_uri": "https://localhost:8080/"
        },
        "id": "Tz8ECLoDbmk3",
        "outputId": "5e0f68d7-6a16-4d68-8d60-7b4b9986f7dc"
      },
      "execution_count": null,
      "outputs": [
        {
          "output_type": "stream",
          "name": "stdout",
          "text": [
            "Looking in indexes: https://pypi.org/simple, https://us-python.pkg.dev/colab-wheels/public/simple/\n",
            "Collecting simplemma\n",
            "  Downloading simplemma-0.7.0-py3-none-any.whl (73.4 MB)\n",
            "\u001b[K     |████████████████████████████████| 73.4 MB 1.1 MB/s \n",
            "\u001b[?25hInstalling collected packages: simplemma\n",
            "Successfully installed simplemma-0.7.0\n"
          ]
        }
      ]
    },
    {
      "cell_type": "code",
      "source": [
        "import simplemma\n",
        "simplemma.lemmatize(teks, lang='id')"
      ],
      "metadata": {
        "colab": {
          "base_uri": "https://localhost:8080/",
          "height": 125
        },
        "id": "DMK67GOsbrdi",
        "outputId": "ad78f0b1-a6f2-4a8c-dd10-8bd273728ea3"
      },
      "execution_count": null,
      "outputs": [
        {
          "output_type": "execute_result",
          "data": {
            "text/plain": [
              "'Kumpulan foto terbaru dari rover NASA Perseverance mengungkap keberadaan sebuah batu bulat di Mars. Batu itu tampak seimbang bertengger di atas batuan lain yang cukup tinggi. Anehnya, batu itu tidak jatuh.\\n\\nFoto itu diambil di Kawah Jezero Mars oleh Mastcam-Z kanan Perseverance di Sol 466, tanggal 12 Juni waktu Bumi. Gambar ini pun segera dikirim ke NASA untuk menanyakan batu apa itu, dan mengapa bisa sampai di Mars.\\n\\nJames Rice, ahli geologi di tim Mastcam-Z dari School of Earth and Space Exploration di Arizona State University kemudian menjelaskan batu tersebut adalah batuan penyeimbang, kadang-kadang disebut Precariously Balanced Rocks (PBR) dengan berbagai ukuran, mulai dari ukuran batuan kecil hingga formasi setinggi ratusan kaki. Batu ini terbentuk secara alami dan tidak terlalu luar biasa.\\n\\nBaca artikel detikinet, Ada Batu Ajaib yang Tidak Bisa Jatuh di Planet Mars'"
            ],
            "application/vnd.google.colaboratory.intrinsic+json": {
              "type": "string"
            }
          },
          "metadata": {},
          "execution_count": 19
        }
      ]
    },
    {
      "cell_type": "code",
      "source": [
        "from simplemma import text_lemmatizer\n",
        "text_lemmatizer(teks, lang='id')"
      ],
      "metadata": {
        "colab": {
          "base_uri": "https://localhost:8080/"
        },
        "id": "q2xsfqHUcLxN",
        "outputId": "f981f18c-1a50-40bc-f4db-e77c279789cd"
      },
      "execution_count": null,
      "outputs": [
        {
          "output_type": "execute_result",
          "data": {
            "text/plain": [
              "['kumpul',\n",
              " 'foto',\n",
              " 'baru',\n",
              " 'dari',\n",
              " 'rover',\n",
              " 'NASA',\n",
              " 'Perseverance',\n",
              " 'ungkap',\n",
              " 'keberadaan',\n",
              " 'sebuah',\n",
              " 'batu',\n",
              " 'bulat',\n",
              " 'di',\n",
              " 'Mars',\n",
              " '.',\n",
              " 'batu',\n",
              " 'itu',\n",
              " 'tampak',\n",
              " 'seimbang',\n",
              " 'bertengger',\n",
              " 'di',\n",
              " 'atas',\n",
              " 'batu',\n",
              " 'lain',\n",
              " 'yang',\n",
              " 'cukup',\n",
              " 'tinggi',\n",
              " '.',\n",
              " 'aneh',\n",
              " ',',\n",
              " 'batu',\n",
              " 'itu',\n",
              " 'tidak',\n",
              " 'jatuh',\n",
              " '.',\n",
              " 'foto',\n",
              " 'itu',\n",
              " 'ambil',\n",
              " 'di',\n",
              " 'kawah',\n",
              " 'Jezero',\n",
              " 'Mars',\n",
              " 'oleh',\n",
              " 'Mastcam-Z',\n",
              " 'kanan',\n",
              " 'Perseverance',\n",
              " 'di',\n",
              " 'Sol',\n",
              " '466',\n",
              " ',',\n",
              " 'tanggal',\n",
              " '12',\n",
              " 'Juni',\n",
              " 'waktu',\n",
              " 'bumi',\n",
              " '.',\n",
              " 'gambar',\n",
              " 'ini',\n",
              " 'pun',\n",
              " 'segera',\n",
              " 'kirim',\n",
              " 'ke',\n",
              " 'NASA',\n",
              " 'untuk',\n",
              " 'menanyakan',\n",
              " 'batu',\n",
              " 'apa',\n",
              " 'itu',\n",
              " ',',\n",
              " 'dan',\n",
              " 'mengapa',\n",
              " 'bisa',\n",
              " 'sampai',\n",
              " 'di',\n",
              " 'Mars',\n",
              " '.',\n",
              " 'James',\n",
              " 'Rice',\n",
              " ',',\n",
              " 'ahli',\n",
              " 'geologi',\n",
              " 'di',\n",
              " 'tim',\n",
              " 'Mastcam-Z',\n",
              " 'dari',\n",
              " 'School',\n",
              " 'of',\n",
              " 'Earth',\n",
              " 'and',\n",
              " 'Space',\n",
              " 'Exploration',\n",
              " 'di',\n",
              " 'Arizona',\n",
              " 'State',\n",
              " 'University',\n",
              " 'kemudian',\n",
              " 'jelas',\n",
              " 'batu',\n",
              " 'tersebut',\n",
              " 'adalah',\n",
              " 'batu',\n",
              " 'seimbang',\n",
              " ',',\n",
              " 'kadang-kadang',\n",
              " 'sebut',\n",
              " 'Precariously',\n",
              " 'Balanced',\n",
              " 'Rocks',\n",
              " '(',\n",
              " 'PBR',\n",
              " ')',\n",
              " 'dengan',\n",
              " 'berbagai',\n",
              " 'ukur',\n",
              " ',',\n",
              " 'mulai',\n",
              " 'dari',\n",
              " 'ukur',\n",
              " 'batu',\n",
              " 'kecil',\n",
              " 'hingga',\n",
              " 'formasi',\n",
              " 'setinggi',\n",
              " 'ratusan',\n",
              " 'kaki',\n",
              " '.',\n",
              " 'batu',\n",
              " 'ini',\n",
              " 'bentuk',\n",
              " 'secara',\n",
              " 'alami',\n",
              " 'dan',\n",
              " 'tidak',\n",
              " 'terlalu',\n",
              " 'luar',\n",
              " 'biasa',\n",
              " '.',\n",
              " 'baca',\n",
              " 'artikel',\n",
              " 'detikinet',\n",
              " ',',\n",
              " 'ada',\n",
              " 'batu',\n",
              " 'ajaib',\n",
              " 'yang',\n",
              " 'Tidak',\n",
              " 'bisa',\n",
              " 'jatuh',\n",
              " 'di',\n",
              " 'planet',\n",
              " 'Mars']"
            ]
          },
          "metadata": {},
          "execution_count": 20
        }
      ]
    },
    {
      "cell_type": "code",
      "source": [
        "#Lemmatization\n",
        "import nltk\n",
        "from nltk.stem import WordNetLemmatizer\n",
        "nltk.download('wordnet')\n",
        "nltk.download('omw-1.4')\n",
        "\n",
        "wordnet_lemmatizer = WordNetLemmatizer()\n",
        "hasil_lemmatization = [wordnet_lemmatizer.lemmatize(word) for word in token_setelah_stopword]\n",
        "print(hasil_lemmatization)"
      ],
      "metadata": {
        "id": "y4IM1JXZEBAP",
        "colab": {
          "base_uri": "https://localhost:8080/"
        },
        "outputId": "02fee92a-e515-4028-d52c-fd8bbc49a949"
      },
      "execution_count": null,
      "outputs": [
        {
          "output_type": "stream",
          "name": "stderr",
          "text": [
            "[nltk_data] Downloading package wordnet to /root/nltk_data...\n",
            "[nltk_data]   Unzipping corpora/wordnet.zip.\n",
            "[nltk_data] Downloading package omw-1.4 to /root/nltk_data...\n",
            "[nltk_data]   Unzipping corpora/omw-1.4.zip.\n"
          ]
        },
        {
          "output_type": "stream",
          "name": "stdout",
          "text": [
            "['american', 'carry', 'immune', 'protection', 'expert', 'said', 'whether', 'vaccine', 'infection', 'two', 'year', 'coronavirus', 'killed', 'american', 'brutal', 'predictable', 'schedule', 'week', 'infection', 'climbed', 'death', 'cutting', 'unforgiving', 'path', 'across', 'country', 'pattern', 'appears', 'changed', 'nearly', 'three', 'month', 'since', 'ultracontagious', 'set', 'new', 'omicron', 'variant', 'launched', 'springtime', 'resurgence', 'case', 'people', 'nonetheless', 'dying', 'covid', 'rate', 'close', 'lowest', 'pandemic', 'spread', 'virus', 'number', 'death', 'wake', 'two', 'measure', 'yoked', 'together', 'diverged', 'ever', 'epidemiologist', 'said', 'death', 'ticked', 'slowly', 'northeastern', 'united', 'state', 'latest', 'wave', 'began', 'likely', 'nationally', 'surge', 'push', 'across', 'south', 'west', 'country', 'remains', 'better', 'fortified', 'covid', 'death', 'earlier', 'pandemic', 'scientist', 'said', 'many', 'american', 'vaccinated', 'infected', 'said', 'number', 'people', 'whose', 'immune', 'system', 'entirely', 'unprepared', 'virus', 'significantly', 'dwindled', '“', 'previous', 'wave', 'still', 'substantial', 'pocket', 'people', 'vaccinated', 'exposed', 'virus', 'risk', 'dying', 'people', 'beginning', 'pandemic', '”', 'said', 'dr', 'david', 'dowdy', 'epidemiologist', 'john', 'hopkins', 'bloomberg', 'school', 'public', 'health', '“', 'pocket', '’', 'exist', 'anymore', '”', 'turn', 'pandemic', 'nevertheless', 'left', 'many', 'american', 'behind', 'older', 'people', 'make', 'larger', 'share', 'covid', 'death', 'last', 'year', 'virus', 'continues', 'kill', 'unvaccinated', 'people', 'much', 'higher', 'rate', 'vaccinated', 'people', 'despite', 'many', 'unvaccinated', 'people', 'protection', 'prior', 'infection', 'weakened', 'immune', 'system', 'also', 'face', 'greater', 'risk', 'covid', 'still', 'killing', 'average', '314', 'people', 'daily', 'onetenth', 'number', 'dying', 'every', 'day', 'january', '2021', 'even', 'awful', 'toll', 'rate', 'virus', 'killing', 'twice', 'many', 'american', 'every', 'day', 'suicide', 'car', 'crash', 'many', 'survive', 'virus', 'debilitated', 'long', 'infection', 'country', '’', 'resource', 'fighting', 'virus', 'drying', 'many', 'american', 'forgoing', 'booster', 'shot', 'decoupling', 'case', 'death', 'may', 'last', 'immunity', 'wane', 'evasive', 'variant', 'could', 'cut', 'people', '’', 'residual', 'protection', 'severe', 'disease', '“', 'time', 'since', 'people', 'got', 'vaccinated', 'becomes', 'longer', 'longer', 'efficacy', 'immune', 'response', 'lessened', '”', 'said', 'dr', 'abraar', 'karan', 'infectious', 'disease', 'physician', 'stanford', 'university', '“', 'caught', 'guard', 'later', 'year', '”', 'link', 'covid', 'case', 'death', 'started', 'weakening', 'winter', 'scientist', 'said', 'sheer', 'volume', 'american', 'getting', 'infected', 'meant', 'fatality', 'still', 'soared', 'spring', 'covid', 'killing', 'fewer', 'american', 'daily', 'period', 'except', 'summer', '2021', 'country', 'recording', '10', 'time', 'many', 'case', 'time', 'indicating', 'smaller', 'share', 'case', 'ending', 'death', 'estimate', 'case', 'fatality', 'rate', '—', 'share', 'recorded', 'covid', 'case', 'prove', 'deadly', '—', 'onethird', 'lower', 'last', 'summer', 'onequarter', 'lower', 'december', 'recorded', 'case', 'always', 'understate', 'actual', 'infection', 'level', 'prevalence', 'athome', 'testing', 'day', 'made', 'especially', 'true', 'account', 'problem', 'dr', 'dowdy', 'looked', 'proportion', 'reported', 'test', 'result', 'positive', 'figure', 'known', 'test', 'positivity', 'measure', 'imperfect', 'reflects', 'enormous', 'number', 'american', 'recently', 'contracted', 'virus', 'scientist', 'estimate', 'current', 'wave', 'case', 'secondlargest', 'pandemic', 'rough', 'calculation', 'dr', 'dowdy', 'estimated', 'ratio', 'death', 'test', 'positivity', 'fell', 'threefold', 'early', 'day', 'pandemic', 'january', '2022', 'fourfold', 'january', '2022', 'spring', '“', '’', 'seeing', 'average', 'case', 'covid19', 'becoming', 'much', 'milder', '”', 'said', 'better', 'reflection', 'gain', 'immunity', 'intrinsic', 'weakening', 'virus', 'scientist', 'said', 'government', 'estimate', 'share', 'american', 'contracted', 'virus', 'jumped', 'onethird', 'december', '2021', 'well', 'onehalf', 'two', 'month', 'later', 'country', 'paid', 'staggering', 'price', '200000', 'people', 'killed', 'covid', 'winter', 'large', 'number', 'beyond', 'seriously', 'sickened', 'survived', 'infection', 'emerged', 'immune', 'system', 'learned', 'better', 'deal', 'virus', '“', 'level', 'community', 'immunity', 'heading', 'wave', 'much', 'higher', '’', 'ever', 'due', 'combination', 'infection', 'vaccination', '”', 'said', 'dr', 'joe', 'gerald', 'associate', 'professor', 'public', 'health', 'university', 'arizona', '“', 'lot', 'people', '’', 'vaccinated', 'infectionnaive', '—', 'infected', 'omicron', 'period', 'january', 'early', 'march', '”', 'northeast', 'omicron', 'subvariants', 'first', 'took', 'hold', 'spring', 'death', 'climbed', 'case', 'surged', 'new', 'york', 'daily', 'average', 'covid', 'death', 'rose', 'eight', 'april', '24', 'midjune', 'daily', 'death', 'new', 'england', 'increased', 'five', 'peak', '34', 'period', 'across', 'united', 'state', 'case', 'climbing', 'since', 'early', 'april', 'death', 'remained', 'roughly', 'level', 'previous', 'wave', 'national', 'covid', 'death', 'surged', 'several', 'week', 'case', '“', 'think', '’', 'somewhat', 'reassuring', 'death', '’', 'really', 'spike', 'earlier', 'point', 'pandemic', '”', 'said', 'jennifer', 'nuzzo', 'epidemiologist', 'brown', 'university', 'virginia', 'pitzer', 'epidemiologist', 'yale', 'school', 'public', 'health', 'said', 'shift', 'stemmed', 'part', 'growing', 'share', 'case', 'occurring', 'people', 'fully', 'vaccinated', 'previously', 'infected', 'arizona', 'instance', 'share', 'covid', 'case', 'recorded', 'vaccinated', 'people', 'grew', '60', 'percent', 'april', '25', 'percent', 'five', 'month', 'earlier', 'country', 'large', 'united', 'state', 'every', 'covid', 'wave', 'also', 'collection', 'staggered', 'regional', 'surge', 'complicating', 'national', 'trend', 'early', 'may', 'example', 'continued', 'decline', 'covid', 'death', 'south', 'west', 'wintertime', 'omicron', 'wave', 'might', 'helped', 'obscure', 'rising', 'mortality', 'level', 'northeast', 'state', 'also', 'moved', 'reporting', 'covid', 'death', 'daily', 'weekly', 'slowly', 'caught', 'holiday', 'reporting', 'break', 'causing', 'frequent', 'daily', 'swing', 'data', 'state', 'said', 'many', 'resident', 'died', 'covid', 'winter', 'took', 'week', 'report', 'death', 'publicly', 'could', 'affected', 'national', 'death', 'curve', '“', 'surveillance', 'system', 'u', 'strong', 'could', '”', 'dr', 'gerald', 'said', '“', 'make', 'difficult', 'u', 'understand', 'pace', 'trajectory', 'outbreak', '”', 'number', 'possible', 'reason', 'covid', 'death', 'fallen', 'even', 'infection', 'level', 'high', 'precaution', 'taken', 'virus', 'inevitably', 'reaching', 'people', 'vulnerable', 'vaccine', 'status', 'age', 'underlying', 'condition', 'even', 'people', 'gain', 'immune', 'protection', 'pandemic', 'others', 'become', 'susceptible', 'bad', 'outcome', 'age', 'develop', 'weakened', 'immune', 'system', 'country', '’', 'stagnant', 'booster', 'campaign', 'also', 'left', 'many', 'older', 'people', 'long', 'distance', 'last', 'shot', 'vulnerable', 'effect', 'waning', 'immunity', '“', 'overall', 'people', '’', 'coming', 'covid', 'much', 'much', 'le', 'sick', 'even', 'winter', '”', 'said', 'dr', 'megan', 'ranney', 'emergency', 'physician', 'brown', 'university', '“', 'feel', 'like', 'almost', 'different', 'disease', 'folk', 'exception', 'people', 'really', 'old', 'unvaccinated', 'immunosuppressed', '”', 'disparity', 'access', 'booster', 'shot', 'antiviral', 'pill', 'also', 'put', 'american', 'higher', 'risk', 'black', 'hispanic', 'people', 'eligible', 'booster', 'received', 'shot', 'lower', 'rate', 'white', 'people', 'reflecting', 'epidemiologist', 'describe', 'limited', 'effort', 'state', 'put', 'booster', 'within', 'easy', 'reach', 'patient', 'primary', 'care', 'doctor', 'live', 'far', 'pharmacy', 'also', 'struggle', 'get', 'antiviral', 'pill', 'number', 'hospitalized', 'covid', 'patient', 'still', 'climbing', 'nationally', 'making', 'likely', 'increase', 'death', 'gradually', 'follow', 'epidemiologist', 'said', 'unclear', 'hard', 'wave', 'hit', 'lessvaccinated', 'region', 'like', 'south', 'immunity', 'past', 'infection', 'also', 'grown', '“', 'unfortunately', 'vaccination', 'rate', 'many', 'southern', 'state', 'among', 'lowest', 'country', '”', 'said', 'jason', 'salemi', 'professor', 'epidemiology', 'university', 'south', 'florida', '“', 'certainly', 'lot', 'immunity', 'built', 'prior', 'infection', '”', 'even', 'fewer', 'case', 'turn', 'deadly', 'unprecedented', 'number', 'infection', 'winter', 'spring', 'created', 'significant', 'problem', 'united', 'state', 'one', 'five', 'adult', 'survivor', 'covid', '65', 'dealt', 'version', 'long', 'covid', 'recent', 'study', 'found', 'many', 'people', 'missed', 'work', 'including', 'doctor', 'whose', 'absence', 'spring', 'periodically', 'strained', 'hospital', 'already', 'staffing', 'problem', 'dr', 'karan', 'stanford', 'said', 'lingering', 'symptom', 'january', 'bout', 'covid', 'april', 'month', 'later', 'infected', 'last', 'week', 'said', 'subvariant', 'surge', 'hitting', 'california', 'team', 'five', 'doctor', 'one', 'hospital', 'work', 'reduced', 'two', 'covid', 'absence', 'forcing', 'delay', 'consultation', 'patient', 'northeast', 'case', 'falling', 'several', 'week', 'dr', 'ranney', 'said', 'covid', 'patient', 'generally', 'spending', 'le', 'time', 'hospital', 'latest', 'wave', 'also', 'presenting', 'differently', 'said', 'previous', 'surge', 'patient', '’', 'pressing', 'difficulty', 'tended', 'direct', 'result', 'covid', 'like', 'low', 'oxygen', 'level', 'severe', 'pneumonia', 'spring', 'said', 'patient', 'needed', 'care', 'covid', 'exacerbated', 'underlying', 'condition', 'like', 'diabetes', 'heart', 'trouble', '“', 'wave', 'feel', 'qualitatively', 'quantitatively', 'different', '”', 'dr', 'ranney', 'said', '“', '’', 'seeing', 'icu', 'get', 'filled', 'patient', 'gasping', 'breath', 'death', '’', 'door', '”']\n"
          ]
        }
      ]
    },
    {
      "cell_type": "code",
      "source": [
        "from nltk.tag import pos_tag\n",
        "from nltk.tokenize import word_tokenize"
      ],
      "metadata": {
        "id": "UEk57j1PERk0"
      },
      "execution_count": null,
      "outputs": []
    },
    {
      "cell_type": "code",
      "source": [
        "import nltk\n",
        "nltk.download('averaged_perceptron_tagger')\n",
        "\n",
        "def postag(str) :\n",
        "  tok_sentence = nltk.word_tokenize(str)\n",
        "  tagged_sentence = nltk.pos_tag(tok_sentence)\n",
        "  return tagged_sentence\n",
        "\n",
        "temp = postag(artikel)\n",
        "print(temp)"
      ],
      "metadata": {
        "id": "fZoDT17LETFp",
        "colab": {
          "base_uri": "https://localhost:8080/"
        },
        "outputId": "4de11282-a073-42d2-fba0-d5f01a36ded6"
      },
      "execution_count": null,
      "outputs": [
        {
          "output_type": "stream",
          "name": "stderr",
          "text": [
            "[nltk_data] Downloading package averaged_perceptron_tagger to\n",
            "[nltk_data]     /root/nltk_data...\n",
            "[nltk_data]   Unzipping taggers/averaged_perceptron_tagger.zip.\n"
          ]
        },
        {
          "output_type": "stream",
          "name": "stdout",
          "text": [
            "[('most', 'JJS'), ('americans', 'NNS'), ('now', 'RB'), ('carry', 'VBP'), ('some', 'DT'), ('immune', 'JJ'), ('protection', 'NN'), ('experts', 'NNS'), ('said', 'VBD'), ('whether', 'IN'), ('from', 'IN'), ('vaccines', 'NNS'), ('infection', 'NN'), ('or', 'CC'), ('both', 'DT'), ('for', 'IN'), ('two', 'CD'), ('years', 'NNS'), ('the', 'DT'), ('coronavirus', 'NN'), ('killed', 'VBD'), ('americans', 'NNS'), ('on', 'IN'), ('a', 'DT'), ('brutal', 'JJ'), ('predictable', 'JJ'), ('schedule', 'NN'), ('a', 'DT'), ('few', 'JJ'), ('weeks', 'NNS'), ('after', 'IN'), ('infections', 'NNS'), ('climbed', 'VBD'), ('so', 'RB'), ('did', 'VBD'), ('deaths', 'NNS'), ('cutting', 'VBG'), ('an', 'DT'), ('unforgiving', 'JJ'), ('path', 'NN'), ('across', 'IN'), ('the', 'DT'), ('country', 'NN'), ('but', 'CC'), ('that', 'IN'), ('pattern', 'JJ'), ('appears', 'VBZ'), ('to', 'TO'), ('have', 'VB'), ('changed', 'VBN'), ('nearly', 'RB'), ('three', 'CD'), ('months', 'NNS'), ('since', 'IN'), ('an', 'DT'), ('ultracontagious', 'JJ'), ('set', 'NN'), ('of', 'IN'), ('new', 'JJ'), ('omicron', 'NN'), ('variants', 'NNS'), ('launched', 'VBD'), ('a', 'DT'), ('springtime', 'JJ'), ('resurgence', 'NN'), ('of', 'IN'), ('cases', 'NNS'), ('people', 'NNS'), ('are', 'VBP'), ('nonetheless', 'RB'), ('dying', 'VBG'), ('from', 'IN'), ('covid', 'NN'), ('at', 'IN'), ('a', 'DT'), ('rate', 'NN'), ('close', 'NN'), ('to', 'TO'), ('the', 'DT'), ('lowest', 'JJS'), ('of', 'IN'), ('the', 'DT'), ('pandemic', 'JJ'), ('the', 'DT'), ('spread', 'NN'), ('of', 'IN'), ('the', 'DT'), ('virus', 'NN'), ('and', 'CC'), ('the', 'DT'), ('number', 'NN'), ('of', 'IN'), ('deaths', 'NNS'), ('in', 'IN'), ('its', 'PRP$'), ('wake', 'NN'), ('two', 'CD'), ('measures', 'NNS'), ('that', 'WDT'), ('were', 'VBD'), ('once', 'RB'), ('yoked', 'VBN'), ('together', 'RB'), ('have', 'VBP'), ('diverged', 'VBN'), ('more', 'RBR'), ('than', 'IN'), ('ever', 'RB'), ('before', 'IN'), ('epidemiologists', 'NNS'), ('said', 'VBD'), ('deaths', 'NNS'), ('have', 'VBP'), ('ticked', 'VBN'), ('up', 'RP'), ('slowly', 'RB'), ('in', 'IN'), ('the', 'DT'), ('northeastern', 'JJ'), ('united', 'JJ'), ('states', 'NNS'), ('where', 'WRB'), ('the', 'DT'), ('latest', 'JJS'), ('wave', 'NN'), ('began', 'VBD'), ('and', 'CC'), ('are', 'VBP'), ('likely', 'JJ'), ('to', 'TO'), ('do', 'VB'), ('the', 'DT'), ('same', 'JJ'), ('nationally', 'RB'), ('as', 'IN'), ('the', 'DT'), ('surge', 'NN'), ('pushes', 'VBZ'), ('across', 'IN'), ('the', 'DT'), ('south', 'NN'), ('and', 'CC'), ('west', 'NN'), ('but', 'CC'), ('the', 'DT'), ('country', 'NN'), ('remains', 'VBZ'), ('better', 'RBR'), ('fortified', 'VBN'), ('against', 'IN'), ('covid', 'NN'), ('deaths', 'NNS'), ('than', 'IN'), ('earlier', 'JJR'), ('in', 'IN'), ('the', 'DT'), ('pandemic', 'JJ'), ('scientists', 'NNS'), ('said', 'VBD'), ('because', 'IN'), ('so', 'RB'), ('many', 'JJ'), ('americans', 'NNS'), ('have', 'VBP'), ('now', 'RB'), ('been', 'VBN'), ('vaccinated', 'VBN'), ('or', 'CC'), ('infected', 'VBN'), ('or', 'CC'), ('both', 'DT'), ('they', 'PRP'), ('said', 'VBD'), ('the', 'DT'), ('number', 'NN'), ('of', 'IN'), ('people', 'NNS'), ('whose', 'WP$'), ('immune', 'JJ'), ('systems', 'NNS'), ('are', 'VBP'), ('entirely', 'RB'), ('unprepared', 'JJ'), ('for', 'IN'), ('the', 'DT'), ('virus', 'NN'), ('has', 'VBZ'), ('significantly', 'RB'), ('dwindled', 'VBN'), ('“', 'NN'), ('in', 'IN'), ('previous', 'JJ'), ('waves', 'NNS'), ('there', 'EX'), ('were', 'VBD'), ('still', 'RB'), ('substantial', 'JJ'), ('pockets', 'NNS'), ('of', 'IN'), ('people', 'NNS'), ('who', 'WP'), ('had', 'VBD'), ('not', 'RB'), ('been', 'VBN'), ('vaccinated', 'VBN'), ('or', 'CC'), ('exposed', 'VBN'), ('to', 'TO'), ('the', 'DT'), ('virus', 'NN'), ('and', 'CC'), ('so', 'RB'), ('were', 'VBD'), ('at', 'IN'), ('the', 'DT'), ('same', 'JJ'), ('risk', 'NN'), ('of', 'IN'), ('dying', 'VBG'), ('as', 'IN'), ('people', 'NNS'), ('at', 'IN'), ('the', 'DT'), ('beginning', 'NN'), ('of', 'IN'), ('the', 'DT'), ('pandemic', 'JJ'), ('”', 'NN'), ('said', 'VBD'), ('dr', 'NN'), ('david', 'NN'), ('dowdy', 'VBD'), ('an', 'DT'), ('epidemiologist', 'NN'), ('at', 'IN'), ('johns', 'NN'), ('hopkins', 'NNS'), ('bloomberg', 'JJ'), ('school', 'NN'), ('of', 'IN'), ('public', 'JJ'), ('health', 'NN'), ('“', 'NNP'), ('those', 'DT'), ('pockets', 'NNS'), ('don', 'VBP'), ('’', 'JJ'), ('t', 'NNS'), ('exist', 'VBP'), ('anymore', 'RB'), ('”', 'VBP'), ('that', 'DT'), ('turn', 'NN'), ('in', 'IN'), ('the', 'DT'), ('pandemic', 'NN'), ('has', 'VBZ'), ('nevertheless', 'RB'), ('left', 'VBN'), ('many', 'JJ'), ('americans', 'NNS'), ('behind', 'IN'), ('older', 'JJR'), ('people', 'NNS'), ('make', 'VBP'), ('up', 'RP'), ('a', 'DT'), ('larger', 'JJR'), ('share', 'NN'), ('of', 'IN'), ('covid', 'NN'), ('deaths', 'NNS'), ('than', 'IN'), ('they', 'PRP'), ('did', 'VBD'), ('last', 'JJ'), ('year', 'NN'), ('the', 'DT'), ('virus', 'NN'), ('continues', 'VBZ'), ('to', 'TO'), ('kill', 'VB'), ('unvaccinated', 'JJ'), ('people', 'NNS'), ('at', 'IN'), ('much', 'JJ'), ('higher', 'JJR'), ('rates', 'NNS'), ('than', 'IN'), ('vaccinated', 'JJ'), ('people', 'NNS'), ('despite', 'IN'), ('many', 'JJ'), ('unvaccinated', 'JJ'), ('people', 'NNS'), ('having', 'VBG'), ('some', 'DT'), ('protection', 'NN'), ('from', 'IN'), ('prior', 'JJ'), ('infections', 'NNS'), ('and', 'CC'), ('those', 'DT'), ('with', 'IN'), ('weakened', 'JJ'), ('immune', 'JJ'), ('systems', 'NNS'), ('also', 'RB'), ('face', 'VBP'), ('greater', 'JJR'), ('risks', 'NNS'), ('covid', 'NN'), ('is', 'VBZ'), ('still', 'RB'), ('killing', 'VBG'), ('an', 'DT'), ('average', 'NN'), ('of', 'IN'), ('314', 'CD'), ('people', 'NNS'), ('daily', 'JJ'), ('onetenth', 'IN'), ('the', 'DT'), ('number', 'NN'), ('who', 'WP'), ('were', 'VBD'), ('dying', 'VBG'), ('every', 'DT'), ('day', 'NN'), ('in', 'IN'), ('january', 'JJ'), ('2021', 'CD'), ('but', 'CC'), ('even', 'RB'), ('so', 'RB'), ('an', 'DT'), ('awful', 'JJ'), ('toll', 'NN'), ('at', 'IN'), ('that', 'DT'), ('rate', 'NN'), ('the', 'DT'), ('virus', 'NN'), ('is', 'VBZ'), ('killing', 'VBG'), ('more', 'JJR'), ('than', 'IN'), ('twice', 'RB'), ('as', 'IN'), ('many', 'JJ'), ('americans', 'NNS'), ('every', 'DT'), ('day', 'NN'), ('as', 'IN'), ('suicide', 'NN'), ('or', 'CC'), ('car', 'NN'), ('crashes', 'NNS'), ('are', 'VBP'), ('and', 'CC'), ('many', 'JJ'), ('of', 'IN'), ('those', 'DT'), ('who', 'WP'), ('survive', 'VBP'), ('the', 'DT'), ('virus', 'NN'), ('are', 'VBP'), ('debilitated', 'VBN'), ('some', 'DT'), ('of', 'IN'), ('them', 'PRP'), ('for', 'IN'), ('long', 'RB'), ('after', 'IN'), ('their', 'PRP$'), ('infections', 'NNS'), ('with', 'IN'), ('the', 'DT'), ('country', 'NN'), ('’', 'NNP'), ('s', 'JJ'), ('resources', 'NNS'), ('for', 'IN'), ('fighting', 'VBG'), ('the', 'DT'), ('virus', 'NN'), ('drying', 'VBG'), ('up', 'RP'), ('and', 'CC'), ('many', 'JJ'), ('americans', 'NNS'), ('forgoing', 'VBG'), ('booster', 'NN'), ('shots', 'VBD'), ('the', 'DT'), ('decoupling', 'NN'), ('of', 'IN'), ('cases', 'NNS'), ('and', 'CC'), ('deaths', 'NNS'), ('may', 'MD'), ('not', 'RB'), ('last', 'JJ'), ('immunity', 'NN'), ('will', 'MD'), ('wane', 'VB'), ('and', 'CC'), ('a', 'DT'), ('more', 'RBR'), ('evasive', 'JJ'), ('variant', 'NN'), ('could', 'MD'), ('cut', 'VB'), ('into', 'IN'), ('people', 'NNS'), ('’', 'VBP'), ('s', 'JJ'), ('residual', 'JJ'), ('protection', 'NN'), ('against', 'IN'), ('severe', 'JJ'), ('disease', 'NN'), ('“', 'NN'), ('as', 'IN'), ('the', 'DT'), ('time', 'NN'), ('since', 'IN'), ('people', 'NNS'), ('got', 'VBD'), ('vaccinated', 'JJ'), ('becomes', 'RB'), ('longer', 'RBR'), ('and', 'CC'), ('longer', 'RBR'), ('the', 'DT'), ('efficacy', 'NN'), ('of', 'IN'), ('the', 'DT'), ('immune', 'JJ'), ('response', 'NN'), ('will', 'MD'), ('be', 'VB'), ('lessened', 'VBN'), ('”', 'NNP'), ('said', 'VBD'), ('dr', 'JJ'), ('abraar', 'NN'), ('karan', 'VBD'), ('an', 'DT'), ('infectious', 'JJ'), ('disease', 'NN'), ('physician', 'NN'), ('at', 'IN'), ('stanford', 'NN'), ('university', 'NN'), ('“', 'IN'), ('we', 'PRP'), ('can', 'MD'), ('be', 'VB'), ('caught', 'VBN'), ('off', 'RP'), ('guard', 'NN'), ('later', 'RBR'), ('this', 'DT'), ('year', 'NN'), ('”', 'VBZ'), ('the', 'DT'), ('link', 'NN'), ('between', 'IN'), ('covid', 'NN'), ('cases', 'NNS'), ('and', 'CC'), ('deaths', 'NNS'), ('started', 'VBD'), ('weakening', 'VBG'), ('over', 'IN'), ('the', 'DT'), ('winter', 'NN'), ('scientists', 'NNS'), ('said', 'VBD'), ('but', 'CC'), ('the', 'DT'), ('sheer', 'NN'), ('volume', 'NN'), ('of', 'IN'), ('americans', 'NNS'), ('getting', 'VBG'), ('infected', 'JJ'), ('meant', 'NN'), ('that', 'IN'), ('fatalities', 'NNS'), ('still', 'RB'), ('soared', 'VBD'), ('this', 'DT'), ('spring', 'NN'), ('covid', 'NN'), ('has', 'VBZ'), ('been', 'VBN'), ('killing', 'VBG'), ('fewer', 'JJR'), ('americans', 'NNS'), ('daily', 'JJ'), ('than', 'IN'), ('during', 'IN'), ('any', 'DT'), ('period', 'NN'), ('except', 'IN'), ('the', 'DT'), ('summer', 'NN'), ('of', 'IN'), ('2021', 'CD'), ('the', 'DT'), ('country', 'NN'), ('is', 'VBZ'), ('now', 'RB'), ('recording', 'VBG'), ('10', 'CD'), ('times', 'NNS'), ('as', 'IN'), ('many', 'JJ'), ('cases', 'NNS'), ('as', 'IN'), ('it', 'PRP'), ('was', 'VBD'), ('at', 'IN'), ('that', 'DT'), ('time', 'NN'), ('indicating', 'VBG'), ('that', 'IN'), ('a', 'DT'), ('smaller', 'JJR'), ('share', 'NN'), ('of', 'IN'), ('cases', 'NNS'), ('are', 'VBP'), ('ending', 'VBG'), ('in', 'IN'), ('death', 'NN'), ('by', 'IN'), ('some', 'DT'), ('estimates', 'NNS'), ('the', 'DT'), ('case', 'NN'), ('fatality', 'NN'), ('rate', 'NN'), ('—', 'VBZ'), ('the', 'DT'), ('share', 'NN'), ('of', 'IN'), ('recorded', 'VBN'), ('covid', 'NN'), ('cases', 'NNS'), ('that', 'WDT'), ('prove', 'VBP'), ('deadly', 'RB'), ('—', 'NNP'), ('is', 'VBZ'), ('onethird', 'JJR'), ('lower', 'JJR'), ('than', 'IN'), ('it', 'PRP'), ('was', 'VBD'), ('last', 'JJ'), ('summer', 'NN'), ('and', 'CC'), ('onequarter', 'NN'), ('lower', 'JJR'), ('than', 'IN'), ('it', 'PRP'), ('was', 'VBD'), ('in', 'IN'), ('december', 'NN'), ('recorded', 'VBN'), ('cases', 'NNS'), ('always', 'RB'), ('understate', 'VBP'), ('actual', 'JJ'), ('infection', 'NN'), ('levels', 'NNS'), ('and', 'CC'), ('the', 'DT'), ('prevalence', 'NN'), ('of', 'IN'), ('athome', 'JJ'), ('testing', 'VBG'), ('these', 'DT'), ('days', 'NNS'), ('has', 'VBZ'), ('made', 'VBN'), ('that', 'IN'), ('especially', 'RB'), ('true', 'JJ'), ('to', 'TO'), ('account', 'VB'), ('for', 'IN'), ('those', 'DT'), ('problems', 'NNS'), ('dr', 'VBP'), ('dowdy', 'JJ'), ('looked', 'VBD'), ('at', 'IN'), ('the', 'DT'), ('proportion', 'NN'), ('of', 'IN'), ('reported', 'VBN'), ('test', 'NN'), ('results', 'NNS'), ('that', 'WDT'), ('are', 'VBP'), ('positive', 'JJ'), ('a', 'DT'), ('figure', 'NN'), ('known', 'VBN'), ('as', 'IN'), ('test', 'NN'), ('positivity', 'NN'), ('that', 'IN'), ('measure', 'NN'), ('too', 'RB'), ('is', 'VBZ'), ('imperfect', 'JJ'), ('but', 'CC'), ('it', 'PRP'), ('reflects', 'VBZ'), ('the', 'DT'), ('enormous', 'JJ'), ('numbers', 'NNS'), ('of', 'IN'), ('americans', 'NNS'), ('who', 'WP'), ('recently', 'RB'), ('contracted', 'VBD'), ('the', 'DT'), ('virus', 'NN'), ('some', 'DT'), ('scientists', 'NNS'), ('estimate', 'VBP'), ('that', 'IN'), ('the', 'DT'), ('current', 'JJ'), ('wave', 'NN'), ('of', 'IN'), ('cases', 'NNS'), ('is', 'VBZ'), ('the', 'DT'), ('secondlargest', 'NN'), ('of', 'IN'), ('the', 'DT'), ('pandemic', 'NN'), ('by', 'IN'), ('his', 'PRP$'), ('rough', 'JJ'), ('calculations', 'NNS'), ('dr', 'VBP'), ('dowdy', 'RB'), ('estimated', 'VBN'), ('that', 'IN'), ('the', 'DT'), ('ratio', 'NN'), ('of', 'IN'), ('deaths', 'NNS'), ('to', 'TO'), ('test', 'VB'), ('positivity', 'NN'), ('fell', 'VBD'), ('threefold', 'RB'), ('from', 'IN'), ('the', 'DT'), ('early', 'JJ'), ('days', 'NNS'), ('of', 'IN'), ('the', 'DT'), ('pandemic', 'NN'), ('to', 'TO'), ('january', 'JJ'), ('2022', 'CD'), ('and', 'CC'), ('fourfold', 'VBD'), ('from', 'IN'), ('january', 'JJ'), ('2022', 'CD'), ('to', 'TO'), ('this', 'DT'), ('spring', 'NN'), ('“', 'VBZ'), ('what', 'WP'), ('we', 'PRP'), ('’', 'VBP'), ('re', 'JJ'), ('seeing', 'NN'), ('is', 'VBZ'), ('that', 'IN'), ('the', 'DT'), ('average', 'JJ'), ('case', 'NN'), ('of', 'IN'), ('covid19', 'NN'), ('is', 'VBZ'), ('becoming', 'VBG'), ('much', 'JJ'), ('milder', 'NN'), ('”', 'NN'), ('he', 'PRP'), ('said', 'VBD'), ('that', 'IN'), ('is', 'VBZ'), ('a', 'DT'), ('better', 'JJR'), ('reflection', 'NN'), ('of', 'IN'), ('gains', 'NNS'), ('in', 'IN'), ('immunity', 'NN'), ('than', 'IN'), ('it', 'PRP'), ('is', 'VBZ'), ('of', 'IN'), ('any', 'DT'), ('intrinsic', 'JJ'), ('weakening', 'NN'), ('of', 'IN'), ('the', 'DT'), ('virus', 'NN'), ('scientists', 'NNS'), ('said', 'VBD'), ('government', 'NN'), ('estimates', 'NNS'), ('of', 'IN'), ('the', 'DT'), ('share', 'NN'), ('of', 'IN'), ('americans', 'NNS'), ('who', 'WP'), ('have', 'VBP'), ('contracted', 'VBN'), ('the', 'DT'), ('virus', 'NN'), ('jumped', 'VBD'), ('from', 'IN'), ('onethird', 'NN'), ('in', 'IN'), ('december', 'NN'), ('2021', 'CD'), ('to', 'TO'), ('well', 'RB'), ('over', 'IN'), ('onehalf', 'JJ'), ('two', 'CD'), ('months', 'NNS'), ('later', 'RB'), ('the', 'DT'), ('country', 'NN'), ('paid', 'VBD'), ('a', 'DT'), ('staggering', 'JJ'), ('price', 'NN'), ('some', 'DT'), ('200000', 'CD'), ('people', 'NNS'), ('were', 'VBD'), ('killed', 'VBN'), ('by', 'IN'), ('covid', 'NN'), ('this', 'DT'), ('winter', 'NN'), ('and', 'CC'), ('large', 'JJ'), ('numbers', 'NNS'), ('beyond', 'IN'), ('that', 'DT'), ('were', 'VBD'), ('seriously', 'RB'), ('sickened', 'VBN'), ('but', 'CC'), ('those', 'DT'), ('who', 'WP'), ('survived', 'VBD'), ('infections', 'NNS'), ('emerged', 'VBN'), ('with', 'IN'), ('immune', 'JJ'), ('systems', 'NNS'), ('that', 'WDT'), ('had', 'VBD'), ('learned', 'VBN'), ('to', 'TO'), ('better', 'RBR'), ('deal', 'NN'), ('with', 'IN'), ('the', 'DT'), ('virus', 'NN'), ('“', 'VBZ'), ('our', 'PRP$'), ('level', 'NN'), ('of', 'IN'), ('community', 'NN'), ('immunity', 'NN'), ('heading', 'VBG'), ('into', 'IN'), ('this', 'DT'), ('wave', 'NN'), ('was', 'VBD'), ('much', 'RB'), ('higher', 'JJR'), ('than', 'IN'), ('it', 'PRP'), ('’', 'VBZ'), ('s', 'JJ'), ('ever', 'RB'), ('been', 'VBN'), ('due', 'JJ'), ('to', 'TO'), ('the', 'DT'), ('combination', 'NN'), ('of', 'IN'), ('infection', 'NN'), ('and', 'CC'), ('vaccination', 'NN'), ('”', 'NNP'), ('said', 'VBD'), ('dr', 'JJ'), ('joe', 'NN'), ('gerald', 'VBD'), ('an', 'DT'), ('associate', 'NN'), ('professor', 'NN'), ('of', 'IN'), ('public', 'JJ'), ('health', 'NN'), ('at', 'IN'), ('the', 'DT'), ('university', 'NN'), ('of', 'IN'), ('arizona', 'JJ'), ('“', 'FW'), ('a', 'DT'), ('lot', 'NN'), ('of', 'IN'), ('people', 'NNS'), ('who', 'WP'), ('weren', 'VBP'), ('’', 'JJ'), ('t', 'NN'), ('vaccinated', 'VBN'), ('and', 'CC'), ('were', 'VBD'), ('infectionnaive', 'JJ'), ('—', 'NNP'), ('most', 'JJS'), ('of', 'IN'), ('them', 'PRP'), ('were', 'VBD'), ('infected', 'VBN'), ('with', 'IN'), ('omicron', 'NN'), ('over', 'IN'), ('the', 'DT'), ('period', 'NN'), ('from', 'IN'), ('january', 'JJ'), ('to', 'TO'), ('early', 'JJ'), ('march', 'NN'), ('”', 'NN'), ('in', 'IN'), ('the', 'DT'), ('northeast', 'NN'), ('where', 'WRB'), ('the', 'DT'), ('omicron', 'NN'), ('subvariants', 'NNS'), ('first', 'RB'), ('took', 'VBD'), ('hold', 'NN'), ('this', 'DT'), ('spring', 'NN'), ('deaths', 'NNS'), ('climbed', 'VBD'), ('as', 'IN'), ('cases', 'NNS'), ('surged', 'VBD'), ('in', 'IN'), ('new', 'JJ'), ('york', 'NN'), ('the', 'DT'), ('daily', 'JJ'), ('average', 'NN'), ('of', 'IN'), ('covid', 'JJ'), ('deaths', 'NNS'), ('rose', 'VBD'), ('from', 'IN'), ('eight', 'CD'), ('in', 'IN'), ('april', 'NN'), ('to', 'TO'), ('about', 'IN'), ('24', 'CD'), ('in', 'IN'), ('midjune', 'JJ'), ('daily', 'JJ'), ('deaths', 'NNS'), ('in', 'IN'), ('new', 'JJ'), ('england', 'NN'), ('increased', 'VBN'), ('from', 'IN'), ('five', 'CD'), ('to', 'TO'), ('a', 'DT'), ('peak', 'NN'), ('of', 'IN'), ('34', 'CD'), ('over', 'IN'), ('the', 'DT'), ('same', 'JJ'), ('period', 'NN'), ('but', 'CC'), ('across', 'IN'), ('the', 'DT'), ('united', 'JJ'), ('states', 'NNS'), ('where', 'WRB'), ('cases', 'NNS'), ('have', 'VBP'), ('been', 'VBN'), ('climbing', 'VBG'), ('since', 'IN'), ('early', 'JJ'), ('april', 'NN'), ('deaths', 'NNS'), ('have', 'VBP'), ('remained', 'VBN'), ('roughly', 'RB'), ('level', 'NN'), ('in', 'IN'), ('each', 'DT'), ('previous', 'JJ'), ('wave', 'VBP'), ('national', 'JJ'), ('covid', 'NN'), ('deaths', 'NNS'), ('surged', 'VBD'), ('several', 'JJ'), ('weeks', 'NNS'), ('after', 'IN'), ('cases', 'NNS'), ('did', 'VBD'), ('“', 'VB'), ('i', 'NN'), ('think', 'VBP'), ('it', 'PRP'), ('’', 'VBZ'), ('s', 'JJ'), ('somewhat', 'RB'), ('reassuring', 'VBG'), ('that', 'IN'), ('deaths', 'NNS'), ('didn', 'VB'), ('’', 'NNP'), ('t', 'NNP'), ('really', 'RB'), ('spike', 'VBZ'), ('as', 'IN'), ('they', 'PRP'), ('had', 'VBD'), ('during', 'IN'), ('earlier', 'JJR'), ('points', 'NNS'), ('of', 'IN'), ('the', 'DT'), ('pandemic', 'JJ'), ('”', 'NN'), ('said', 'VBD'), ('jennifer', 'NN'), ('nuzzo', 'NN'), ('an', 'DT'), ('epidemiologist', 'NN'), ('at', 'IN'), ('brown', 'JJ'), ('university', 'NN'), ('virginia', 'NNP'), ('pitzer', 'VBZ'), ('an', 'DT'), ('epidemiologist', 'NN'), ('at', 'IN'), ('the', 'DT'), ('yale', 'JJ'), ('school', 'NN'), ('of', 'IN'), ('public', 'JJ'), ('health', 'NN'), ('said', 'VBD'), ('that', 'IN'), ('shift', 'NN'), ('stemmed', 'VBD'), ('in', 'IN'), ('part', 'NN'), ('from', 'IN'), ('a', 'DT'), ('growing', 'VBG'), ('share', 'NN'), ('of', 'IN'), ('cases', 'NNS'), ('occurring', 'VBG'), ('in', 'IN'), ('people', 'NNS'), ('who', 'WP'), ('were', 'VBD'), ('fully', 'RB'), ('vaccinated', 'VBN'), ('previously', 'RB'), ('infected', 'VBN'), ('or', 'CC'), ('both', 'DT'), ('in', 'IN'), ('arizona', 'NN'), ('for', 'IN'), ('instance', 'NN'), ('the', 'DT'), ('share', 'NN'), ('of', 'IN'), ('covid', 'NN'), ('cases', 'NNS'), ('being', 'VBG'), ('recorded', 'VBN'), ('in', 'IN'), ('vaccinated', 'JJ'), ('people', 'NNS'), ('grew', 'VBD'), ('to', 'TO'), ('60', 'CD'), ('percent', 'NN'), ('in', 'IN'), ('april', 'NN'), ('from', 'IN'), ('25', 'CD'), ('percent', 'NN'), ('five', 'CD'), ('months', 'NNS'), ('earlier', 'RBR'), ('in', 'IN'), ('a', 'DT'), ('country', 'NN'), ('as', 'RB'), ('large', 'JJ'), ('as', 'IN'), ('the', 'DT'), ('united', 'JJ'), ('states', 'NNS'), ('every', 'DT'), ('covid', 'NN'), ('wave', 'NN'), ('is', 'VBZ'), ('also', 'RB'), ('a', 'DT'), ('collection', 'NN'), ('of', 'IN'), ('staggered', 'JJ'), ('regional', 'JJ'), ('surges', 'NNS'), ('complicating', 'VBG'), ('national', 'JJ'), ('trends', 'NNS'), ('in', 'IN'), ('early', 'JJ'), ('may', 'MD'), ('for', 'IN'), ('example', 'NN'), ('continued', 'JJ'), ('declines', 'NNS'), ('in', 'IN'), ('covid', 'JJ'), ('deaths', 'NNS'), ('in', 'IN'), ('the', 'DT'), ('south', 'NN'), ('and', 'CC'), ('the', 'DT'), ('west', 'NN'), ('from', 'IN'), ('the', 'DT'), ('wintertime', 'NN'), ('omicron', 'NN'), ('wave', 'NN'), ('might', 'MD'), ('have', 'VB'), ('helped', 'VBN'), ('to', 'TO'), ('obscure', 'VB'), ('rising', 'VBG'), ('mortality', 'NN'), ('levels', 'NNS'), ('in', 'IN'), ('the', 'DT'), ('northeast', 'NN'), ('some', 'DT'), ('states', 'NNS'), ('have', 'VBP'), ('also', 'RB'), ('moved', 'VBN'), ('from', 'IN'), ('reporting', 'VBG'), ('covid', 'JJ'), ('deaths', 'NNS'), ('daily', 'RB'), ('to', 'TO'), ('doing', 'VBG'), ('so', 'RB'), ('weekly', 'JJ'), ('and', 'CC'), ('they', 'PRP'), ('have', 'VBP'), ('only', 'RB'), ('slowly', 'RB'), ('caught', 'VBN'), ('up', 'RP'), ('from', 'IN'), ('holiday', 'NN'), ('reporting', 'VBG'), ('breaks', 'NNS'), ('causing', 'VBG'), ('more', 'RBR'), ('frequent', 'JJ'), ('daily', 'JJ'), ('swings', 'NNS'), ('in', 'IN'), ('the', 'DT'), ('data', 'NN'), ('and', 'CC'), ('some', 'DT'), ('states', 'NNS'), ('said', 'VBD'), ('that', 'IN'), ('so', 'RB'), ('many', 'JJ'), ('residents', 'NNS'), ('had', 'VBD'), ('died', 'VBN'), ('from', 'IN'), ('covid', 'NN'), ('this', 'DT'), ('winter', 'NN'), ('that', 'IN'), ('it', 'PRP'), ('took', 'VBD'), ('them', 'PRP'), ('weeks', 'NNS'), ('to', 'TO'), ('report', 'VB'), ('all', 'DT'), ('of', 'IN'), ('those', 'DT'), ('deaths', 'NNS'), ('publicly', 'RB'), ('that', 'IN'), ('too', 'RB'), ('could', 'MD'), ('have', 'VB'), ('affected', 'VBN'), ('the', 'DT'), ('national', 'JJ'), ('death', 'NN'), ('curve', 'NN'), ('“', 'NNP'), ('our', 'PRP$'), ('surveillance', 'NN'), ('system', 'NN'), ('in', 'IN'), ('the', 'DT'), ('us', 'PRP'), ('is', 'VBZ'), ('not', 'RB'), ('as', 'RB'), ('strong', 'JJ'), ('as', 'IN'), ('it', 'PRP'), ('should', 'MD'), ('be', 'VB'), ('or', 'CC'), ('could', 'MD'), ('be', 'VB'), ('”', 'JJ'), ('dr', 'NN'), ('gerald', 'NN'), ('said', 'VBD'), ('“', 'NN'), ('and', 'CC'), ('it', 'PRP'), ('does', 'VBZ'), ('make', 'VB'), ('it', 'PRP'), ('more', 'RBR'), ('difficult', 'JJ'), ('for', 'IN'), ('us', 'PRP'), ('to', 'TO'), ('understand', 'VB'), ('the', 'DT'), ('pace', 'NN'), ('and', 'CC'), ('trajectory', 'NN'), ('of', 'IN'), ('the', 'DT'), ('outbreak', 'JJ'), ('”', 'NN'), ('there', 'EX'), ('are', 'VBP'), ('a', 'DT'), ('number', 'NN'), ('of', 'IN'), ('possible', 'JJ'), ('reasons', 'NNS'), ('that', 'WDT'), ('covid', 'VBP'), ('deaths', 'NNS'), ('have', 'VBP'), ('not', 'RB'), ('fallen', 'VBN'), ('even', 'RB'), ('further', 'RBR'), ('with', 'IN'), ('infection', 'NN'), ('levels', 'NNS'), ('so', 'RB'), ('high', 'JJ'), ('and', 'CC'), ('few', 'JJ'), ('precautions', 'NNS'), ('being', 'VBG'), ('taken', 'VBN'), ('the', 'DT'), ('virus', 'NN'), ('is', 'VBZ'), ('inevitably', 'RB'), ('reaching', 'VBG'), ('people', 'NNS'), ('who', 'WP'), ('are', 'VBP'), ('more', 'RBR'), ('vulnerable', 'JJ'), ('because', 'IN'), ('of', 'IN'), ('their', 'PRP$'), ('vaccine', 'NN'), ('status', 'NN'), ('age', 'NN'), ('or', 'CC'), ('underlying', 'JJ'), ('conditions', 'NNS'), ('and', 'CC'), ('even', 'RB'), ('as', 'IN'), ('some', 'DT'), ('people', 'NNS'), ('gain', 'VBP'), ('immune', 'JJ'), ('protection', 'NN'), ('during', 'IN'), ('the', 'DT'), ('pandemic', 'JJ'), ('others', 'NNS'), ('become', 'VBP'), ('more', 'RBR'), ('susceptible', 'JJ'), ('to', 'TO'), ('bad', 'JJ'), ('outcomes', 'NNS'), ('as', 'IN'), ('they', 'PRP'), ('age', 'NN'), ('or', 'CC'), ('develop', 'VB'), ('weakened', 'VBN'), ('immune', 'JJ'), ('systems', 'NNS'), ('the', 'DT'), ('country', 'NN'), ('’', 'NNP'), ('s', 'NN'), ('stagnant', 'NN'), ('booster', 'NN'), ('campaign', 'NN'), ('has', 'VBZ'), ('also', 'RB'), ('left', 'VBN'), ('many', 'JJ'), ('older', 'JJR'), ('people', 'NNS'), ('at', 'IN'), ('a', 'DT'), ('long', 'JJ'), ('distance', 'NN'), ('from', 'IN'), ('their', 'PRP$'), ('last', 'JJ'), ('shot', 'NN'), ('and', 'CC'), ('so', 'RB'), ('vulnerable', 'JJ'), ('to', 'TO'), ('the', 'DT'), ('effects', 'NNS'), ('of', 'IN'), ('waning', 'VBG'), ('immunity', 'NN'), ('“', 'NNP'), ('overall', 'VBZ'), ('the', 'DT'), ('people', 'NNS'), ('who', 'WP'), ('’', 'VBP'), ('ve', 'NNS'), ('been', 'VBN'), ('coming', 'VBG'), ('through', 'IN'), ('with', 'IN'), ('covid', 'NN'), ('are', 'VBP'), ('much', 'RB'), ('much', 'RB'), ('less', 'JJR'), ('sick', 'JJ'), ('than', 'IN'), ('they', 'PRP'), ('were', 'VBD'), ('even', 'RB'), ('this', 'DT'), ('winter', 'NN'), ('”', 'NN'), ('said', 'VBD'), ('dr', 'JJ'), ('megan', 'NNP'), ('ranney', 'VBD'), ('an', 'DT'), ('emergency', 'NN'), ('physician', 'NN'), ('at', 'IN'), ('brown', 'JJ'), ('university', 'NN'), ('“', 'VBP'), ('it', 'PRP'), ('feels', 'VBZ'), ('like', 'IN'), ('almost', 'RB'), ('a', 'DT'), ('different', 'JJ'), ('disease', 'NN'), ('for', 'IN'), ('folks', 'NNS'), ('with', 'IN'), ('the', 'DT'), ('exception', 'NN'), ('of', 'IN'), ('people', 'NNS'), ('who', 'WP'), ('are', 'VBP'), ('really', 'RB'), ('old', 'JJ'), ('who', 'WP'), ('are', 'VBP'), ('unvaccinated', 'JJ'), ('or', 'CC'), ('who', 'WP'), ('are', 'VBP'), ('immunosuppressed', 'VBN'), ('”', 'JJ'), ('disparities', 'NNS'), ('in', 'IN'), ('access', 'NN'), ('to', 'TO'), ('booster', 'VB'), ('shots', 'NNS'), ('and', 'CC'), ('antiviral', 'JJ'), ('pills', 'NNS'), ('have', 'VBP'), ('also', 'RB'), ('put', 'VBN'), ('some', 'DT'), ('americans', 'NNS'), ('at', 'IN'), ('higher', 'JJR'), ('risk', 'NN'), ('black', 'JJ'), ('and', 'CC'), ('hispanic', 'JJ'), ('people', 'NNS'), ('eligible', 'JJ'), ('for', 'IN'), ('boosters', 'NNS'), ('have', 'VBP'), ('received', 'VBN'), ('the', 'DT'), ('shots', 'NNS'), ('at', 'IN'), ('lower', 'JJR'), ('rates', 'NNS'), ('than', 'IN'), ('white', 'JJ'), ('people', 'NNS'), ('have', 'VBP'), ('reflecting', 'VBG'), ('what', 'WP'), ('some', 'DT'), ('epidemiologists', 'NNS'), ('describe', 'VBP'), ('as', 'IN'), ('limited', 'JJ'), ('efforts', 'NNS'), ('in', 'IN'), ('some', 'DT'), ('states', 'NNS'), ('to', 'TO'), ('put', 'VB'), ('boosters', 'NNS'), ('within', 'IN'), ('easy', 'JJ'), ('reach', 'NN'), ('patients', 'NNS'), ('who', 'WP'), ('do', 'VBP'), ('not', 'RB'), ('have', 'VB'), ('primary', 'JJ'), ('care', 'NN'), ('doctors', 'NNS'), ('or', 'CC'), ('who', 'WP'), ('live', 'VBP'), ('far', 'RB'), ('from', 'IN'), ('pharmacies', 'NNS'), ('can', 'MD'), ('also', 'RB'), ('struggle', 'VB'), ('to', 'TO'), ('get', 'VB'), ('antiviral', 'JJ'), ('pills', 'NNS'), ('the', 'DT'), ('number', 'NN'), ('of', 'IN'), ('hospitalized', 'JJ'), ('covid', 'NN'), ('patients', 'NNS'), ('is', 'VBZ'), ('still', 'RB'), ('climbing', 'VBG'), ('nationally', 'RB'), ('making', 'VBG'), ('it', 'PRP'), ('likely', 'JJ'), ('that', 'IN'), ('increases', 'VBZ'), ('in', 'IN'), ('deaths', 'NNS'), ('will', 'MD'), ('gradually', 'RB'), ('follow', 'VB'), ('epidemiologists', 'NNS'), ('said', 'VBD'), ('it', 'PRP'), ('is', 'VBZ'), ('unclear', 'JJ'), ('how', 'WRB'), ('hard', 'RB'), ('the', 'DT'), ('wave', 'NN'), ('will', 'MD'), ('hit', 'VB'), ('lessvaccinated', 'JJ'), ('regions', 'NNS'), ('like', 'IN'), ('the', 'DT'), ('south', 'NN'), ('where', 'WRB'), ('immunity', 'NN'), ('from', 'IN'), ('past', 'JJ'), ('infections', 'NNS'), ('has', 'VBZ'), ('also', 'RB'), ('grown', 'VBN'), ('“', 'NNP'), ('unfortunately', 'JJ'), ('vaccination', 'NN'), ('rates', 'NNS'), ('in', 'IN'), ('many', 'JJ'), ('southern', 'JJ'), ('states', 'NNS'), ('are', 'VBP'), ('among', 'IN'), ('the', 'DT'), ('lowest', 'JJS'), ('in', 'IN'), ('the', 'DT'), ('country', 'NN'), ('”', 'NNP'), ('said', 'VBD'), ('jason', 'NN'), ('salemi', 'NN'), ('a', 'DT'), ('professor', 'NN'), ('of', 'IN'), ('epidemiology', 'NN'), ('at', 'IN'), ('the', 'DT'), ('university', 'NN'), ('of', 'IN'), ('south', 'JJ'), ('florida', 'JJ'), ('“', 'NN'), ('but', 'CC'), ('there', 'EX'), ('is', 'VBZ'), ('certainly', 'RB'), ('a', 'DT'), ('lot', 'NN'), ('of', 'IN'), ('immunity', 'NN'), ('built', 'VBN'), ('up', 'RP'), ('through', 'IN'), ('prior', 'JJ'), ('infection', 'NN'), ('”', 'RB'), ('even', 'RB'), ('as', 'IN'), ('fewer', 'JJR'), ('cases', 'NNS'), ('turn', 'VBP'), ('deadly', 'RB'), ('the', 'DT'), ('unprecedented', 'JJ'), ('number', 'NN'), ('of', 'IN'), ('infections', 'NNS'), ('this', 'DT'), ('winter', 'NN'), ('and', 'CC'), ('spring', 'NN'), ('has', 'VBZ'), ('created', 'VBN'), ('significant', 'JJ'), ('problems', 'NNS'), ('of', 'IN'), ('its', 'PRP$'), ('own', 'JJ'), ('in', 'IN'), ('the', 'DT'), ('united', 'JJ'), ('states', 'NNS'), ('one', 'CD'), ('in', 'IN'), ('five', 'CD'), ('adult', 'NN'), ('survivors', 'NNS'), ('of', 'IN'), ('covid', 'NN'), ('under', 'IN'), ('65', 'CD'), ('has', 'VBZ'), ('dealt', 'VBN'), ('with', 'IN'), ('some', 'DT'), ('version', 'NN'), ('of', 'IN'), ('long', 'JJ'), ('covid', 'NN'), ('a', 'DT'), ('recent', 'JJ'), ('study', 'NN'), ('found', 'VBD'), ('many', 'JJ'), ('people', 'NNS'), ('have', 'VBP'), ('missed', 'VBN'), ('work', 'NN'), ('including', 'VBG'), ('doctors', 'NNS'), ('whose', 'WP$'), ('absences', 'NNS'), ('this', 'DT'), ('spring', 'NN'), ('have', 'VBP'), ('periodically', 'RB'), ('strained', 'VBN'), ('hospitals', 'NNS'), ('that', 'IN'), ('already', 'RB'), ('had', 'VBD'), ('staffing', 'VBG'), ('problems', 'NNS'), ('dr', 'JJ'), ('karan', 'NN'), ('of', 'IN'), ('stanford', 'NN'), ('said', 'VBD'), ('that', 'IN'), ('he', 'PRP'), ('had', 'VBD'), ('lingering', 'VBG'), ('symptoms', 'NNS'), ('from', 'IN'), ('a', 'DT'), ('january', 'JJ'), ('bout', 'NN'), ('with', 'IN'), ('covid', 'NN'), ('until', 'IN'), ('april', 'PDT'), ('a', 'DT'), ('month', 'NN'), ('later', 'RB'), ('he', 'PRP'), ('was', 'VBD'), ('infected', 'VBN'), ('again', 'RB'), ('as', 'IN'), ('of', 'IN'), ('last', 'JJ'), ('week', 'NN'), ('he', 'PRP'), ('said', 'VBD'), ('with', 'IN'), ('the', 'DT'), ('subvariant', 'JJ'), ('surge', 'NN'), ('hitting', 'VBG'), ('california', 'NN'), ('his', 'PRP$'), ('team', 'NN'), ('of', 'IN'), ('five', 'CD'), ('doctors', 'NNS'), ('at', 'IN'), ('one', 'CD'), ('of', 'IN'), ('the', 'DT'), ('hospitals', 'NNS'), ('where', 'WRB'), ('he', 'PRP'), ('works', 'VBZ'), ('had', 'VBD'), ('been', 'VBN'), ('reduced', 'VBN'), ('to', 'TO'), ('two', 'CD'), ('because', 'IN'), ('of', 'IN'), ('covid', 'NN'), ('absences', 'NNS'), ('forcing', 'VBG'), ('delays', 'NNS'), ('to', 'TO'), ('consultations', 'NNS'), ('for', 'IN'), ('some', 'DT'), ('patients', 'NNS'), ('in', 'IN'), ('the', 'DT'), ('northeast', 'NN'), ('where', 'WRB'), ('cases', 'NNS'), ('have', 'VBP'), ('been', 'VBN'), ('falling', 'VBG'), ('for', 'IN'), ('several', 'JJ'), ('weeks', 'NNS'), ('dr', 'VBP'), ('ranney', 'NN'), ('said', 'VBD'), ('that', 'IN'), ('covid', 'NN'), ('patients', 'NNS'), ('had', 'VBD'), ('generally', 'RB'), ('been', 'VBN'), ('spending', 'VBG'), ('less', 'JJR'), ('time', 'NN'), ('in', 'IN'), ('the', 'DT'), ('hospital', 'NN'), ('during', 'IN'), ('the', 'DT'), ('latest', 'JJS'), ('wave', 'NN'), ('they', 'PRP'), ('had', 'VBD'), ('also', 'RB'), ('been', 'VBN'), ('presenting', 'VBG'), ('differently', 'RB'), ('she', 'PRP'), ('said', 'VBD'), ('in', 'IN'), ('previous', 'JJ'), ('surges', 'NNS'), ('patients', 'NNS'), ('’', 'VBP'), ('most', 'RBS'), ('pressing', 'JJ'), ('difficulties', 'NNS'), ('tended', 'VBD'), ('to', 'TO'), ('be', 'VB'), ('the', 'DT'), ('direct', 'JJ'), ('result', 'NN'), ('of', 'IN'), ('covid', 'NNS'), ('like', 'IN'), ('low', 'JJ'), ('oxygen', 'NN'), ('levels', 'NNS'), ('or', 'CC'), ('severe', 'JJ'), ('pneumonia', 'NN'), ('this', 'DT'), ('spring', 'NN'), ('she', 'PRP'), ('said', 'VBD'), ('more', 'RBR'), ('patients', 'NNS'), ('needed', 'VBN'), ('care', 'NN'), ('because', 'IN'), ('covid', 'NN'), ('had', 'VBD'), ('exacerbated', 'VBN'), ('underlying', 'JJ'), ('conditions', 'NNS'), ('like', 'IN'), ('diabetes', 'NNS'), ('or', 'CC'), ('heart', 'NN'), ('trouble', 'NN'), ('“', 'NN'), ('this', 'DT'), ('wave', 'NN'), ('feels', 'VBZ'), ('qualitatively', 'RB'), ('and', 'CC'), ('quantitatively', 'RB'), ('different', 'JJ'), ('”', 'NNP'), ('dr', 'NN'), ('ranney', 'NN'), ('said', 'VBD'), ('“', 'IN'), ('we', 'PRP'), ('’', 'VBP'), ('re', 'JJ'), ('not', 'RB'), ('seeing', 'VBG'), ('our', 'PRP$'), ('icu', 'JJ'), ('get', 'NN'), ('filled', 'VBN'), ('up', 'RP'), ('with', 'IN'), ('patients', 'NNS'), ('who', 'WP'), ('are', 'VBP'), ('gasping', 'VBG'), ('for', 'IN'), ('breath', 'NN'), ('or', 'CC'), ('who', 'WP'), ('are', 'VBP'), ('on', 'IN'), ('death', 'NN'), ('’', 'NN'), ('s', 'JJ'), ('door', 'NN'), ('”', 'NN')]\n"
          ]
        }
      ]
    },
    {
      "cell_type": "code",
      "source": [
        ""
      ],
      "metadata": {
        "id": "E8hbrJEFFZFj"
      },
      "execution_count": null,
      "outputs": []
    }
  ]
}