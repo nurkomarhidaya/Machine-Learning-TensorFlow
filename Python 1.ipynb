{
  "nbformat": 4,
  "nbformat_minor": 0,
  "metadata": {
    "colab": {
      "name": "Python_1.ipynb",
      "provenance": [],
      "collapsed_sections": []
    },
    "kernelspec": {
      "name": "python3",
      "display_name": "Python 3"
    },
    "language_info": {
      "name": "python"
    }
  },
  "cells": [
    {
      "cell_type": "markdown",
      "source": [
        "# judul\n",
        "## sub judul\n",
        "### isi\n",
        "**bold text**\n",
        "\n",
        "*italicized text*\n"
      ],
      "metadata": {
        "id": "Rb42g_VcYWI9"
      }
    },
    {
      "cell_type": "markdown",
      "source": [
        "#Python 1"
      ],
      "metadata": {
        "id": "YPdbMP0dnqKT"
      }
    },
    {
      "cell_type": "markdown",
      "source": [
        "###Tipe Data"
      ],
      "metadata": {
        "id": "BD6q9OkHnVdA"
      }
    },
    {
      "cell_type": "code",
      "source": [
        "a = 10\n",
        "print(a, \"bertipe\", type(a))"
      ],
      "metadata": {
        "colab": {
          "base_uri": "https://localhost:8080/"
        },
        "id": "kx7Ht9FwnVLK",
        "outputId": "39420c5f-63df-4e64-b507-369d400e50d0"
      },
      "execution_count": 7,
      "outputs": [
        {
          "output_type": "stream",
          "name": "stdout",
          "text": [
            "10 bertipe <class 'int'>\n"
          ]
        }
      ]
    },
    {
      "cell_type": "code",
      "source": [
        "nama = 'Toni'\n",
        "print(nama, \"bertipe\", type(nama))"
      ],
      "metadata": {
        "colab": {
          "base_uri": "https://localhost:8080/"
        },
        "id": "pWoCAOpMFD7B",
        "outputId": "7cad59f6-9a3d-4ded-8f71-5f27396d9086"
      },
      "execution_count": 8,
      "outputs": [
        {
          "output_type": "stream",
          "name": "stdout",
          "text": [
            "Toni bertipe <class 'str'>\n"
          ]
        }
      ]
    },
    {
      "cell_type": "code",
      "source": [
        "hasil = True\n",
        "print(hasil, \"bertipe\", type(hasil))"
      ],
      "metadata": {
        "colab": {
          "base_uri": "https://localhost:8080/"
        },
        "id": "IDbD0YLjnv3x",
        "outputId": "6e4d7cf8-35d2-4265-c0c4-5d5c5ef82e52"
      },
      "execution_count": 9,
      "outputs": [
        {
          "output_type": "stream",
          "name": "stdout",
          "text": [
            "True bertipe <class 'bool'>\n"
          ]
        }
      ]
    },
    {
      "cell_type": "code",
      "source": [
        "angka = 1.2\n",
        "print(angka,\"bertipe\",type(angka))"
      ],
      "metadata": {
        "colab": {
          "base_uri": "https://localhost:8080/"
        },
        "id": "PE1Qs78EZF9w",
        "outputId": "43b71f11-eedf-44a4-83b8-10d735701caa"
      },
      "execution_count": 10,
      "outputs": [
        {
          "output_type": "stream",
          "name": "stdout",
          "text": [
            "1.2 bertipe <class 'float'>\n"
          ]
        }
      ]
    },
    {
      "cell_type": "markdown",
      "source": [
        "###Operation"
      ],
      "metadata": {
        "id": "K19Q2tbapp8a"
      }
    },
    {
      "cell_type": "code",
      "source": [
        "print(3+3)"
      ],
      "metadata": {
        "colab": {
          "base_uri": "https://localhost:8080/"
        },
        "id": "cIByZ1eJDBoo",
        "outputId": "e9705595-9efc-4895-a330-b058ffc6c520"
      },
      "execution_count": 12,
      "outputs": [
        {
          "output_type": "stream",
          "name": "stdout",
          "text": [
            "6\n"
          ]
        }
      ]
    },
    {
      "cell_type": "code",
      "source": [
        "print(3*3)"
      ],
      "metadata": {
        "colab": {
          "base_uri": "https://localhost:8080/"
        },
        "id": "VKDjXy8gp4QZ",
        "outputId": "d4057dbd-5ede-4b63-f61a-1180641fa07c"
      },
      "execution_count": 13,
      "outputs": [
        {
          "output_type": "stream",
          "name": "stdout",
          "text": [
            "9\n"
          ]
        }
      ]
    },
    {
      "cell_type": "code",
      "source": [
        "print(3**3)"
      ],
      "metadata": {
        "colab": {
          "base_uri": "https://localhost:8080/"
        },
        "id": "F4DCY-zPp7Ae",
        "outputId": "b85c6fd8-ce92-4051-9efd-d81c778a991c"
      },
      "execution_count": 14,
      "outputs": [
        {
          "output_type": "stream",
          "name": "stdout",
          "text": [
            "27\n"
          ]
        }
      ]
    },
    {
      "cell_type": "code",
      "source": [
        "print(9/3)"
      ],
      "metadata": {
        "colab": {
          "base_uri": "https://localhost:8080/"
        },
        "id": "6DdZ8diSqR_T",
        "outputId": "68b3cb5a-1c9d-4bf4-f906-dfdcfcf4bf80"
      },
      "execution_count": 15,
      "outputs": [
        {
          "output_type": "stream",
          "name": "stdout",
          "text": [
            "3.0\n"
          ]
        }
      ]
    },
    {
      "cell_type": "code",
      "source": [
        "print(25%7)\n",
        "#%, mod, sisa pembagian 7*3 = 21 , 25 %7 "
      ],
      "metadata": {
        "colab": {
          "base_uri": "https://localhost:8080/"
        },
        "id": "2Z9T-9jupu8B",
        "outputId": "789036b2-ac14-49f0-db27-d2e648615216"
      },
      "execution_count": 16,
      "outputs": [
        {
          "output_type": "stream",
          "name": "stdout",
          "text": [
            "4\n"
          ]
        }
      ]
    },
    {
      "cell_type": "code",
      "source": [
        "print(8//5) # 1...."
      ],
      "metadata": {
        "colab": {
          "base_uri": "https://localhost:8080/"
        },
        "id": "ydnhRpn3hwZl",
        "outputId": "31881c49-d082-4fa4-8fc6-1364cb6f05a4"
      },
      "execution_count": 81,
      "outputs": [
        {
          "output_type": "stream",
          "name": "stdout",
          "text": [
            "1\n"
          ]
        }
      ]
    },
    {
      "cell_type": "code",
      "source": [
        "print(5//2) #2.5"
      ],
      "metadata": {
        "colab": {
          "base_uri": "https://localhost:8080/"
        },
        "id": "oRSlOxChh3a0",
        "outputId": "fcbb75a3-991f-4843-b444-007ef6d10245"
      },
      "execution_count": 82,
      "outputs": [
        {
          "output_type": "stream",
          "name": "stdout",
          "text": [
            "2\n"
          ]
        }
      ]
    },
    {
      "cell_type": "code",
      "source": [
        "8 - 3 + 2"
      ],
      "metadata": {
        "colab": {
          "base_uri": "https://localhost:8080/"
        },
        "id": "QLrdFHXqiBOd",
        "outputId": "cb5353ee-eada-4832-af68-7d18d2f8dc4f"
      },
      "execution_count": 83,
      "outputs": [
        {
          "output_type": "execute_result",
          "data": {
            "text/plain": [
              "7"
            ]
          },
          "metadata": {},
          "execution_count": 83
        }
      ]
    },
    {
      "cell_type": "code",
      "source": [
        "6 * 5 / 9"
      ],
      "metadata": {
        "colab": {
          "base_uri": "https://localhost:8080/"
        },
        "id": "dqvG25ZniDew",
        "outputId": "06fde21c-550b-4834-bb38-64990dc83664"
      },
      "execution_count": 84,
      "outputs": [
        {
          "output_type": "execute_result",
          "data": {
            "text/plain": [
              "3.3333333333333335"
            ]
          },
          "metadata": {},
          "execution_count": 84
        }
      ]
    },
    {
      "cell_type": "code",
      "source": [
        "print(max(2,3,4))\n",
        "print(min(2,3,4))\n",
        "print(round(5.6))\n",
        "print(round(1.5))"
      ],
      "metadata": {
        "colab": {
          "base_uri": "https://localhost:8080/"
        },
        "id": "-i72yrdIpxMO",
        "outputId": "0fcbc99c-1afc-4dde-af80-6b6e94b74d4c"
      },
      "execution_count": 19,
      "outputs": [
        {
          "output_type": "stream",
          "name": "stdout",
          "text": [
            "4\n",
            "2\n",
            "6\n",
            "2\n"
          ]
        }
      ]
    },
    {
      "cell_type": "markdown",
      "source": [
        "###String"
      ],
      "metadata": {
        "id": "7Lnw02WBn4s8"
      }
    },
    {
      "cell_type": "code",
      "source": [
        "print(\"Hello World\")\n",
        "print(\"Welcome to Python\")"
      ],
      "metadata": {
        "colab": {
          "base_uri": "https://localhost:8080/"
        },
        "id": "TgoecRXpCr22",
        "outputId": "4d924508-94a4-497a-dc89-17e99f1480c1"
      },
      "execution_count": 20,
      "outputs": [
        {
          "output_type": "stream",
          "name": "stdout",
          "text": [
            "Hello World\n",
            "Welcome to Python\n"
          ]
        }
      ]
    },
    {
      "cell_type": "code",
      "source": [
        "teks = \"\"\"Hello world \\nWelcome to python\"\"\"\n",
        "print(teks)"
      ],
      "metadata": {
        "colab": {
          "base_uri": "https://localhost:8080/"
        },
        "id": "_2OP3xNwZ8nc",
        "outputId": "926b4386-3034-4402-e30b-6fd218735902"
      },
      "execution_count": 27,
      "outputs": [
        {
          "output_type": "stream",
          "name": "stdout",
          "text": [
            "Hello world \n",
            "Welcome to python\n"
          ]
        }
      ]
    },
    {
      "cell_type": "code",
      "source": [
        "teks1 = \"\"\"Saya \\t tab kamu \\nkamu \\t dia\"\"\"\n",
        "print(teks1)"
      ],
      "metadata": {
        "colab": {
          "base_uri": "https://localhost:8080/"
        },
        "id": "H8vE7eIgaPhH",
        "outputId": "d1fbbe63-08b5-4693-c8f4-420cc96f0bfe"
      },
      "execution_count": 30,
      "outputs": [
        {
          "output_type": "stream",
          "name": "stdout",
          "text": [
            "Saya \t tab kamu \n",
            "kamu \t dia\n"
          ]
        }
      ]
    },
    {
      "cell_type": "code",
      "source": [
        "kutipantiga = \"\"\"this is a long string that is made up of several lines and non-printable characters such as TAB ( \\t ) and they will show up that way when displayed. NEWLINEs within the string, whether explicitly given like this within the brackets [ \\n ], or just a NEWLINE within the variable assignment will also show up.\n",
        "\"\"\"\n",
        "print(kutipantiga)"
      ],
      "metadata": {
        "colab": {
          "base_uri": "https://localhost:8080/"
        },
        "id": "JSj1z6ULyY5a",
        "outputId": "bd505f38-9b36-4ecb-b2f0-0f9eb43031e0"
      },
      "execution_count": 21,
      "outputs": [
        {
          "output_type": "stream",
          "name": "stdout",
          "text": [
            "this is a long string that is made up of several lines and non-printable characters such as TAB ( \t ) and they will show up that way when displayed. NEWLINEs within the string, whether explicitly given like this within the brackets [ \n",
            " ], or just a NEWLINE within the variable assignment will also show up.\n",
            "\n"
          ]
        }
      ]
    },
    {
      "cell_type": "code",
      "source": [
        "nama = \"Toni\"\n",
        "umur = 120\n",
        "print(\"Nama aku \" + nama)\n",
        "print(\"Umur saya \" + str(umur))\n",
        "print(nama + \" adalah namaku.\")\n",
        "print(nama + \" namaku.\")"
      ],
      "metadata": {
        "colab": {
          "base_uri": "https://localhost:8080/"
        },
        "id": "n2MBffo4Crre",
        "outputId": "fc276331-7882-4c7d-ddec-ac9af07a7187"
      },
      "execution_count": 32,
      "outputs": [
        {
          "output_type": "stream",
          "name": "stdout",
          "text": [
            "Nama aku Toni\n",
            "Umur saya 120\n",
            "Toni adalah namaku.\n",
            "Toni namaku.\n"
          ]
        }
      ]
    },
    {
      "cell_type": "code",
      "source": [
        "nama = \"Toni\"\n",
        "umur = 120\n",
        "print(\"Nama aku \" + nama)\n",
        "print(\"Umur saya \" + str(umur)) # int di ubah ke str\n",
        "nama = \"Bella\"\n",
        "print(nama + \" adalah namaku.\")\n",
        "print(nama + \" namaku.\")\n",
        "print(int('807') + 1) # string di ubah ke int"
      ],
      "metadata": {
        "colab": {
          "base_uri": "https://localhost:8080/"
        },
        "id": "JI1mZRL1Crah",
        "outputId": "92571f65-ec9d-4b69-bf9c-3112fc42b3c2"
      },
      "execution_count": 89,
      "outputs": [
        {
          "output_type": "stream",
          "name": "stdout",
          "text": [
            "Nama aku Toni\n",
            "Umur saya 120\n",
            "Bella adalah namaku.\n",
            "Bella namaku.\n",
            "808\n"
          ]
        }
      ]
    },
    {
      "cell_type": "code",
      "source": [
        "name = \"BELLA\"\n",
        "#       01234\n",
        "print(name.upper())\n",
        "print(name.lower())\n",
        "print(name.isupper())\n",
        "print(name.islower())\n",
        "print(len(name))\n",
        "print(name[1:4])\n",
        "print(name[2:4])\n",
        "print(name[-3])\n",
        "#index selalu mulai dari 0\n",
        "print(name.index(\"E\"))"
      ],
      "metadata": {
        "colab": {
          "base_uri": "https://localhost:8080/"
        },
        "id": "jqWkLzmqCrPU",
        "outputId": "9f64bbb6-9f0f-468d-d3c0-9267efe170db"
      },
      "execution_count": 36,
      "outputs": [
        {
          "output_type": "stream",
          "name": "stdout",
          "text": [
            "BELLA\n",
            "bella\n",
            "True\n",
            "False\n",
            "5\n",
            "ELL\n",
            "LL\n",
            "L\n",
            "1\n"
          ]
        }
      ]
    },
    {
      "cell_type": "code",
      "source": [
        "a = 10\n",
        "b = 13"
      ],
      "metadata": {
        "id": "m15dWMU8ltHo"
      },
      "execution_count": 96,
      "outputs": []
    },
    {
      "cell_type": "code",
      "source": [
        "temp = a"
      ],
      "metadata": {
        "id": "NXlExX8blzFS"
      },
      "execution_count": 97,
      "outputs": []
    },
    {
      "cell_type": "code",
      "source": [
        "a = b"
      ],
      "metadata": {
        "id": "xZKkFVXol3wo"
      },
      "execution_count": 98,
      "outputs": []
    },
    {
      "cell_type": "code",
      "source": [
        "b = temp"
      ],
      "metadata": {
        "id": "RmBg5_s0l6tM"
      },
      "execution_count": 99,
      "outputs": []
    },
    {
      "cell_type": "code",
      "source": [
        "print(a,b)"
      ],
      "metadata": {
        "colab": {
          "base_uri": "https://localhost:8080/"
        },
        "id": "_BEwKYKcmAGg",
        "outputId": "69abae38-63d4-4ecd-e53b-6066ebc512b4"
      },
      "execution_count": 100,
      "outputs": [
        {
          "output_type": "stream",
          "name": "stdout",
          "text": [
            "13 10\n"
          ]
        }
      ]
    },
    {
      "cell_type": "markdown",
      "source": [
        "###Functions"
      ],
      "metadata": {
        "id": "AgHcH2jbqdlN"
      }
    },
    {
      "cell_type": "code",
      "execution_count": 41,
      "metadata": {
        "id": "PO2ws_BC2Ltb",
        "colab": {
          "base_uri": "https://localhost:8080/"
        },
        "outputId": "5fe2409c-8722-4577-9744-f90e1ee04d6f"
      },
      "outputs": [
        {
          "output_type": "stream",
          "name": "stdout",
          "text": [
            "Perkenalkan saya Alvin dari Jawa Timur\n",
            "Perkenalkan saya Stevani dari Jawa Tengah\n"
          ]
        }
      ],
      "source": [
        "def perkenalan (nama, asal):\n",
        "          print(f\"Perkenalkan saya {nama} dari {asal}\")\n",
        "\n",
        "perkenalan(\"Alvin\", \"Jawa Timur\")\n",
        "perkenalan(\"Stevani\", \"Jawa Tengah\")"
      ]
    },
    {
      "cell_type": "code",
      "source": [
        "def luasSegitiga (alas, tinggi):\n",
        "    luas = (alas * tinggi)/2\n",
        "    print(\"Luas segitiga =\",luas)\n",
        "\n",
        "luasSegitiga(3,6)\n",
        "luasSegitiga(9,8)\n"
      ],
      "metadata": {
        "colab": {
          "base_uri": "https://localhost:8080/"
        },
        "id": "8-SR9RbFqpD6",
        "outputId": "d9e0326f-82b7-412d-8212-8266eca7ceb1"
      },
      "execution_count": 40,
      "outputs": [
        {
          "output_type": "stream",
          "name": "stdout",
          "text": [
            "Luas segitiga = 9.0\n",
            "Luas segitiga = 36.0\n"
          ]
        }
      ]
    },
    {
      "cell_type": "code",
      "source": [
        "#Excercise\n",
        "#Buatlah sebuah fungsi untuk menghitung volume balok \n",
        "def volumeBalok(p,l,t):\n",
        "  #rumus\n",
        "  Volume = p * l *t\n",
        "  #cetak hasil\n",
        "  print(\"Volume balok =\", Volume)\n",
        "\n",
        "#panggil fungsi volume balok\n",
        "volumeBalok(500, 12, 3)\n"
      ],
      "metadata": {
        "id": "0PEVRiCHs736",
        "colab": {
          "base_uri": "https://localhost:8080/"
        },
        "outputId": "09692583-70cc-40f6-af5f-e35c7a79791d"
      },
      "execution_count": 42,
      "outputs": [
        {
          "output_type": "stream",
          "name": "stdout",
          "text": [
            "Volume balok =  18000\n"
          ]
        }
      ]
    },
    {
      "cell_type": "code",
      "source": [
        "#excercise\n",
        "#Buatlah sebuah fungsi untuk menghitung luas jajargenjang \n",
        "def luasJajargenjang (a,t):\n",
        "  ljajargenjang = a*t \n",
        "  return ljajargenjang\n",
        "\n",
        "luasJajargenjang(1.2, 3)"
      ],
      "metadata": {
        "colab": {
          "base_uri": "https://localhost:8080/"
        },
        "id": "ck46a0GecvAd",
        "outputId": "396987e1-efa6-4eed-b003-043494b65bb7"
      },
      "execution_count": 105,
      "outputs": [
        {
          "output_type": "stream",
          "name": "stdout",
          "text": [
            "3.5999999999999996\n"
          ]
        }
      ]
    },
    {
      "cell_type": "code",
      "source": [
        "#membuat fungsi lias lingkaran\n",
        "def circleArea (radius) : \n",
        "  pi = 3.14159\n",
        "  area = pi *(radius**2)\n",
        "  print(\"Luas lingkaran =\",area)\n",
        "circleArea(10)"
      ],
      "metadata": {
        "colab": {
          "base_uri": "https://localhost:8080/"
        },
        "id": "HqyoyBZekj0k",
        "outputId": "c84812e2-8490-4bbd-efa1-e814c45982b0"
      },
      "execution_count": 90,
      "outputs": [
        {
          "output_type": "stream",
          "name": "stdout",
          "text": [
            "Luas lingkaran = 314.159\n"
          ]
        }
      ]
    },
    {
      "cell_type": "markdown",
      "source": [
        "####Percabangan"
      ],
      "metadata": {
        "id": "63phBgpWsk-X"
      }
    },
    {
      "cell_type": "code",
      "source": [
        "i = 2\n",
        "if i ==1:\n",
        "    print(1)\n",
        "elif i == 2:\n",
        "    print(2)\n",
        "else :\n",
        "    print(\"Not 1 and 2\")\n"
      ],
      "metadata": {
        "colab": {
          "base_uri": "https://localhost:8080/"
        },
        "id": "1cdOURBPyh8I",
        "outputId": "a2f49f10-bd78-4503-ee40-c20d0bd1fae2"
      },
      "execution_count": 47,
      "outputs": [
        {
          "output_type": "stream",
          "name": "stdout",
          "text": [
            "2\n"
          ]
        }
      ]
    },
    {
      "cell_type": "markdown",
      "source": [
        "###List"
      ],
      "metadata": {
        "id": "qgXwWDcCutnT"
      }
    },
    {
      "cell_type": "code",
      "source": [
        "friends = [\"A\", \"B\", \"C\"]\n",
        "print(friends)            #[\"A\", \"B\", \"C\"]\n",
        "print(friends[0])         #A\n",
        "print(friends[-1])        #C\n",
        "print(friends[1:])        #[\"B\", \"C\"]\n",
        "print(friends[0:2])       #[\"A\", \"B\"]\n",
        "print(friends[1:])"
      ],
      "metadata": {
        "colab": {
          "base_uri": "https://localhost:8080/"
        },
        "id": "j5g2b5WHzSz0",
        "outputId": "2567979e-a1fd-46a8-ec8c-9fd4edaab84e"
      },
      "execution_count": 54,
      "outputs": [
        {
          "output_type": "stream",
          "name": "stdout",
          "text": [
            "['A', 'B', 'C']\n",
            "A\n",
            "C\n",
            "['B', 'C']\n",
            "['A', 'B']\n",
            "['B', 'C']\n"
          ]
        }
      ]
    },
    {
      "cell_type": "code",
      "source": [
        "X = [\"A\", \"B\", \"C\"]\n",
        "Y = [1, 2, 3]\n",
        "# X.extend(Y)\n",
        "# print(X)            "
      ],
      "metadata": {
        "id": "45GA_L7l0UXU"
      },
      "execution_count": 58,
      "outputs": []
    },
    {
      "cell_type": "code",
      "source": [
        "X.append(\"D\")    \n",
        "print(X)         "
      ],
      "metadata": {
        "id": "bwOiCDg9F2V3",
        "colab": {
          "base_uri": "https://localhost:8080/"
        },
        "outputId": "f91adc15-dbd8-4f41-cd1c-592171ab6a81"
      },
      "execution_count": 56,
      "outputs": [
        {
          "output_type": "stream",
          "name": "stdout",
          "text": [
            "['A', 'B', 'C', 1, 2, 3, 'D']\n"
          ]
        }
      ]
    },
    {
      "cell_type": "code",
      "source": [
        "X.insert(1, \"D\")\n",
        "print(X)    "
      ],
      "metadata": {
        "id": "ycpwLObPF5Af",
        "colab": {
          "base_uri": "https://localhost:8080/"
        },
        "outputId": "2ec4c412-d7d9-44d4-9232-5bcdb2dd4f93"
      },
      "execution_count": 59,
      "outputs": [
        {
          "output_type": "stream",
          "name": "stdout",
          "text": [
            "['A', 'D', 'B', 'C']\n"
          ]
        }
      ]
    },
    {
      "cell_type": "code",
      "source": [
        "X.clear()\n",
        "print(X)            \n"
      ],
      "metadata": {
        "id": "5ieYSVGHF5rW",
        "colab": {
          "base_uri": "https://localhost:8080/"
        },
        "outputId": "f1705235-6482-4c06-9061-45e3c2ec0151"
      },
      "execution_count": 60,
      "outputs": [
        {
          "output_type": "stream",
          "name": "stdout",
          "text": [
            "[]\n"
          ]
        }
      ]
    },
    {
      "cell_type": "code",
      "source": [
        "X = [\"A\", \"B\", \"C\"]\n",
        "Y = [1, 2, 3]\n",
        "# X.pop()\n",
        "# print(X)              "
      ],
      "metadata": {
        "id": "THmNqun_0Q1N"
      },
      "execution_count": 63,
      "outputs": []
    },
    {
      "cell_type": "code",
      "source": [
        "X.pop()\n",
        "print(X) "
      ],
      "metadata": {
        "colab": {
          "base_uri": "https://localhost:8080/"
        },
        "id": "rhBAwr29ef2t",
        "outputId": "29349fe4-a022-43a6-a8bf-1f68fca78d9a"
      },
      "execution_count": 62,
      "outputs": [
        {
          "output_type": "stream",
          "name": "stdout",
          "text": [
            "['A']\n"
          ]
        }
      ]
    },
    {
      "cell_type": "code",
      "source": [
        "X.index(\"B\")           \n",
        "print(X)"
      ],
      "metadata": {
        "id": "FHyK3Qs9GrfB",
        "colab": {
          "base_uri": "https://localhost:8080/"
        },
        "outputId": "de86dd10-6d26-4404-abd0-a7e5208b1d6b"
      },
      "execution_count": 64,
      "outputs": [
        {
          "output_type": "stream",
          "name": "stdout",
          "text": [
            "['A', 'B', 'C']\n"
          ]
        }
      ]
    },
    {
      "cell_type": "code",
      "source": [
        "X.count(\"B\")           \n",
        "print(X)"
      ],
      "metadata": {
        "id": "4hL5ncxBGyXX",
        "colab": {
          "base_uri": "https://localhost:8080/"
        },
        "outputId": "cd6f460c-e739-45cb-8771-b31a425c9f5e"
      },
      "execution_count": 65,
      "outputs": [
        {
          "output_type": "stream",
          "name": "stdout",
          "text": [
            "['A', 'B', 'C']\n"
          ]
        }
      ]
    },
    {
      "cell_type": "code",
      "source": [
        "X.sort()\n",
        "print(X)"
      ],
      "metadata": {
        "id": "79LpVrMfG2Cw",
        "colab": {
          "base_uri": "https://localhost:8080/"
        },
        "outputId": "0e0e88ec-a97a-408b-92c1-cfac876f57b6"
      },
      "execution_count": 66,
      "outputs": [
        {
          "output_type": "stream",
          "name": "stdout",
          "text": [
            "['A', 'B', 'C']\n"
          ]
        }
      ]
    },
    {
      "cell_type": "code",
      "source": [
        "X.reverse()     \n",
        "print(X)       "
      ],
      "metadata": {
        "id": "34dKYNiiG31m",
        "colab": {
          "base_uri": "https://localhost:8080/"
        },
        "outputId": "47671e3c-4d9d-4ecd-fbf6-a6cd68446036"
      },
      "execution_count": 67,
      "outputs": [
        {
          "output_type": "stream",
          "name": "stdout",
          "text": [
            "['C', 'B', 'A']\n"
          ]
        }
      ]
    },
    {
      "cell_type": "code",
      "source": [
        "X2 = X.copy()\n",
        "print(X2)\n"
      ],
      "metadata": {
        "id": "RvSJ4BFPG5ub",
        "colab": {
          "base_uri": "https://localhost:8080/"
        },
        "outputId": "082a5a85-297a-4482-a594-968c54c1ae4f"
      },
      "execution_count": 68,
      "outputs": [
        {
          "output_type": "stream",
          "name": "stdout",
          "text": [
            "['C', 'B', 'A']\n"
          ]
        }
      ]
    },
    {
      "cell_type": "markdown",
      "source": [
        "###Dictionary"
      ],
      "metadata": {
        "id": "SQ5jwvE3u7hx"
      }
    },
    {
      "cell_type": "code",
      "source": [
        "# mendefinisikan dictionary\n",
        "id_divisi = {\n",
        "    71 : 'IT',\n",
        "    82 : 'Finance',\n",
        "    91 : 'Data',\n",
        "    62 : 'Marketing'\n",
        "}\n",
        "\n",
        "# mengakses data menggunakan key\n",
        "print(\"Divisi dengan kode 71:\", id_divisi[71])\n",
        "print(\"Divisi dengan kode 62:\", id_divisi[62])"
      ],
      "metadata": {
        "colab": {
          "base_uri": "https://localhost:8080/"
        },
        "id": "eT_nymHUt0NI",
        "outputId": "217adefe-223e-466b-d954-6535f918b5fe"
      },
      "execution_count": 70,
      "outputs": [
        {
          "output_type": "stream",
          "name": "stdout",
          "text": [
            "Divisi dengan kode 71: IT\n",
            "Divisi dengan kode 62: Marketing\n"
          ]
        }
      ]
    },
    {
      "cell_type": "code",
      "source": [
        "days_in_a_week = {\n",
        "        \"Mon\": \"Monday\",\n",
        "        \"Tue\": \"Tuesday\",\n",
        "        \"Wed\": \"Wednesday\",\n",
        "        \"Thu\": \"Thursday\",\n",
        "        \"Fri\": \"Friday\",\n",
        "        \"Sat\": \"Saturday\",\n",
        "        \"Sun\": \"Sunday\"\n",
        "    }\n",
        "days_in_a_week[\"Mon\"]            \n",
        "days_in_a_week[\"Sun\"]\n"
      ],
      "metadata": {
        "colab": {
          "base_uri": "https://localhost:8080/",
          "height": 35
        },
        "id": "J8hdLRWjyMw7",
        "outputId": "7a1ae080-ab15-4312-98b6-eb793fa40f69"
      },
      "execution_count": 72,
      "outputs": [
        {
          "output_type": "execute_result",
          "data": {
            "text/plain": [
              "'Sunday'"
            ],
            "application/vnd.google.colaboratory.intrinsic+json": {
              "type": "string"
            }
          },
          "metadata": {},
          "execution_count": 72
        }
      ]
    },
    {
      "cell_type": "markdown",
      "source": [
        "###Pengulangan "
      ],
      "metadata": {
        "id": "O37RTRQSt6W3"
      }
    },
    {
      "cell_type": "code",
      "source": [
        "#for loops\n",
        "angka = [1,2,3,4,5]\n",
        "for x in angka:\n",
        "    print(x)\n"
      ],
      "metadata": {
        "colab": {
          "base_uri": "https://localhost:8080/"
        },
        "id": "U_h6hJCtxbwG",
        "outputId": "bf4ff9bf-1921-480a-c764-83cc35495f11"
      },
      "execution_count": 73,
      "outputs": [
        {
          "output_type": "stream",
          "name": "stdout",
          "text": [
            "1\n",
            "2\n",
            "3\n",
            "4\n",
            "5\n"
          ]
        }
      ]
    },
    {
      "cell_type": "code",
      "source": [
        "#for loops\n",
        "buah = [\"nanas\", \"apel\", \"jeruk\", \"mangga\", \"kiwi\", \"alpukat\"]\n",
        "for makanan in buah:\n",
        "    print (\"Saya suka makan\", makanan)\n"
      ],
      "metadata": {
        "colab": {
          "base_uri": "https://localhost:8080/"
        },
        "id": "mOTWr4k_xz7-",
        "outputId": "3b02cee5-6360-422e-d036-411b6c9f5e7a"
      },
      "execution_count": 75,
      "outputs": [
        {
          "output_type": "stream",
          "name": "stdout",
          "text": [
            "Saya suka makan nanas\n",
            "Saya suka makan apel\n",
            "Saya suka makan jeruk\n",
            "Saya suka makan mangga\n",
            "Saya suka makan kiwi\n",
            "Saya suka makan alpukat\n"
          ]
        }
      ]
    },
    {
      "cell_type": "code",
      "source": [
        "#while loops\n",
        "count = 0\n",
        "while (count <= 9):\n",
        "    print (\"The count is: \", count)\n",
        "    count = count + 1\n",
        "\n",
        "print (\"Good bye!\")\n"
      ],
      "metadata": {
        "colab": {
          "base_uri": "https://localhost:8080/"
        },
        "id": "qRcrfQGDx-2x",
        "outputId": "0485f6e3-7a09-419e-dd94-9983ad0d6179"
      },
      "execution_count": 77,
      "outputs": [
        {
          "output_type": "stream",
          "name": "stdout",
          "text": [
            "The count is:  0\n",
            "The count is:  1\n",
            "The count is:  2\n",
            "The count is:  3\n",
            "The count is:  4\n",
            "The count is:  5\n",
            "The count is:  6\n",
            "The count is:  7\n",
            "The count is:  8\n",
            "The count is:  9\n",
            "Good bye!\n"
          ]
        }
      ]
    },
    {
      "cell_type": "code",
      "source": [
        "#Nested Loops\n",
        "i = 2\n",
        "while(i < 100):\n",
        "    j = 2\n",
        "    while(j <= (i/j)):\n",
        "        if not(i%j): break\n",
        "        j = j + 1\n",
        "    if (j > i/j) : print(i, \" is prime\")\n",
        "    i = i + 1\n",
        "\n",
        "print(\"Good bye!\")\n"
      ],
      "metadata": {
        "colab": {
          "base_uri": "https://localhost:8080/"
        },
        "id": "0qX-KKMpyFXo",
        "outputId": "e06e65e9-e213-417e-f8ea-df1072bbd958"
      },
      "execution_count": 78,
      "outputs": [
        {
          "output_type": "stream",
          "name": "stdout",
          "text": [
            "2  is prime\n",
            "3  is prime\n",
            "5  is prime\n",
            "7  is prime\n",
            "11  is prime\n",
            "13  is prime\n",
            "17  is prime\n",
            "19  is prime\n",
            "23  is prime\n",
            "29  is prime\n",
            "31  is prime\n",
            "37  is prime\n",
            "41  is prime\n",
            "43  is prime\n",
            "47  is prime\n",
            "53  is prime\n",
            "59  is prime\n",
            "61  is prime\n",
            "67  is prime\n",
            "71  is prime\n",
            "73  is prime\n",
            "79  is prime\n",
            "83  is prime\n",
            "89  is prime\n",
            "97  is prime\n",
            "Good bye!\n"
          ]
        }
      ]
    },
    {
      "cell_type": "markdown",
      "source": [
        "###Kaggle"
      ],
      "metadata": {
        "id": "hcAeS9SAz4K2"
      }
    },
    {
      "cell_type": "code",
      "source": [
        "spam_amount = 0\n",
        "print(spam_amount)\n",
        "\n",
        "# Ordering Spam, egg, Spam, Spam, bacon and Spam (4 more servings of Spam)\n",
        "spam_amount += 4=\n",
        "\n",
        "if spam_amount > 0:\n",
        "    print(\"But I don't want ANY spam!\")\n",
        "\n",
        "viking_song = \"Spam \" * spam_amount\n",
        "print(viking_song)"
      ],
      "metadata": {
        "colab": {
          "base_uri": "https://localhost:8080/"
        },
        "id": "R00qNAZihDzA",
        "outputId": "b6e19c5e-3ef5-4f24-9d61-72ec430784c3"
      },
      "execution_count": 80,
      "outputs": [
        {
          "output_type": "stream",
          "name": "stdout",
          "text": [
            "0\n",
            "\n"
          ]
        }
      ]
    },
    {
      "cell_type": "code",
      "source": [
        "hat_height_cm = 25\n",
        "my_height_cm = 190\n",
        "# How tall am I, in meters, when wearing my hat?\n",
        "total_height_meters = (hat_height_cm + my_height_cm)/ 100\n",
        "print(\"Height in meters =\", total_height_meters, \"?\")"
      ],
      "metadata": {
        "colab": {
          "base_uri": "https://localhost:8080/"
        },
        "id": "FTLQio28iNh6",
        "outputId": "2882ef11-f0a5-4024-873f-a0780e4b0b14"
      },
      "execution_count": 88,
      "outputs": [
        {
          "output_type": "stream",
          "name": "stdout",
          "text": [
            "Height in meters = 2.15 ?\n"
          ]
        }
      ]
    },
    {
      "cell_type": "code",
      "source": [
        "#ubah code diatas menjadi sebuah function untuk menghitung tinggi dalam meter\n",
        "def totalHeightMeter (tinggi, topi):\n",
        "  tinggiTotalM = (tinggi + topi)/100\n",
        "  print(\"Tinggi total dalam meter =\",tinggiTotalM)\n",
        "\n",
        "totalHeightMeter(190,25)"
      ],
      "metadata": {
        "colab": {
          "base_uri": "https://localhost:8080/"
        },
        "id": "DfbVlopFibY-",
        "outputId": "a9fc4610-b11e-4bc4-8844-ef0c283bb02f"
      },
      "execution_count": 87,
      "outputs": [
        {
          "output_type": "stream",
          "name": "stdout",
          "text": [
            "Tinggi total dalam meter = 2.15\n"
          ]
        }
      ]
    },
    {
      "cell_type": "markdown",
      "source": [
        "###Excercise "
      ],
      "metadata": {
        "id": "sxhpzjurYY6R"
      }
    },
    {
      "cell_type": "code",
      "source": [
        "#Buat program untuk menghitung jumlah seluruh angka ganjil dalam suatu list\n",
        "# Input: list berisi angka-angka\n",
        "# Output: jumlah seluruh angka ganjil "
      ],
      "metadata": {
        "id": "Rs9dYKL11Io6"
      },
      "execution_count": null,
      "outputs": []
    },
    {
      "cell_type": "code",
      "source": [
        "#Diberikan input suatu angka, tampilkan formasi piramida bintang dengan tinggi sesuai dengan angka yang diinputkan\n",
        "# Input: suatu angka (n)\n",
        "# Output: piramida dengan tinggi n\n",
        "\n",
        "#    *\n",
        "#   ***\n",
        "#  *****  contoh output untuk n = 5\n",
        "# *******\n",
        "#*********"
      ],
      "metadata": {
        "id": "kS974OYN1vfN"
      },
      "execution_count": null,
      "outputs": []
    }
  ]
}