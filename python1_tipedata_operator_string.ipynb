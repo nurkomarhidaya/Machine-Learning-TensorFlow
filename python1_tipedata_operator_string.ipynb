{
  "cells": [
    {
      "cell_type": "markdown",
      "metadata": {
        "id": "view-in-github",
        "colab_type": "text"
      },
      "source": [
        "<a href=\"https://colab.research.google.com/github/nurkomarhidaya/Machine-Learning-TensorFlow/blob/main/python1_tipedata_operator_string.ipynb\" target=\"_parent\"><img src=\"https://colab.research.google.com/assets/colab-badge.svg\" alt=\"Open In Colab\"/></a>"
      ]
    },
    {
      "cell_type": "markdown",
      "metadata": {
        "id": "Rb42g_VcYWI9"
      },
      "source": [
        "# judul\n",
        "## sub judul\n",
        "### isi\n",
        "**bold text**\n",
        "\n",
        "*italicized text*\n"
      ]
    },
    {
      "cell_type": "markdown",
      "metadata": {
        "id": "YPdbMP0dnqKT"
      },
      "source": [
        "#Python 1"
      ]
    },
    {
      "cell_type": "markdown",
      "metadata": {
        "id": "BD6q9OkHnVdA"
      },
      "source": [
        "###Tipe Data"
      ]
    },
    {
      "cell_type": "code",
      "execution_count": null,
      "metadata": {
        "colab": {
          "base_uri": "https://localhost:8080/"
        },
        "id": "kx7Ht9FwnVLK",
        "outputId": "64bb1fca-32ee-4e20-ed71-99f9171b9a12"
      },
      "outputs": [
        {
          "name": "stdout",
          "output_type": "stream",
          "text": [
            "10 bertipe <class 'int'>\n"
          ]
        }
      ],
      "source": [
        "a = 10\n",
        "print(a, \"bertipe\", type(a))"
      ]
    },
    {
      "cell_type": "code",
      "source": [
        ""
      ],
      "metadata": {
        "id": "KiiIsrNLhmL9"
      },
      "execution_count": null,
      "outputs": []
    },
    {
      "cell_type": "code",
      "execution_count": null,
      "metadata": {
        "colab": {
          "base_uri": "https://localhost:8080/"
        },
        "id": "pWoCAOpMFD7B",
        "outputId": "0b143cec-989d-4e06-d2be-5be5baad643e"
      },
      "outputs": [
        {
          "name": "stdout",
          "output_type": "stream",
          "text": [
            "Toni bertipe <class 'str'>\n"
          ]
        }
      ],
      "source": [
        "nama = 'Toni'\n",
        "print(nama, \"bertipe\", type(nama))"
      ]
    },
    {
      "cell_type": "code",
      "execution_count": null,
      "metadata": {
        "colab": {
          "base_uri": "https://localhost:8080/"
        },
        "id": "IDbD0YLjnv3x",
        "outputId": "3b4671cc-74de-47c3-c4e6-11818681553b"
      },
      "outputs": [
        {
          "name": "stdout",
          "output_type": "stream",
          "text": [
            "True bertipe <class 'bool'>\n"
          ]
        }
      ],
      "source": [
        "hasil = True\n",
        "print(hasil, \"bertipe\", type(hasil))"
      ]
    },
    {
      "cell_type": "code",
      "execution_count": null,
      "metadata": {
        "colab": {
          "base_uri": "https://localhost:8080/"
        },
        "id": "PE1Qs78EZF9w",
        "outputId": "431b258f-ecd1-450d-ea7a-0908b23cd542"
      },
      "outputs": [
        {
          "name": "stdout",
          "output_type": "stream",
          "text": [
            "1.2 bertipe <class 'float'>\n"
          ]
        }
      ],
      "source": [
        "angka = 1.2\n",
        "print(angka,\"bertipe\",type(angka))"
      ]
    },
    {
      "cell_type": "markdown",
      "metadata": {
        "id": "K19Q2tbapp8a"
      },
      "source": [
        "###Operation"
      ]
    },
    {
      "cell_type": "code",
      "execution_count": null,
      "metadata": {
        "colab": {
          "base_uri": "https://localhost:8080/"
        },
        "id": "cIByZ1eJDBoo",
        "outputId": "5a05d444-067a-48ec-d31b-ef05b8c573a9"
      },
      "outputs": [
        {
          "name": "stdout",
          "output_type": "stream",
          "text": [
            "6\n"
          ]
        }
      ],
      "source": [
        "print(3+3)"
      ]
    },
    {
      "cell_type": "code",
      "execution_count": null,
      "metadata": {
        "colab": {
          "base_uri": "https://localhost:8080/"
        },
        "id": "VKDjXy8gp4QZ",
        "outputId": "f5d9457a-a13e-496e-8877-6111f5124743"
      },
      "outputs": [
        {
          "name": "stdout",
          "output_type": "stream",
          "text": [
            "9\n"
          ]
        }
      ],
      "source": [
        "print(3*3)"
      ]
    },
    {
      "cell_type": "code",
      "execution_count": null,
      "metadata": {
        "colab": {
          "base_uri": "https://localhost:8080/"
        },
        "id": "F4DCY-zPp7Ae",
        "outputId": "06b35b52-8783-422c-ba75-113772daddfd"
      },
      "outputs": [
        {
          "name": "stdout",
          "output_type": "stream",
          "text": [
            "27\n"
          ]
        }
      ],
      "source": [
        "print(3**3)"
      ]
    },
    {
      "cell_type": "code",
      "execution_count": null,
      "metadata": {
        "colab": {
          "base_uri": "https://localhost:8080/"
        },
        "id": "6DdZ8diSqR_T",
        "outputId": "302f4f82-efef-4c9f-bc70-715b2b75155b"
      },
      "outputs": [
        {
          "name": "stdout",
          "output_type": "stream",
          "text": [
            "3.0\n"
          ]
        }
      ],
      "source": [
        "print(9/3)"
      ]
    },
    {
      "cell_type": "code",
      "execution_count": null,
      "metadata": {
        "colab": {
          "base_uri": "https://localhost:8080/"
        },
        "id": "2Z9T-9jupu8B",
        "outputId": "fd1a1254-cb61-4eab-c1a4-0ca254fa258c"
      },
      "outputs": [
        {
          "name": "stdout",
          "output_type": "stream",
          "text": [
            "4\n"
          ]
        }
      ],
      "source": [
        "print(25%7)\n",
        "#%, mod, sisa pembagian 7*3 = 21 , 25 %7 "
      ]
    },
    {
      "cell_type": "code",
      "execution_count": null,
      "metadata": {
        "colab": {
          "base_uri": "https://localhost:8080/"
        },
        "id": "ydnhRpn3hwZl",
        "outputId": "7fa135f7-3591-4f03-961f-7019078eba93"
      },
      "outputs": [
        {
          "name": "stdout",
          "output_type": "stream",
          "text": [
            "1\n"
          ]
        }
      ],
      "source": [
        "print(8//5) # 1...."
      ]
    },
    {
      "cell_type": "code",
      "execution_count": null,
      "metadata": {
        "colab": {
          "base_uri": "https://localhost:8080/"
        },
        "id": "oRSlOxChh3a0",
        "outputId": "4747a9fb-0a48-4ecc-f76c-8ee329242289"
      },
      "outputs": [
        {
          "name": "stdout",
          "output_type": "stream",
          "text": [
            "2\n"
          ]
        }
      ],
      "source": [
        "print(5//2) #2.5"
      ]
    },
    {
      "cell_type": "code",
      "execution_count": null,
      "metadata": {
        "colab": {
          "base_uri": "https://localhost:8080/"
        },
        "id": "QLrdFHXqiBOd",
        "outputId": "a7088c89-9c57-4640-a7a0-cb2a06bc1a82"
      },
      "outputs": [
        {
          "data": {
            "text/plain": [
              "7"
            ]
          },
          "execution_count": 27,
          "metadata": {},
          "output_type": "execute_result"
        }
      ],
      "source": [
        "8 - 3 + 2"
      ]
    },
    {
      "cell_type": "code",
      "execution_count": null,
      "metadata": {
        "colab": {
          "base_uri": "https://localhost:8080/"
        },
        "id": "dqvG25ZniDew",
        "outputId": "6149e3d1-4fb3-4134-a827-85beb273dda1"
      },
      "outputs": [
        {
          "data": {
            "text/plain": [
              "3.3333333333333335"
            ]
          },
          "execution_count": 28,
          "metadata": {},
          "output_type": "execute_result"
        }
      ],
      "source": [
        "6 * 5 / 9"
      ]
    },
    {
      "cell_type": "code",
      "execution_count": null,
      "metadata": {
        "colab": {
          "base_uri": "https://localhost:8080/"
        },
        "id": "-i72yrdIpxMO",
        "outputId": "b7db4e98-98a3-4f1f-cca0-5fca8cfffac4"
      },
      "outputs": [
        {
          "name": "stdout",
          "output_type": "stream",
          "text": [
            "4\n",
            "2\n",
            "6\n",
            "2\n"
          ]
        }
      ],
      "source": [
        "print(max(2,3,4))\n",
        "print(min(2,3,4))\n",
        "print(round(5.6))\n",
        "print(round(1.5))"
      ]
    },
    {
      "cell_type": "markdown",
      "metadata": {
        "id": "7Lnw02WBn4s8"
      },
      "source": [
        "###String"
      ]
    },
    {
      "cell_type": "code",
      "execution_count": null,
      "metadata": {
        "colab": {
          "base_uri": "https://localhost:8080/"
        },
        "id": "TgoecRXpCr22",
        "outputId": "63557861-15c9-4818-845c-7bfd869b8fce"
      },
      "outputs": [
        {
          "name": "stdout",
          "output_type": "stream",
          "text": [
            "Hello World\n",
            "Welcome to Python\n"
          ]
        }
      ],
      "source": [
        "print(\"Hello World\")\n",
        "print(\"Welcome to Python\")"
      ]
    },
    {
      "cell_type": "code",
      "execution_count": null,
      "metadata": {
        "colab": {
          "base_uri": "https://localhost:8080/"
        },
        "id": "_2OP3xNwZ8nc",
        "outputId": "231f0450-e376-4d94-eb6c-2fad86f1f254"
      },
      "outputs": [
        {
          "name": "stdout",
          "output_type": "stream",
          "text": [
            "Hello world \n",
            "Welcome to python\n"
          ]
        }
      ],
      "source": [
        "teks = \"\"\"Hello world \\nWelcome to python\"\"\"\n",
        "print(teks)"
      ]
    },
    {
      "cell_type": "code",
      "execution_count": null,
      "metadata": {
        "colab": {
          "base_uri": "https://localhost:8080/"
        },
        "id": "H8vE7eIgaPhH",
        "outputId": "ed32f8c8-68e5-46bc-e176-80fb07120de7"
      },
      "outputs": [
        {
          "name": "stdout",
          "output_type": "stream",
          "text": [
            "Saya \t tab kamu \n",
            "kamu \t dia\n"
          ]
        }
      ],
      "source": [
        "teks1 = \"\"\"Saya \\t tab kamu \\nkamu \\t dia\"\"\"\n",
        "print(teks1)"
      ]
    },
    {
      "cell_type": "code",
      "execution_count": null,
      "metadata": {
        "colab": {
          "base_uri": "https://localhost:8080/"
        },
        "id": "JSj1z6ULyY5a",
        "outputId": "e73aeceb-523e-45fc-af8e-d32a113b18f0"
      },
      "outputs": [
        {
          "name": "stdout",
          "output_type": "stream",
          "text": [
            "this is a long string that is made up of several lines and non-printable characters such as TAB ( \t ) and they will show up that way when displayed. NEWLINEs within the string, whether explicitly given like this within the brackets [ \n",
            " ], or just a NEWLINE within the variable assignment will also show up.\n",
            "\n"
          ]
        }
      ],
      "source": [
        "kutipantiga = \"\"\"this is a long string that is made up of several lines and non-printable characters such as TAB ( \\t ) and they will show up that way when displayed. NEWLINEs within the string, whether explicitly given like this within the brackets [ \\n ], or just a NEWLINE within the variable assignment will also show up.\n",
        "\"\"\"\n",
        "print(kutipantiga)"
      ]
    },
    {
      "cell_type": "code",
      "execution_count": null,
      "metadata": {
        "colab": {
          "base_uri": "https://localhost:8080/"
        },
        "id": "n2MBffo4Crre",
        "outputId": "4ef4c591-949d-4d0a-ea77-6df5f39e3749"
      },
      "outputs": [
        {
          "name": "stdout",
          "output_type": "stream",
          "text": [
            "Nama aku Toni\n",
            "Umur saya 120\n",
            "Toni adalah namaku.\n",
            "Toni namaku.\n"
          ]
        }
      ],
      "source": [
        "nama = \"Toni\"\n",
        "umur = 120\n",
        "print(\"Nama aku \" + nama)\n",
        "print(\"Umur saya \" + str(umur))\n",
        "print(nama + \" adalah namaku.\")\n",
        "print(nama + \" namaku.\")"
      ]
    },
    {
      "cell_type": "code",
      "execution_count": null,
      "metadata": {
        "colab": {
          "base_uri": "https://localhost:8080/"
        },
        "id": "JI1mZRL1Crah",
        "outputId": "da89e65d-fc95-4fd6-88cd-b74a34e3a5d8"
      },
      "outputs": [
        {
          "name": "stdout",
          "output_type": "stream",
          "text": [
            "Nama aku Toni\n",
            "Umur saya 120\n",
            "Bella adalah namaku.\n",
            "Bella namaku.\n",
            "808\n"
          ]
        }
      ],
      "source": [
        "nama = \"Toni\"\n",
        "umur = 120\n",
        "print(\"Nama aku \" + nama)\n",
        "print(\"Umur saya \" + str(umur)) # int di ubah ke str\n",
        "nama = \"Bella\"\n",
        "print(nama + \" adalah namaku.\")\n",
        "print(nama + \" namaku.\")\n",
        "print(int('807') + 1) # string di ubah ke int"
      ]
    },
    {
      "cell_type": "code",
      "execution_count": null,
      "metadata": {
        "colab": {
          "base_uri": "https://localhost:8080/"
        },
        "id": "jqWkLzmqCrPU",
        "outputId": "36c5a0c4-3f02-47dd-d94d-5469e9cf91b9"
      },
      "outputs": [
        {
          "name": "stdout",
          "output_type": "stream",
          "text": [
            "BELLA\n",
            "bella\n",
            "True\n",
            "False\n",
            "5\n",
            "ELL\n",
            "LL\n",
            "L\n",
            "1\n"
          ]
        }
      ],
      "source": [
        "name = \"BELLA\"\n",
        "#       01234\n",
        "print(name.upper())\n",
        "print(name.lower())\n",
        "print(name.isupper())\n",
        "print(name.islower())\n",
        "print(len(name))\n",
        "print(name[1:4])\n",
        "print(name[2:4])\n",
        "print(name[-3])\n",
        "#index selalu mulai dari 0\n",
        "print(name.index(\"E\"))"
      ]
    },
    {
      "cell_type": "code",
      "execution_count": null,
      "metadata": {
        "id": "m15dWMU8ltHo"
      },
      "outputs": [],
      "source": [
        "a = 10\n",
        "b = 13"
      ]
    },
    {
      "cell_type": "code",
      "execution_count": null,
      "metadata": {
        "id": "NXlExX8blzFS"
      },
      "outputs": [],
      "source": [
        "temp = a"
      ]
    },
    {
      "cell_type": "code",
      "execution_count": null,
      "metadata": {
        "id": "xZKkFVXol3wo"
      },
      "outputs": [],
      "source": [
        "a = b"
      ]
    },
    {
      "cell_type": "code",
      "execution_count": null,
      "metadata": {
        "id": "RmBg5_s0l6tM"
      },
      "outputs": [],
      "source": [
        "b = temp"
      ]
    },
    {
      "cell_type": "code",
      "execution_count": null,
      "metadata": {
        "colab": {
          "base_uri": "https://localhost:8080/"
        },
        "id": "_BEwKYKcmAGg",
        "outputId": "35ef0741-c585-4e9e-d561-504c5a6fdc93"
      },
      "outputs": [
        {
          "name": "stdout",
          "output_type": "stream",
          "text": [
            "13 10\n"
          ]
        }
      ],
      "source": [
        "print(a,b)"
      ]
    },
    {
      "cell_type": "markdown",
      "metadata": {
        "id": "AgHcH2jbqdlN"
      },
      "source": [
        "###Functions"
      ]
    },
    {
      "cell_type": "code",
      "execution_count": 2,
      "metadata": {
        "colab": {
          "base_uri": "https://localhost:8080/"
        },
        "id": "PO2ws_BC2Ltb",
        "outputId": "e028689f-63c9-445c-f433-e11f954febf8"
      },
      "outputs": [
        {
          "output_type": "stream",
          "name": "stdout",
          "text": [
            "Perkenalkan saya Alvin dari Jawa Timur\n",
            "Perkenalkan saya Stevani dari Jawa Tengah\n"
          ]
        }
      ],
      "source": [
        "def perkenalan (nama, asal):\n",
        "          print(f\"Perkenalkan saya {nama} dari {asal}\")\n",
        "\n",
        "perkenalan(\"Alvin\", \"Jawa Timur\")\n",
        "perkenalan(\"Stevani\", \"Jawa Tengah\")"
      ]
    },
    {
      "cell_type": "code",
      "execution_count": 3,
      "metadata": {
        "colab": {
          "base_uri": "https://localhost:8080/"
        },
        "id": "8-SR9RbFqpD6",
        "outputId": "24672e77-f7ab-4848-83a4-5d8ad973dc69"
      },
      "outputs": [
        {
          "output_type": "stream",
          "name": "stdout",
          "text": [
            "Luas segitiga = 9.0\n",
            "Luas segitiga = 36.0\n"
          ]
        }
      ],
      "source": [
        "def luasSegitiga (alas, tinggi):\n",
        "    luas = (alas * tinggi)/2\n",
        "    print(\"Luas segitiga =\",luas)\n",
        "\n",
        "luasSegitiga(3,6)\n",
        "luasSegitiga(9,8)\n"
      ]
    },
    {
      "cell_type": "code",
      "execution_count": 4,
      "metadata": {
        "colab": {
          "base_uri": "https://localhost:8080/"
        },
        "id": "0PEVRiCHs736",
        "outputId": "7efda938-4727-4a8b-c6f4-a56fd9a2ac20"
      },
      "outputs": [
        {
          "output_type": "stream",
          "name": "stdout",
          "text": [
            "Volume balok = 18000\n"
          ]
        }
      ],
      "source": [
        "#Excercise\n",
        "#Buatlah sebuah fungsi untuk menghitung volume balok \n",
        "def volumeBalok(p,l,t):\n",
        "  #rumus\n",
        "  Volume = p * l *t\n",
        "  #cetak hasil\n",
        "  print(\"Volume balok =\", Volume)\n",
        "\n",
        "#panggil fungsi volume balok\n",
        "volumeBalok(500, 12, 3)\n"
      ]
    },
    {
      "cell_type": "code",
      "execution_count": 5,
      "metadata": {
        "colab": {
          "base_uri": "https://localhost:8080/"
        },
        "id": "ck46a0GecvAd",
        "outputId": "af092af2-18b3-4b15-df39-260b57d9ef9b"
      },
      "outputs": [
        {
          "output_type": "execute_result",
          "data": {
            "text/plain": [
              "3.5999999999999996"
            ]
          },
          "metadata": {},
          "execution_count": 5
        }
      ],
      "source": [
        "#excercise\n",
        "#Buatlah sebuah fungsi untuk menghitung luas jajargenjang \n",
        "def luasJajargenjang (a,t):\n",
        "  ljajargenjang = a*t \n",
        "  return ljajargenjang\n",
        "\n",
        "luasJajargenjang(1.2, 3)"
      ]
    },
    {
      "cell_type": "code",
      "execution_count": null,
      "metadata": {
        "colab": {
          "base_uri": "https://localhost:8080/"
        },
        "id": "HqyoyBZekj0k",
        "outputId": "07483758-faae-410b-f256-c5d4e47b3238"
      },
      "outputs": [
        {
          "name": "stdout",
          "output_type": "stream",
          "text": [
            "Luas lingkaran = 314.159\n"
          ]
        }
      ],
      "source": [
        "#membuat fungsi lias lingkaran\n",
        "def circleArea (radius) : \n",
        "  pi = 3.14159\n",
        "  area = pi *(radius**2)\n",
        "  print(\"Luas lingkaran =\",area)\n",
        "circleArea(10)"
      ]
    },
    {
      "cell_type": "markdown",
      "metadata": {
        "id": "63phBgpWsk-X"
      },
      "source": [
        "####Percabangan"
      ]
    },
    {
      "cell_type": "code",
      "execution_count": null,
      "metadata": {
        "colab": {
          "base_uri": "https://localhost:8080/"
        },
        "id": "1cdOURBPyh8I",
        "outputId": "4a7a1abd-973b-4752-fcf9-3bcee6ef3d56"
      },
      "outputs": [
        {
          "name": "stdout",
          "output_type": "stream",
          "text": [
            "2\n"
          ]
        }
      ],
      "source": [
        "i = 2\n",
        "if i ==1:\n",
        "    print(1)\n",
        "elif i == 2:\n",
        "    print(2)\n",
        "else :\n",
        "    print(\"Not 1 and 2\")\n"
      ]
    },
    {
      "cell_type": "markdown",
      "metadata": {
        "id": "qgXwWDcCutnT"
      },
      "source": [
        "###List"
      ]
    },
    {
      "cell_type": "code",
      "execution_count": null,
      "metadata": {
        "colab": {
          "base_uri": "https://localhost:8080/"
        },
        "id": "j5g2b5WHzSz0",
        "outputId": "ef277353-f357-48b4-a3dd-ef0c1edc25b9"
      },
      "outputs": [
        {
          "name": "stdout",
          "output_type": "stream",
          "text": [
            "['A', 'B', 'C']\n",
            "A\n",
            "C\n",
            "['B', 'C']\n",
            "['A', 'B']\n",
            "['B', 'C']\n"
          ]
        }
      ],
      "source": [
        "friends = [\"A\", \"B\", \"C\"]\n",
        "print(friends)            #[\"A\", \"B\", \"C\"]\n",
        "print(friends[0])         #A\n",
        "print(friends[-1])        #C\n",
        "print(friends[1:])        #[\"B\", \"C\"]\n",
        "print(friends[0:2])       #[\"A\", \"B\"]\n",
        "print(friends[1:])"
      ]
    },
    {
      "cell_type": "code",
      "execution_count": null,
      "metadata": {
        "id": "45GA_L7l0UXU"
      },
      "outputs": [],
      "source": [
        "X = [\"A\", \"B\", \"C\"]\n",
        "Y = [1, 2, 3]\n",
        "# X.extend(Y)\n",
        "# print(X)            "
      ]
    },
    {
      "cell_type": "code",
      "execution_count": null,
      "metadata": {
        "colab": {
          "base_uri": "https://localhost:8080/"
        },
        "id": "bwOiCDg9F2V3",
        "outputId": "3175c282-f3bf-43ac-e865-1b6f25940c0c"
      },
      "outputs": [
        {
          "name": "stdout",
          "output_type": "stream",
          "text": [
            "['A', 'B', 'C', 'D']\n"
          ]
        }
      ],
      "source": [
        "X.append(\"D\")    \n",
        "print(X)         "
      ]
    },
    {
      "cell_type": "code",
      "execution_count": null,
      "metadata": {
        "colab": {
          "base_uri": "https://localhost:8080/"
        },
        "id": "ycpwLObPF5Af",
        "outputId": "d39203b4-7d5e-4a7f-e30e-58c7f3e3fb04"
      },
      "outputs": [
        {
          "name": "stdout",
          "output_type": "stream",
          "text": [
            "['A', 'D', 'B', 'C', 'D']\n"
          ]
        }
      ],
      "source": [
        "X.insert(1, \"D\")\n",
        "print(X)    "
      ]
    },
    {
      "cell_type": "code",
      "execution_count": null,
      "metadata": {
        "colab": {
          "base_uri": "https://localhost:8080/"
        },
        "id": "5ieYSVGHF5rW",
        "outputId": "9bebfcf4-c8a9-466c-e09b-39b93cdcd656"
      },
      "outputs": [
        {
          "name": "stdout",
          "output_type": "stream",
          "text": [
            "[]\n"
          ]
        }
      ],
      "source": [
        "X.clear()\n",
        "print(X)            \n"
      ]
    },
    {
      "cell_type": "code",
      "execution_count": null,
      "metadata": {
        "id": "THmNqun_0Q1N"
      },
      "outputs": [],
      "source": [
        "X = [\"A\", \"B\", \"C\"]\n",
        "Y = [1, 2, 3]\n",
        "# X.pop()\n",
        "# print(X)              "
      ]
    },
    {
      "cell_type": "code",
      "execution_count": null,
      "metadata": {
        "colab": {
          "base_uri": "https://localhost:8080/"
        },
        "id": "rhBAwr29ef2t",
        "outputId": "0e56143a-3555-42df-e936-cd65eddfd687"
      },
      "outputs": [
        {
          "name": "stdout",
          "output_type": "stream",
          "text": [
            "['A', 'B']\n"
          ]
        }
      ],
      "source": [
        "X.pop()\n",
        "print(X) "
      ]
    },
    {
      "cell_type": "code",
      "execution_count": null,
      "metadata": {
        "colab": {
          "base_uri": "https://localhost:8080/"
        },
        "id": "FHyK3Qs9GrfB",
        "outputId": "284f3a22-0e0b-4862-9384-5ab68cf0e3a4"
      },
      "outputs": [
        {
          "name": "stdout",
          "output_type": "stream",
          "text": [
            "['A', 'B']\n"
          ]
        }
      ],
      "source": [
        "X.index(\"B\")           \n",
        "print(X)"
      ]
    },
    {
      "cell_type": "code",
      "execution_count": null,
      "metadata": {
        "colab": {
          "base_uri": "https://localhost:8080/"
        },
        "id": "4hL5ncxBGyXX",
        "outputId": "b35fd5ad-f4ae-4fef-8aa0-33f88c65ff80"
      },
      "outputs": [
        {
          "name": "stdout",
          "output_type": "stream",
          "text": [
            "['A', 'B']\n"
          ]
        }
      ],
      "source": [
        "X.count(\"B\")           \n",
        "print(X)"
      ]
    },
    {
      "cell_type": "code",
      "execution_count": null,
      "metadata": {
        "colab": {
          "base_uri": "https://localhost:8080/"
        },
        "id": "79LpVrMfG2Cw",
        "outputId": "6d43920b-f0b9-475d-80fb-704db3e5458d"
      },
      "outputs": [
        {
          "name": "stdout",
          "output_type": "stream",
          "text": [
            "['A', 'B']\n"
          ]
        }
      ],
      "source": [
        "X.sort()\n",
        "print(X)"
      ]
    },
    {
      "cell_type": "code",
      "execution_count": null,
      "metadata": {
        "colab": {
          "base_uri": "https://localhost:8080/"
        },
        "id": "34dKYNiiG31m",
        "outputId": "9e5646c6-df6f-4579-d648-88372e87a214"
      },
      "outputs": [
        {
          "name": "stdout",
          "output_type": "stream",
          "text": [
            "['B', 'A']\n"
          ]
        }
      ],
      "source": [
        "X.reverse()     \n",
        "print(X)       "
      ]
    },
    {
      "cell_type": "code",
      "execution_count": null,
      "metadata": {
        "colab": {
          "base_uri": "https://localhost:8080/"
        },
        "id": "RvSJ4BFPG5ub",
        "outputId": "ce504ef5-0a73-432b-f5e0-adfc20f5a8af"
      },
      "outputs": [
        {
          "name": "stdout",
          "output_type": "stream",
          "text": [
            "['B', 'A']\n"
          ]
        }
      ],
      "source": [
        "X2 = X.copy()\n",
        "print(X2)\n"
      ]
    },
    {
      "cell_type": "markdown",
      "metadata": {
        "id": "SQ5jwvE3u7hx"
      },
      "source": [
        "###Dictionary"
      ]
    },
    {
      "cell_type": "code",
      "execution_count": null,
      "metadata": {
        "colab": {
          "base_uri": "https://localhost:8080/"
        },
        "id": "eT_nymHUt0NI",
        "outputId": "158f6804-4b71-4e58-9746-092f403f2da1"
      },
      "outputs": [
        {
          "name": "stdout",
          "output_type": "stream",
          "text": [
            "Divisi dengan kode 71: IT\n",
            "Divisi dengan kode 62: Marketing\n"
          ]
        }
      ],
      "source": [
        "# mendefinisikan dictionary\n",
        "id_divisi = {\n",
        "    71 : 'IT',\n",
        "    82 : 'Finance',\n",
        "    91 : 'Data',\n",
        "    62 : 'Marketing'\n",
        "}\n",
        "\n",
        "# mengakses data menggunakan key\n",
        "print(\"Divisi dengan kode 71:\", id_divisi[71])\n",
        "print(\"Divisi dengan kode 62:\", id_divisi[62])"
      ]
    },
    {
      "cell_type": "code",
      "execution_count": null,
      "metadata": {
        "colab": {
          "base_uri": "https://localhost:8080/",
          "height": 35
        },
        "id": "J8hdLRWjyMw7",
        "outputId": "dd87dcac-3ba0-4a6b-d510-c4fa6240caf2"
      },
      "outputs": [
        {
          "data": {
            "application/vnd.google.colaboratory.intrinsic+json": {
              "type": "string"
            },
            "text/plain": [
              "'Sunday'"
            ]
          },
          "execution_count": 61,
          "metadata": {},
          "output_type": "execute_result"
        }
      ],
      "source": [
        "days_in_a_week = {\n",
        "        \"Mon\": \"Monday\",\n",
        "        \"Tue\": \"Tuesday\",\n",
        "        \"Wed\": \"Wednesday\",\n",
        "        \"Thu\": \"Thursday\",\n",
        "        \"Fri\": \"Friday\",\n",
        "        \"Sat\": \"Saturday\",\n",
        "        \"Sun\": \"Sunday\"\n",
        "    }\n",
        "days_in_a_week[\"Mon\"]            \n",
        "days_in_a_week[\"Sun\"]\n"
      ]
    },
    {
      "cell_type": "markdown",
      "metadata": {
        "id": "O37RTRQSt6W3"
      },
      "source": [
        "###Pengulangan "
      ]
    },
    {
      "cell_type": "code",
      "execution_count": null,
      "metadata": {
        "colab": {
          "base_uri": "https://localhost:8080/"
        },
        "id": "U_h6hJCtxbwG",
        "outputId": "5ef6abf7-0a81-4a9a-9dde-e1ff9f097d86"
      },
      "outputs": [
        {
          "name": "stdout",
          "output_type": "stream",
          "text": [
            "1\n",
            "2\n",
            "3\n",
            "4\n",
            "5\n"
          ]
        }
      ],
      "source": [
        "#for loops\n",
        "angka = [1,2,3,4,5]\n",
        "for x in angka:\n",
        "    print(x)\n"
      ]
    },
    {
      "cell_type": "code",
      "execution_count": null,
      "metadata": {
        "colab": {
          "base_uri": "https://localhost:8080/"
        },
        "id": "mOTWr4k_xz7-",
        "outputId": "a876d551-fb3e-4eb5-c050-b4b687b13352"
      },
      "outputs": [
        {
          "name": "stdout",
          "output_type": "stream",
          "text": [
            "Saya suka makan nanas\n",
            "Saya suka makan apel\n",
            "Saya suka makan jeruk\n",
            "Saya suka makan mangga\n",
            "Saya suka makan kiwi\n",
            "Saya suka makan alpukat\n"
          ]
        }
      ],
      "source": [
        "#for loops\n",
        "buah = [\"nanas\", \"apel\", \"jeruk\", \"mangga\", \"kiwi\", \"alpukat\"]\n",
        "for makanan in buah:\n",
        "    print (\"Saya suka makan\", makanan)\n"
      ]
    },
    {
      "cell_type": "code",
      "execution_count": null,
      "metadata": {
        "colab": {
          "base_uri": "https://localhost:8080/"
        },
        "id": "qRcrfQGDx-2x",
        "outputId": "2a11a593-13b0-4b20-cd60-8b9601fbd44d"
      },
      "outputs": [
        {
          "name": "stdout",
          "output_type": "stream",
          "text": [
            "The count is:  0\n",
            "The count is:  1\n",
            "The count is:  2\n",
            "The count is:  3\n",
            "The count is:  4\n",
            "The count is:  5\n",
            "The count is:  6\n",
            "The count is:  7\n",
            "The count is:  8\n",
            "The count is:  9\n",
            "Good bye!\n"
          ]
        }
      ],
      "source": [
        "#while loops\n",
        "count = 0\n",
        "while (count <= 9):\n",
        "    print (\"The count is: \", count)\n",
        "    count = count + 1\n",
        "\n",
        "print (\"Good bye!\")\n"
      ]
    },
    {
      "cell_type": "code",
      "execution_count": 1,
      "metadata": {
        "colab": {
          "base_uri": "https://localhost:8080/"
        },
        "id": "0qX-KKMpyFXo",
        "outputId": "5d7ea4df-ce21-4c06-b6a8-d50d06cf54aa"
      },
      "outputs": [
        {
          "output_type": "stream",
          "name": "stdout",
          "text": [
            "2  is prime\n",
            "3  is prime\n",
            "5  is prime\n",
            "7  is prime\n",
            "11  is prime\n",
            "13  is prime\n",
            "17  is prime\n",
            "19  is prime\n",
            "23  is prime\n",
            "29  is prime\n",
            "31  is prime\n",
            "37  is prime\n",
            "41  is prime\n",
            "43  is prime\n",
            "47  is prime\n",
            "53  is prime\n",
            "59  is prime\n",
            "61  is prime\n",
            "67  is prime\n",
            "71  is prime\n",
            "73  is prime\n",
            "79  is prime\n",
            "83  is prime\n",
            "89  is prime\n",
            "97  is prime\n",
            "Good bye!\n"
          ]
        }
      ],
      "source": [
        "#Nested Loops\n",
        "i = 2\n",
        "while(i < 100):\n",
        "    j = 2\n",
        "    while(j <= (i/j)):\n",
        "        if not(i%j): break\n",
        "        j = j + 1\n",
        "    if (j > i/j) : print(i, \" is prime\")\n",
        "    i = i + 1\n",
        "\n",
        "print(\"Good bye!\")\n"
      ]
    },
    {
      "cell_type": "markdown",
      "metadata": {
        "id": "hcAeS9SAz4K2"
      },
      "source": [
        "###Kaggle"
      ]
    },
    {
      "cell_type": "code",
      "execution_count": null,
      "metadata": {
        "colab": {
          "base_uri": "https://localhost:8080/"
        },
        "id": "R00qNAZihDzA",
        "outputId": "952ecb56-90e4-4d91-e3b3-1f16304fad41"
      },
      "outputs": [
        {
          "name": "stdout",
          "output_type": "stream",
          "text": [
            "0\n",
            "\n"
          ]
        }
      ],
      "source": [
        "spam_amount = 0\n",
        "print(spam_amount)\n",
        "\n",
        "# Ordering Spam, egg, Spam, Spam, bacon and Spam (4 more servings of Spam)\n",
        "#spam_amount += 4=\n",
        "\n",
        "if spam_amount > 0:\n",
        "    print(\"But I don't want ANY spam!\")\n",
        "\n",
        "viking_song = \"Spam \" * spam_amount\n",
        "print(viking_song)"
      ]
    },
    {
      "cell_type": "code",
      "execution_count": null,
      "metadata": {
        "colab": {
          "base_uri": "https://localhost:8080/"
        },
        "id": "FTLQio28iNh6",
        "outputId": "de2c9bca-47a5-4055-c9b2-8b4526417e53"
      },
      "outputs": [
        {
          "name": "stdout",
          "output_type": "stream",
          "text": [
            "Height in meters = 2.15 ?\n"
          ]
        }
      ],
      "source": [
        "hat_height_cm = 25\n",
        "my_height_cm = 190\n",
        "# How tall am I, in meters, when wearing my hat?\n",
        "total_height_meters = (hat_height_cm + my_height_cm)/ 100\n",
        "print(\"Height in meters =\", total_height_meters, \"?\")"
      ]
    },
    {
      "cell_type": "code",
      "execution_count": null,
      "metadata": {
        "colab": {
          "base_uri": "https://localhost:8080/"
        },
        "id": "DfbVlopFibY-",
        "outputId": "2dc85344-4f65-42e6-8c21-975945f0fb41"
      },
      "outputs": [
        {
          "name": "stdout",
          "output_type": "stream",
          "text": [
            "Tinggi total dalam meter = 2.15\n"
          ]
        }
      ],
      "source": [
        "#ubah code diatas menjadi sebuah function untuk menghitung tinggi dalam meter\n",
        "def totalHeightMeter (tinggi, topi):\n",
        "  tinggiTotalM = (tinggi + topi)/100\n",
        "  print(\"Tinggi total dalam meter =\",tinggiTotalM)\n",
        "\n",
        "totalHeightMeter(190,25)"
      ]
    },
    {
      "cell_type": "markdown",
      "metadata": {
        "id": "sxhpzjurYY6R"
      },
      "source": [
        "###Excercise "
      ]
    },
    {
      "cell_type": "code",
      "execution_count": null,
      "metadata": {
        "id": "Rs9dYKL11Io6",
        "colab": {
          "base_uri": "https://localhost:8080/"
        },
        "outputId": "6cc9538c-2fe1-4bf5-bd6e-f668b6e04890"
      },
      "outputs": [
        {
          "output_type": "stream",
          "name": "stdout",
          "text": [
            "Masukkan x: 7\n",
            "x adalah bilangan ganjil\n"
          ]
        }
      ],
      "source": [
        "#Buat program untuk menghitung jumlah seluruh angka ganjil dalam suatu list\n",
        "# Input: list berisi angka-angka\n",
        "# Output: jumlah seluruh angka ganjil \n",
        "\n",
        "x = int(input('Masukkan x: '))\n",
        "print('x adalah bilangan', 'genap' if (x % 2 == 0) else 'ganjil')\n",
        "\n"
      ]
    },
    {
      "cell_type": "code",
      "source": [
        "print('Masukkan nilai awal dan nilai akhir')\n",
        "\n",
        "nilai_awal = int(input(' nilai awal: '))\n",
        "nilai_akhir = int(input(' nilai akhir: '))\n",
        "\n",
        "print(\"\"\"\\nTampilkan bilangan\n",
        " 1. Ganjil\n",
        " 2. Genap\"\"\")\n",
        "\n",
        "pilihan = int(input('Pilihan: '))\n",
        "\n",
        "# periksa kalau pilihan bukan 1 dan 2\n",
        "if pilihan not in [1, 2]:\n",
        "  print('Pilihan salah')\n",
        "else:\n",
        "  for x in range(nilai_awal, nilai_akhir + 1):\n",
        "    if pilihan == 1 and x % 2 == 1:\n",
        "      print(x, end=' ')\n",
        "    elif pilihan == 2 and x % 2 == 0:\n",
        "      print(x, end=' ')\n",
        "  else:\n",
        "    # ganti baris ketika perulangan selesai\n",
        "    print('')"
      ],
      "metadata": {
        "colab": {
          "base_uri": "https://localhost:8080/"
        },
        "id": "VfK6eT1VXRrt",
        "outputId": "a2750b3a-b30e-41ed-ca70-a2b99a89e5cf"
      },
      "execution_count": null,
      "outputs": [
        {
          "output_type": "stream",
          "name": "stdout",
          "text": [
            "Masukkan nilai awal dan nilai akhir\n",
            " nilai awal: 1\n",
            " nilai akhir: 20\n",
            "\n",
            "Tampilkan bilangan\n",
            " 1. Ganjil\n",
            " 2. Genap\n",
            "Pilihan: 1\n",
            "1 3 5 7 9 11 13 15 17 19 \n"
          ]
        }
      ]
    },
    {
      "cell_type": "code",
      "execution_count": null,
      "metadata": {
        "id": "kS974OYN1vfN"
      },
      "outputs": [],
      "source": [
        "#Diberikan input suatu angka, tampilkan formasi piramida bintang dengan tinggi sesuai dengan angka yang diinputkan\n",
        "# Input: suatu angka (n)\n",
        "# Output: piramida dengan tinggi n\n",
        "\n",
        "#    *\n",
        "#   ***\n",
        "#  *****  contoh output untuk n = 5\n",
        "# *******\n",
        "#*********\n",
        "\n",
        "string = \"\"\n",
        "\n",
        "x = int(input(\"Masukkan angka :\"))\n",
        "bar = x\n",
        "# Looping Baris\n",
        "while bar >= 0:\n",
        "\t# Looping Kolom Spasi Kosong\n",
        "\tkol = bar\n",
        "\twhile kol > 0:\n",
        "\t\tstring = string + \"   \"\n",
        "\t\tkol = kol - 1\n",
        "\t# Looping Kolom Bintang Sisi Kiri\t\n",
        "\tkiri = 1\n",
        "\twhile kiri < (x - (bar-1)):\n",
        "\t\tstring = string + \" * \"\n",
        "\t\tkiri = kiri + 1\t\t\n",
        "\t# Looping Kolom Bintang Sisi Kanan\n",
        "\tkanan = 1\n",
        "\twhile kanan < kiri -1:\n",
        "\t\tstring = string + \" * \"\n",
        "\t\tkanan = kanan + 1\t\n",
        "\n",
        "\tstring = string + \"\\n\\n\"\n",
        "\tbar = bar - 1\n",
        "\t\n",
        "print (string)"
      ]
    },
    {
      "cell_type": "code",
      "source": [
        "#Diberikan input suatu angka, tampilkan formasi piramida bintang dengan tinggi sesuai dengan angka yang diinputkan\n",
        "# Input: suatu angka (n)\n",
        "# Output: piramida dengan tinggi n\n",
        "\n",
        "#*********\n",
        "# *******\n",
        "#  *****  contoh output untuk n = 5\n",
        "#   ***\n",
        "#    *\n",
        "\n",
        "string = \"\"\n",
        "bar = 1\n",
        "\n",
        "x = int(input(\"Masukkan angka :\"))\n",
        "print (\"\\n\")\n",
        "# Looping Baris\n",
        "while bar <= x:\n",
        "\tkol = bar\n",
        "\t# Looping Kolom Spasi Kosong\n",
        "\twhile kol > 1:\n",
        "\t\tstring = string + \"   \"\n",
        "\t\tkol = kol - 1\n",
        "\t# Looping Kolom Bintang Sisi Kiri\t\n",
        "\tkiri = 0\n",
        "\twhile kiri <= (x - bar):\n",
        "\t\tstring = string + \" * \"\n",
        "\t\tkiri = kiri + 1\t\n",
        "\t# Looping Kolom Bintang Sisi Kanan\n",
        "\tkanan = kiri\t\n",
        "\twhile kanan > 1:\n",
        "\t\tstring = string + \" * \"\n",
        "\t\tkanan = kanan - 1\n",
        "\n",
        "\tstring = string + \"\\n\\n\"\n",
        "\tbar = bar + 1\n",
        "print (string)"
      ],
      "metadata": {
        "id": "D8oZ0kcnho7D"
      },
      "execution_count": null,
      "outputs": []
    },
    {
      "cell_type": "code",
      "source": [
        "# Diberikan input suatu angka, tampilkan formasi Perataan Tengah (Belah Ketupat) bintang dengan tinggi sesuai dengan angka yang diinputkan\n",
        "# Input: suatu angka (n)\n",
        "# Output: piramida dengan tinggi n\n",
        "\n",
        "# Masukkan data :6\n",
        "                  \n",
        "#                * \n",
        "#             *  *  * \n",
        "#          *  *  *  *  * \n",
        "#       *  *  *  *  *  *  * \n",
        "#    *  *  *  *  *  *  *  *  * \n",
        "# *  *  *  *  *  *  *  *  *  *  * \n",
        "#    *  *  *  *  *  *  *  *  * \n",
        "#       *  *  *  *  *  *  * \n",
        "#          *  *  *  *  * \n",
        "#             *  *  * \n",
        "#                * \n",
        "\n",
        "string = \"\"\n",
        "\n",
        "x = int(input(\"Masukkan data :\"))\n",
        "bar = x\n",
        "# Looping Baris\n",
        "while bar >= 0:\n",
        "  # Looping Kolom Spasi Kosong\n",
        "  kol = bar\n",
        "  while kol > 0:\n",
        "    string = string + \"   \"\n",
        "    kol = kol - 1\n",
        "  \n",
        "  # Looping Kolom Bintang Sisi Kiri\n",
        "  kiri = 1\n",
        "  while kiri < (x -(bar-1)):\n",
        "    string = string + \" * \"\n",
        "    kiri = kiri + 1\n",
        "  \n",
        "  # Looping Kolom Bintang Sisi Kanan\n",
        "  kanan = 1\n",
        "  while kanan < kiri - 1:\n",
        "    string = string + \" * \"\n",
        "    kanan = kanan + 1\n",
        "\n",
        "  string = string + \"\\n\\n\"\n",
        "  bar = bar - 1\n",
        "\n",
        "bar = 1\n",
        "# Looping Baris\n",
        "while bar <= x:\n",
        "  kol = bar+1\n",
        "  # Looping Kolom Spasi Kosong\n",
        "  while kol > 1: \n",
        "    string = string + \"   \"\n",
        "    kol = kol - 1\n",
        "  # Looping Kolom Bintang Sisi Kiri\n",
        "  kiri = 0\n",
        "  while kiri < (x - bar):\n",
        "    string = string + \" * \"\n",
        "    kiri = kiri + 1\n",
        "  # Looping Kolom Bintang Sisi Kanan\n",
        "  kanan = kiri\n",
        "  while kanan > 1:\n",
        "    string = string + \" * \"\n",
        "    kanan = kanan - 1\n",
        "\n",
        "  string = string + \"\\n\\n\"\n",
        "  bar = bar + 1\n",
        "\n",
        "print (string) \n",
        "\n"
      ],
      "metadata": {
        "id": "CLKp0OGzuh4P"
      },
      "execution_count": null,
      "outputs": []
    },
    {
      "cell_type": "code",
      "source": [
        "# Diberikan input suatu angka, tampilkan formasi segitiga dengan perataan tengah atas bawah,  bintang dengan tinggi sesuai dengan angka yang diinputkan\n",
        "# Input: suatu angka (n)\n",
        "# Output: piramida dengan tinggi n\n",
        "\n",
        "#Masukkan angka :6\n",
        "\n",
        "# *  *  *  *  *  *  *  *  *  *  * \n",
        "#    *  *  *  *  *  *  *  *  * \n",
        "#       *  *  *  *  *  *  * \n",
        "#          *  *  *  *  * \n",
        "#             *  *  * \n",
        "#                * \n",
        "#             *  *  * \n",
        "#          *  *  *  *  * \n",
        "#       *  *  *  *  *  *  * \n",
        "#    *  *  *  *  *  *  *  *  * \n",
        "# *  *  *  *  *  *  *  *  *  *  * \n",
        "\n",
        "string = \"\"\n",
        "bar = 1\n",
        "\n",
        "x = int(input(\"Masukkan angka :\"))\n",
        "print (\"\\n\")\n",
        "# Looping Baris\n",
        "while bar < x:\n",
        "\t# Looping Kolom Spasi Kosong\n",
        "\tkol = bar\n",
        "\twhile kol > 1:\n",
        "\t\tstring = string + \"   \"\n",
        "\t\tkol = kol - 1\n",
        "\t# Looping Kolom Bintang Sisi Kiri\n",
        "\tkiri = 0\n",
        "\twhile kiri <= (x - bar):\n",
        "\t\tstring = string + \" * \"\n",
        "\t\tkiri = kiri + 1\t\n",
        "\t# Looping Kolom Bintang Sisi Kanan\n",
        "\tkanan = kiri\t\n",
        "\twhile kanan > 1:\n",
        "\t\tstring = string + \" * \"\n",
        "\t\tkanan = kanan - 1\n",
        "\n",
        "\tif (bar+1) <= x:\n",
        "\t\tstring = string + \"\\n\\n\"\n",
        "\tbar = bar + 1\n",
        "\n",
        "bar = x-1\t\n",
        "# Looping Baris\n",
        "while bar >= 0:\n",
        "\t# Looping Kolom Spasi Kosong\n",
        "\tkol = bar\n",
        "\twhile kol > 0:\n",
        "\t\tstring = string + \"   \"\n",
        "\t\tkol = kol - 1\n",
        "\t# Looping Kolom Bintang Sisi Kiri\t\n",
        "\tkiri = 1\n",
        "\twhile kiri < (x - (bar-1)):\n",
        "\t\tstring = string + \" * \"\n",
        "\t\tkiri = kiri + 1\t\t\n",
        "\t# Looping Kolom Bintang Sisi Kanan\n",
        "\tkanan = 1\n",
        "\twhile kanan < kiri -1:\n",
        "\t\tstring = string + \" * \"\n",
        "\t\tkanan = kanan + 1\t\n",
        "\n",
        "\tstring = string + \"\\n\\n\"\n",
        "\tbar = bar - 1\n",
        "print (string)"
      ],
      "metadata": {
        "colab": {
          "base_uri": "https://localhost:8080/"
        },
        "id": "h24ddXYC3_yM",
        "outputId": "2d274c4d-4bfa-487e-d8e5-3cafe0cc32ef"
      },
      "execution_count": null,
      "outputs": [
        {
          "output_type": "stream",
          "name": "stdout",
          "text": [
            "Masukkan angka :6\n",
            "\n",
            "\n",
            " *  *  *  *  *  *  *  *  *  *  * \n",
            "\n",
            "    *  *  *  *  *  *  *  *  * \n",
            "\n",
            "       *  *  *  *  *  *  * \n",
            "\n",
            "          *  *  *  *  * \n",
            "\n",
            "             *  *  * \n",
            "\n",
            "                * \n",
            "\n",
            "             *  *  * \n",
            "\n",
            "          *  *  *  *  * \n",
            "\n",
            "       *  *  *  *  *  *  * \n",
            "\n",
            "    *  *  *  *  *  *  *  *  * \n",
            "\n",
            " *  *  *  *  *  *  *  *  *  *  * \n",
            "\n",
            "\n"
          ]
        }
      ]
    },
    {
      "cell_type": "code",
      "source": [
        "# Diberikan input suatu angka, tampilkan formasi piramida bintang dengan tinggi sesuai dengan angka yang diinputkan\n",
        "# Input: suatu angka (n)\n",
        "# Output: piramida dengan tinggi n\n",
        "\n",
        "# Masukkan Angga :9\n",
        "# * \n",
        "# *  * \n",
        "# *  *  * \n",
        "# *  *  *  * \n",
        "# *  *  *  *  * \n",
        "# *  *  *  *  *  * \n",
        "# *  *  *  *  *  *  * \n",
        "# *  *  *  *  *  *  *  * \n",
        "# *  *  *  *  *  *  *  *  * \n",
        "\n",
        "string = \"\"\n",
        "bar = 1\n",
        "\n",
        "x = int(input(\"Masukkan Angga :\"))\n",
        "\n",
        "# Loop Baris\n",
        "while bar <= x:\n",
        "  kol = bar\n",
        "\n",
        "  # Loop Kolom\n",
        "  while kol > 0:\n",
        "    string = string + \" * \"\n",
        "    kol = kol - 1\n",
        "\n",
        "  string = string + \"\\n\"\n",
        "  bar = bar + 1\n",
        "\n",
        "print (string)"
      ],
      "metadata": {
        "id": "hp1X9-5Do_Lb"
      },
      "execution_count": null,
      "outputs": []
    },
    {
      "cell_type": "code",
      "source": [
        "# Diberikan input suatu angka, tampilkan formasi piramida bintang dengan tinggi sesuai dengan angka yang diinputkan\n",
        "# Input: suatu angka (n)\n",
        "# Output: piramida dengan tinggi n\n",
        "\n",
        "# Masukkan angka9\n",
        "# *  *  *  *  *  *  *  *  * \n",
        "# *  *  *  *  *  *  *  * \n",
        "# *  *  *  *  *  *  * \n",
        "# *  *  *  *  *  * \n",
        "# *  *  *  *  * \n",
        "# *  *  *  * \n",
        "# *  *  * \n",
        "# *  * \n",
        "# * \n",
        "\n",
        "string = \"\"\n",
        "bar = int (input(\"Masukkan angka\"))\n",
        "\n",
        "# Looping Baris\n",
        "while bar >= 0:\n",
        "  kol = bar\n",
        "\n",
        "  # Looping Kolom\n",
        "  while kol > 0:\n",
        "    string = string + \" * \"\n",
        "    kol = kol - 1\n",
        "\n",
        "  string = string + \"\\n\"\n",
        "  bar = bar - 1\n",
        "\n",
        "print (string)"
      ],
      "metadata": {
        "id": "aRf0ZhKkqJCD"
      },
      "execution_count": null,
      "outputs": []
    },
    {
      "cell_type": "code",
      "source": [
        "# Diberikan input suatu angka, tampilkan formasi piramida bintang dengan tinggi sesuai dengan angka yang diinputkan\n",
        "# Input: suatu angka (n)\n",
        "# Output: piramida dengan tinggi n\n",
        "\n",
        "# Masukkan angka : 9\n",
        "#                           \n",
        "#                         * \n",
        "#                      *  * \n",
        "#                   *  *  * \n",
        "#                *  *  *  * \n",
        "#             *  *  *  *  * \n",
        "#          *  *  *  *  *  * \n",
        "#       *  *  *  *  *  *  * \n",
        "#    *  *  *  *  *  *  *  * \n",
        "# *  *  *  *  *  *  *  *  * \n",
        "\n",
        "\n",
        "string = \"\"\n",
        "x = int (input(\"Masukkan angka : \"))\n",
        "bar = x\n",
        "# Looping Baris\n",
        "while bar >= 0:\n",
        "  # Looping Kolom Spasi Kosong\n",
        "  kol = bar\n",
        "  while kol > 0:\n",
        "    string = string + \"   \"\n",
        "    kol = kol - 1 \n",
        "  \n",
        "  # Looping Kolom Bintang\n",
        "  kanan = 1\n",
        "  while kanan < (x - (bar-1)):\n",
        "    string = string + \" * \"\n",
        "    kanan = kanan + 1\n",
        "  \n",
        "  string = string + \"\\n\"\n",
        "  bar = bar - 1\n",
        "\n",
        "print (string)"
      ],
      "metadata": {
        "id": "zxUHLatgrBB7"
      },
      "execution_count": null,
      "outputs": []
    },
    {
      "cell_type": "code",
      "source": [
        "# Diberikan input suatu angka, tampilkan formasi piramida bintang dengan tinggi sesuai dengan angka yang diinputkan\n",
        "# Input: suatu angka (n)\n",
        "# Output: piramida dengan tinggi n\n",
        "\n",
        "# Masukkan angka :9\n",
        "# *  *  *  *  *  *  *  *  * \n",
        "#    *  *  *  *  *  *  *  * \n",
        "#       *  *  *  *  *  *  * \n",
        "#          *  *  *  *  *  * \n",
        "#             *  *  *  *  * \n",
        "#                *  *  *  * \n",
        "#                   *  *  * \n",
        "#                      *  * \n",
        "#                         * \n",
        "\n",
        "string = \"\"\n",
        "bar = 1\n",
        "\n",
        "x = int(input(\"Masukkan angka :\"))\n",
        "\n",
        "# Looping Baris\n",
        "while bar <= x:\n",
        "  # Looping Kolom Spasi Kosong\n",
        "  kol = bar\n",
        "  while kol > 1:\n",
        "    string = string + \"   \"\n",
        "    kol = kol - 1\n",
        "\n",
        "  # Looping Kolom Bintang\n",
        "  kanan = 0\n",
        "  while kanan <= (x - bar):\n",
        "    string  = string + \" * \"\n",
        "    kanan = kanan + 1\n",
        "  \n",
        "  string = string + \"\\n\"\n",
        "  bar = bar + 1\n",
        "\n",
        "print (string)"
      ],
      "metadata": {
        "id": "HlIupOhes8Ql"
      },
      "execution_count": null,
      "outputs": []
    },
    {
      "cell_type": "code",
      "source": [
        ""
      ],
      "metadata": {
        "id": "w47EO9OXuWI7"
      },
      "execution_count": null,
      "outputs": []
    },
    {
      "cell_type": "markdown",
      "source": [
        ""
      ],
      "metadata": {
        "id": "Jo3BBFKZo-jW"
      }
    }
  ],
  "metadata": {
    "colab": {
      "collapsed_sections": [],
      "name": "python1_tipedata_operator_string.ipynb",
      "provenance": [],
      "include_colab_link": true
    },
    "kernelspec": {
      "display_name": "Python 3",
      "name": "python3"
    },
    "language_info": {
      "name": "python"
    }
  },
  "nbformat": 4,
  "nbformat_minor": 0
}